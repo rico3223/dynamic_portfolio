{
 "cells": [
  {
   "cell_type": "code",
   "execution_count": 1,
   "id": "7ea17300",
   "metadata": {
    "ExecuteTime": {
     "end_time": "2022-11-28T17:14:18.029054Z",
     "start_time": "2022-11-28T17:14:17.858531Z"
    }
   },
   "outputs": [],
   "source": [
    "import dynamic_portfolio"
   ]
  }
 ],
 "metadata": {
  "kernelspec": {
   "display_name": "Python 3.8.12 64-bit ('dynamic_portfolio')",
   "language": "python",
   "name": "python3"
  },
  "language_info": {
   "codemirror_mode": {
    "name": "ipython",
    "version": 3
   },
   "file_extension": ".py",
   "mimetype": "text/x-python",
   "name": "python",
   "nbconvert_exporter": "python",
   "pygments_lexer": "ipython3",
   "version": "3.8.12"
  },
  "toc": {
   "base_numbering": 1,
   "nav_menu": {},
   "number_sections": true,
   "sideBar": true,
   "skip_h1_title": false,
   "title_cell": "Table of Contents",
   "title_sidebar": "Contents",
   "toc_cell": false,
   "toc_position": {},
   "toc_section_display": true,
   "toc_window_display": false
  },
  "vscode": {
   "interpreter": {
    "hash": "c03a1e3899a2ebf68fb172184a9b3738c3db4d11725f51cdb84c4a6a6f2fa829"
   }
  }
 },
 "nbformat": 4,
 "nbformat_minor": 5
}
