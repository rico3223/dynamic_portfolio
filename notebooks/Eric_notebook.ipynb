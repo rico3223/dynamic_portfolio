{
 "cells": [
  {
   "cell_type": "code",
   "execution_count": 1,
   "id": "309e0f1c",
   "metadata": {
    "ExecuteTime": {
     "end_time": "2022-12-04T15:46:50.625397Z",
     "start_time": "2022-12-04T15:46:50.347453Z"
    }
   },
   "outputs": [],
   "source": [
    "import pandas as pd"
   ]
  },
  {
   "cell_type": "code",
   "execution_count": 2,
   "id": "8b2d1bd3",
   "metadata": {
    "ExecuteTime": {
     "end_time": "2022-12-04T15:46:50.637334Z",
     "start_time": "2022-12-04T15:46:50.633480Z"
    }
   },
   "outputs": [],
   "source": [
    "import numpy as np"
   ]
  },
  {
   "cell_type": "code",
   "execution_count": 27,
   "id": "df41a4a1",
   "metadata": {
    "ExecuteTime": {
     "end_time": "2022-12-04T17:37:52.801347Z",
     "start_time": "2022-12-04T17:37:52.797650Z"
    }
   },
   "outputs": [],
   "source": [
    "from dynamic_portfolio.utils import *\n",
    "from dynamic_portfolio.preprocess import *"
   ]
  },
  {
   "cell_type": "code",
   "execution_count": null,
   "id": "9a506b4b",
   "metadata": {},
   "outputs": [],
   "source": []
  },
  {
   "cell_type": "markdown",
   "id": "dd812be9",
   "metadata": {},
   "source": [
    "# Loading data and creating clean dataframe"
   ]
  },
  {
   "cell_type": "code",
   "execution_count": null,
   "id": "9420e32e",
   "metadata": {
    "ExecuteTime": {
     "end_time": "2022-12-02T08:52:46.475428Z",
     "start_time": "2022-12-02T08:52:46.368828Z"
    }
   },
   "outputs": [],
   "source": [
    "df = features_creation('META')"
   ]
  },
  {
   "cell_type": "code",
   "execution_count": null,
   "id": "b6363374",
   "metadata": {
    "ExecuteTime": {
     "end_time": "2022-12-04T11:04:22.770575Z",
     "start_time": "2022-12-04T11:04:22.766819Z"
    }
   },
   "outputs": [],
   "source": [
    "pd.set_option('display.max_columns', None)"
   ]
  },
  {
   "cell_type": "code",
   "execution_count": null,
   "id": "4b3f9a60",
   "metadata": {},
   "outputs": [],
   "source": []
  },
  {
   "cell_type": "markdown",
   "id": "f85d9c75",
   "metadata": {},
   "source": [
    "# Baseline"
   ]
  },
  {
   "cell_type": "code",
   "execution_count": null,
   "id": "97d01e02",
   "metadata": {
    "ExecuteTime": {
     "end_time": "2022-12-02T09:47:19.705813Z",
     "start_time": "2022-12-02T09:47:19.695224Z"
    }
   },
   "outputs": [],
   "source": [
    "backtest_mask = final_df['date'] > '2020-01-02'"
   ]
  },
  {
   "cell_type": "code",
   "execution_count": null,
   "id": "ab61a73c",
   "metadata": {
    "ExecuteTime": {
     "end_time": "2022-12-02T09:47:30.525010Z",
     "start_time": "2022-12-02T09:47:30.514652Z"
    }
   },
   "outputs": [],
   "source": [
    "backtest_df = final_df[backtest_mask]"
   ]
  },
  {
   "cell_type": "code",
   "execution_count": null,
   "id": "62e6a859",
   "metadata": {
    "ExecuteTime": {
     "end_time": "2022-12-02T09:47:52.780616Z",
     "start_time": "2022-12-02T09:47:52.770060Z"
    }
   },
   "outputs": [],
   "source": [
    "model_mask = final_df['date'] <= '2020-01-02'"
   ]
  },
  {
   "cell_type": "code",
   "execution_count": null,
   "id": "c6502c4a",
   "metadata": {
    "ExecuteTime": {
     "end_time": "2022-12-02T09:48:06.947677Z",
     "start_time": "2022-12-02T09:48:06.937298Z"
    }
   },
   "outputs": [],
   "source": [
    "model_df = final_df[model_mask]"
   ]
  },
  {
   "cell_type": "code",
   "execution_count": null,
   "id": "748e0773",
   "metadata": {
    "ExecuteTime": {
     "end_time": "2022-12-02T09:49:53.865638Z",
     "start_time": "2022-12-02T09:49:53.855992Z"
    }
   },
   "outputs": [],
   "source": [
    "model_df[['return']].iloc[-1]"
   ]
  },
  {
   "cell_type": "code",
   "execution_count": null,
   "id": "7f7cf2fa",
   "metadata": {
    "ExecuteTime": {
     "end_time": "2022-12-02T09:50:34.046060Z",
     "start_time": "2022-12-02T09:50:34.031845Z"
    }
   },
   "outputs": [],
   "source": [
    "backtest_df[['return']].iloc[0]"
   ]
  },
  {
   "cell_type": "code",
   "execution_count": null,
   "id": "c43d089e",
   "metadata": {
    "ExecuteTime": {
     "end_time": "2022-12-02T09:51:47.407365Z",
     "start_time": "2022-12-02T09:51:47.396939Z"
    }
   },
   "outputs": [],
   "source": [
    "from sklearn.metrics import mean_squared_error"
   ]
  },
  {
   "cell_type": "code",
   "execution_count": null,
   "id": "74b0b9b7",
   "metadata": {
    "ExecuteTime": {
     "end_time": "2022-12-02T09:52:27.597020Z",
     "start_time": "2022-12-02T09:52:27.581352Z"
    }
   },
   "outputs": [],
   "source": [
    "mean_squared_error(backtest_df[['return']].iloc[0],model_df[['return']].iloc[-1])**0.5"
   ]
  },
  {
   "cell_type": "code",
   "execution_count": null,
   "id": "108ede48",
   "metadata": {
    "ExecuteTime": {
     "end_time": "2022-12-02T14:23:33.612896Z",
     "start_time": "2022-12-02T14:23:33.604335Z"
    }
   },
   "outputs": [],
   "source": [
    "def baseline_model(df):\n",
    "    df = y_train\n",
    "    y_pred = y_train[-1]\n",
    "    return y_pred"
   ]
  },
  {
   "cell_type": "code",
   "execution_count": null,
   "id": "cceb28ab",
   "metadata": {
    "ExecuteTime": {
     "end_time": "2022-12-02T13:17:42.329130Z",
     "start_time": "2022-12-02T13:17:42.323890Z"
    }
   },
   "outputs": [],
   "source": [
    "def rmse():\n",
    "    rmse = (np.mean((y_test[0]-y_pred)**2))**0.5\n",
    "    return rmse"
   ]
  },
  {
   "cell_type": "code",
   "execution_count": null,
   "id": "a6f00733",
   "metadata": {},
   "outputs": [],
   "source": []
  },
  {
   "cell_type": "code",
   "execution_count": null,
   "id": "848ad2cf",
   "metadata": {
    "ExecuteTime": {
     "end_time": "2022-12-02T10:28:56.376944Z",
     "start_time": "2022-12-02T10:28:56.370205Z"
    }
   },
   "outputs": [],
   "source": [
    "X = model_df.drop(columns=['date'])"
   ]
  },
  {
   "cell_type": "code",
   "execution_count": null,
   "id": "cafa031c",
   "metadata": {
    "ExecuteTime": {
     "end_time": "2022-12-02T10:28:58.685892Z",
     "start_time": "2022-12-02T10:28:58.678532Z"
    }
   },
   "outputs": [],
   "source": [
    "y = model_df['return']"
   ]
  },
  {
   "cell_type": "code",
   "execution_count": null,
   "id": "eb1003b9",
   "metadata": {
    "ExecuteTime": {
     "end_time": "2022-12-02T10:04:29.786507Z",
     "start_time": "2022-12-02T10:04:26.807069Z"
    }
   },
   "outputs": [],
   "source": [
    "model = model.fit(X,y)"
   ]
  },
  {
   "cell_type": "code",
   "execution_count": null,
   "id": "a824c20b",
   "metadata": {
    "ExecuteTime": {
     "end_time": "2022-12-02T10:42:46.441434Z",
     "start_time": "2022-12-02T10:42:46.431521Z"
    }
   },
   "outputs": [],
   "source": [
    "backtest_df = backtest_df.drop(columns=['date'])"
   ]
  },
  {
   "cell_type": "code",
   "execution_count": null,
   "id": "ae720412",
   "metadata": {
    "ExecuteTime": {
     "end_time": "2022-12-02T10:42:48.931221Z",
     "start_time": "2022-12-02T10:42:48.920784Z"
    }
   },
   "outputs": [],
   "source": [
    "y_true = backtest_df['return']"
   ]
  },
  {
   "cell_type": "code",
   "execution_count": null,
   "id": "43294384",
   "metadata": {
    "ExecuteTime": {
     "end_time": "2022-12-02T11:15:33.911290Z",
     "start_time": "2022-12-02T11:15:33.899988Z"
    }
   },
   "outputs": [],
   "source": [
    "y_true"
   ]
  },
  {
   "cell_type": "code",
   "execution_count": null,
   "id": "92d209a8",
   "metadata": {
    "ExecuteTime": {
     "end_time": "2022-12-02T11:11:26.345592Z",
     "start_time": "2022-12-02T11:11:26.324158Z"
    }
   },
   "outputs": [],
   "source": [
    "backtest_df.iloc[[3]]"
   ]
  },
  {
   "cell_type": "code",
   "execution_count": null,
   "id": "07309833",
   "metadata": {
    "ExecuteTime": {
     "end_time": "2022-12-02T11:12:20.491838Z",
     "start_time": "2022-12-02T11:12:20.453425Z"
    }
   },
   "outputs": [],
   "source": [
    "backtest_df"
   ]
  },
  {
   "cell_type": "code",
   "execution_count": null,
   "id": "f7478258",
   "metadata": {
    "ExecuteTime": {
     "end_time": "2022-12-02T11:17:43.991134Z",
     "start_time": "2022-12-02T11:17:31.103743Z"
    }
   },
   "outputs": [],
   "source": [
    "y_pred = []\n",
    "backtest_df.reset_index(drop=True, inplace=True)\n",
    "for i in range(len(backtest_df)):\n",
    "    pred = model.predict(backtest_df.iloc[[i]])\n",
    "    y_pred.append(pred)\n",
    "\n",
    "y_pred = np.array(y_pred)"
   ]
  },
  {
   "cell_type": "code",
   "execution_count": null,
   "id": "6ba478e1",
   "metadata": {
    "ExecuteTime": {
     "end_time": "2022-12-02T11:19:12.710599Z",
     "start_time": "2022-12-02T11:19:12.698645Z"
    }
   },
   "outputs": [],
   "source": [
    "y_pred[:,0].shape"
   ]
  },
  {
   "cell_type": "code",
   "execution_count": null,
   "id": "f075c8fd",
   "metadata": {
    "ExecuteTime": {
     "end_time": "2022-12-02T11:18:23.750503Z",
     "start_time": "2022-12-02T11:18:23.741626Z"
    }
   },
   "outputs": [],
   "source": [
    "y_true.shape"
   ]
  },
  {
   "cell_type": "code",
   "execution_count": null,
   "id": "435f380a",
   "metadata": {
    "ExecuteTime": {
     "end_time": "2022-12-02T11:19:23.881732Z",
     "start_time": "2022-12-02T11:19:23.876016Z"
    }
   },
   "outputs": [],
   "source": [
    "rmse = (np.mean((y_true-y_pred[:,0])**2))**0.5"
   ]
  },
  {
   "cell_type": "code",
   "execution_count": null,
   "id": "122ae07f",
   "metadata": {
    "ExecuteTime": {
     "end_time": "2022-12-02T11:19:27.769826Z",
     "start_time": "2022-12-02T11:19:27.757515Z"
    }
   },
   "outputs": [],
   "source": [
    "rmse"
   ]
  },
  {
   "cell_type": "markdown",
   "id": "99b4401f",
   "metadata": {},
   "source": [
    "# Cross vals"
   ]
  },
  {
   "cell_type": "markdown",
   "id": "2b61734c",
   "metadata": {},
   "source": [
    "We use sklearn's time series split to break up the data in different folds\n",
    "We use a sklearn example to run the first tests.\n",
    "\n",
    "Metrics used : \n",
    " - rmse\n",
    " - mae\n",
    " - R2"
   ]
  },
  {
   "cell_type": "code",
   "execution_count": null,
   "id": "d0c719f6",
   "metadata": {
    "ExecuteTime": {
     "end_time": "2022-12-02T08:19:59.345931Z",
     "start_time": "2022-12-02T08:19:59.326127Z"
    }
   },
   "outputs": [],
   "source": [
    "from sklearn.model_selection import TimeSeriesSplit"
   ]
  },
  {
   "cell_type": "code",
   "execution_count": null,
   "id": "19aff74a",
   "metadata": {
    "ExecuteTime": {
     "end_time": "2022-12-02T08:55:44.151243Z",
     "start_time": "2022-12-02T08:55:44.141942Z"
    }
   },
   "outputs": [],
   "source": [
    "ts_cv = TimeSeriesSplit(\n",
    "    n_splits=20,\n",
    "    gap=0,\n",
    "    max_train_size=252,\n",
    "    test_size=45,\n",
    ")"
   ]
  },
  {
   "cell_type": "code",
   "execution_count": 4,
   "id": "8dcdc4ce",
   "metadata": {
    "ExecuteTime": {
     "end_time": "2022-12-04T15:47:05.458370Z",
     "start_time": "2022-12-04T15:47:05.385123Z"
    }
   },
   "outputs": [],
   "source": [
    "from sklearn.ensemble import HistGradientBoostingRegressor\n",
    "from sklearn.model_selection import cross_validate\n",
    "from sklearn.model_selection import cross_val_score\n",
    "from sklearn.metrics import mean_squared_error"
   ]
  },
  {
   "cell_type": "code",
   "execution_count": null,
   "id": "ef85a3b0",
   "metadata": {},
   "outputs": [],
   "source": []
  },
  {
   "cell_type": "code",
   "execution_count": 5,
   "id": "c60070cd",
   "metadata": {
    "ExecuteTime": {
     "end_time": "2022-12-04T15:47:51.281478Z",
     "start_time": "2022-12-04T15:47:51.271448Z"
    }
   },
   "outputs": [
    {
     "ename": "SyntaxError",
     "evalue": "incomplete input (671652115.py, line 2)",
     "output_type": "error",
     "traceback": [
      "\u001b[0;36m  Cell \u001b[0;32mIn[5], line 2\u001b[0;36m\u001b[0m\n\u001b[0;31m    \u001b[0m\n\u001b[0m    ^\u001b[0m\n\u001b[0;31mSyntaxError\u001b[0m\u001b[0;31m:\u001b[0m incomplete input\n"
     ]
    }
   ],
   "source": [
    "def baseline_model():\n",
    "    "
   ]
  },
  {
   "cell_type": "code",
   "execution_count": 6,
   "id": "286365a0",
   "metadata": {
    "ExecuteTime": {
     "end_time": "2022-12-04T15:47:54.527809Z",
     "start_time": "2022-12-04T15:47:54.519864Z"
    }
   },
   "outputs": [],
   "source": [
    "model = HistGradientBoostingRegressor()"
   ]
  },
  {
   "cell_type": "code",
   "execution_count": null,
   "id": "db0f2a9c",
   "metadata": {
    "ExecuteTime": {
     "end_time": "2022-12-02T08:54:01.669818Z",
     "start_time": "2022-12-02T08:54:01.661065Z"
    }
   },
   "outputs": [],
   "source": [
    "def evaluate(model, X, y, cv):\n",
    "    cv_results = cross_validate(\n",
    "        model,\n",
    "        X,\n",
    "        y,\n",
    "        cv=cv,\n",
    "        scoring=[\"neg_mean_absolute_error\", \"neg_root_mean_squared_error\"],\n",
    "    )\n",
    "    mae = -cv_results[\"test_neg_mean_absolute_error\"]\n",
    "    rmse = -cv_results[\"test_neg_root_mean_squared_error\"]\n",
    "    print(\n",
    "        f\"Mean Absolute Error:     {mae.mean():.6f} +/- {mae.std():.6f}\\n\"\n",
    "        f\"Root Mean Squared Error: {rmse.mean():.6f} +/- {rmse.std():.6f}\"\n",
    "    )\n"
   ]
  },
  {
   "cell_type": "code",
   "execution_count": null,
   "id": "e0b4b633",
   "metadata": {},
   "outputs": [],
   "source": [
    "import seaborn as sns"
   ]
  },
  {
   "cell_type": "code",
   "execution_count": null,
   "id": "7200e5be",
   "metadata": {
    "ExecuteTime": {
     "end_time": "2022-12-02T10:29:28.403855Z",
     "start_time": "2022-12-02T10:29:10.200862Z"
    }
   },
   "outputs": [],
   "source": [
    "evaluate(model, X, y, ts_cv)"
   ]
  },
  {
   "cell_type": "code",
   "execution_count": null,
   "id": "28568988",
   "metadata": {
    "ExecuteTime": {
     "end_time": "2022-12-02T08:56:28.946909Z",
     "start_time": "2022-12-02T08:56:12.630430Z"
    }
   },
   "outputs": [],
   "source": [
    "scores = cross_val_score(model, X, y, cv = ts_cv)"
   ]
  },
  {
   "cell_type": "code",
   "execution_count": null,
   "id": "0e51c387",
   "metadata": {
    "ExecuteTime": {
     "end_time": "2022-12-02T08:56:28.950518Z",
     "start_time": "2022-12-02T08:56:28.948143Z"
    }
   },
   "outputs": [],
   "source": [
    "scores = np.mean(scores)\n",
    "scores"
   ]
  },
  {
   "cell_type": "markdown",
   "id": "9c8587a1",
   "metadata": {},
   "source": [
    "# PCA Analysis"
   ]
  },
  {
   "cell_type": "code",
   "execution_count": null,
   "id": "c7e3e006",
   "metadata": {
    "ExecuteTime": {
     "end_time": "2022-12-02T15:54:38.785596Z",
     "start_time": "2022-12-02T15:54:38.358545Z"
    }
   },
   "outputs": [],
   "source": [
    "from sklearn.decomposition import PCA"
   ]
  },
  {
   "cell_type": "code",
   "execution_count": null,
   "id": "f969385c",
   "metadata": {
    "ExecuteTime": {
     "end_time": "2022-12-02T16:00:36.962695Z",
     "start_time": "2022-12-02T16:00:36.906232Z"
    }
   },
   "outputs": [],
   "source": [
    "pca = PCA(n_components = 0.95)\n",
    "X_pca = pca.fit_transform(aapl) \n",
    "print(pca.n_components_) "
   ]
  },
  {
   "cell_type": "code",
   "execution_count": null,
   "id": "f3b5eb29",
   "metadata": {
    "ExecuteTime": {
     "end_time": "2022-12-02T16:15:03.849238Z",
     "start_time": "2022-12-02T16:15:03.838154Z"
    }
   },
   "outputs": [],
   "source": [
    "pca.n_components"
   ]
  },
  {
   "cell_type": "code",
   "execution_count": null,
   "id": "dd4e9cb8",
   "metadata": {
    "ExecuteTime": {
     "end_time": "2022-12-02T16:09:15.591731Z",
     "start_time": "2022-12-02T16:09:15.583835Z"
    }
   },
   "outputs": [],
   "source": [
    "pd.set_option('display.max_columns', None)"
   ]
  },
  {
   "cell_type": "code",
   "execution_count": null,
   "id": "8394d809",
   "metadata": {
    "ExecuteTime": {
     "end_time": "2022-12-02T16:04:14.675957Z",
     "start_time": "2022-12-02T16:04:14.504368Z"
    }
   },
   "outputs": [],
   "source": [
    "import matplotlib.pyplot as plt"
   ]
  },
  {
   "cell_type": "code",
   "execution_count": null,
   "id": "b68b5dac",
   "metadata": {
    "ExecuteTime": {
     "end_time": "2022-12-02T16:10:51.984562Z",
     "start_time": "2022-12-02T16:10:51.973436Z"
    }
   },
   "outputs": [],
   "source": [
    "len(np.unique(pd.DataFrame(pca.components_, columns = aapl.columns).columns))\n"
   ]
  },
  {
   "cell_type": "code",
   "execution_count": null,
   "id": "d47352ed",
   "metadata": {
    "ExecuteTime": {
     "end_time": "2022-12-02T16:04:15.654004Z",
     "start_time": "2022-12-02T16:04:15.543918Z"
    }
   },
   "outputs": [],
   "source": [
    "plt.plot(np.cumsum(pca.explained_variance_ratio_))\n",
    "plt.xlabel('number of components')\n",
    "plt.ylabel('cumulative explained variance');"
   ]
  },
  {
   "cell_type": "code",
   "execution_count": null,
   "id": "f2423bab",
   "metadata": {
    "ExecuteTime": {
     "end_time": "2022-12-02T16:04:59.427165Z",
     "start_time": "2022-12-02T16:04:59.419280Z"
    }
   },
   "outputs": [],
   "source": [
    "n_pcs= pca.n_components_ \n",
    "# get the index of the most important feature on EACH component\n",
    "most_important = [np.abs(pca.components_[i]).argmax() for i in range(n_pcs)]\n",
    "initial_feature_names = aapl.columns\n",
    "# get the most important feature names\n",
    "most_important_names = [initial_feature_names[most_important[i]] for i in range(n_pcs)]"
   ]
  },
  {
   "cell_type": "code",
   "execution_count": null,
   "id": "bae3e0f9",
   "metadata": {
    "ExecuteTime": {
     "end_time": "2022-12-02T16:13:34.623358Z",
     "start_time": "2022-12-02T16:13:34.612475Z"
    }
   },
   "outputs": [],
   "source": [
    "n_pcs"
   ]
  },
  {
   "cell_type": "code",
   "execution_count": null,
   "id": "75ed9219",
   "metadata": {
    "ExecuteTime": {
     "end_time": "2022-12-02T16:14:00.891224Z",
     "start_time": "2022-12-02T16:14:00.880848Z"
    }
   },
   "outputs": [],
   "source": [
    "len(np.unique(most_important_names))"
   ]
  },
  {
   "cell_type": "code",
   "execution_count": null,
   "id": "51805ce4",
   "metadata": {
    "ExecuteTime": {
     "end_time": "2022-12-02T16:15:54.503206Z",
     "start_time": "2022-12-02T16:15:54.495697Z"
    }
   },
   "outputs": [],
   "source": [
    "np.unique(most_important_names)"
   ]
  },
  {
   "cell_type": "code",
   "execution_count": 7,
   "id": "f8ef612d",
   "metadata": {
    "ExecuteTime": {
     "end_time": "2022-12-04T15:48:03.724364Z",
     "start_time": "2022-12-04T15:48:03.714553Z"
    }
   },
   "outputs": [],
   "source": [
    "from dynamic_portfolio.cross_validate import *"
   ]
  },
  {
   "cell_type": "code",
   "execution_count": 8,
   "id": "f735b3ec",
   "metadata": {
    "ExecuteTime": {
     "end_time": "2022-12-04T15:48:19.365792Z",
     "start_time": "2022-12-04T15:48:19.357803Z"
    }
   },
   "outputs": [],
   "source": [
    "from sklearn.metrics import mean_squared_error"
   ]
  },
  {
   "cell_type": "code",
   "execution_count": 16,
   "id": "6e29d0e8",
   "metadata": {
    "ExecuteTime": {
     "end_time": "2022-12-04T16:05:18.971516Z",
     "start_time": "2022-12-04T16:05:18.966981Z"
    }
   },
   "outputs": [],
   "source": [
    "fold_length = 125 #\n",
    "fold_stride = 60 #1 trimestre\n",
    "train_test_ratio = 0.7\n",
    "input_length = 10\n",
    "horizon = 1\n",
    "output_length = 1\n",
    "stride = 1"
   ]
  },
  {
   "cell_type": "code",
   "execution_count": 10,
   "id": "fd442af0",
   "metadata": {
    "ExecuteTime": {
     "end_time": "2022-12-04T15:48:21.584727Z",
     "start_time": "2022-12-04T15:48:21.575154Z"
    }
   },
   "outputs": [],
   "source": [
    "def get_folds(\n",
    "    df: pd.DataFrame,\n",
    "    fold_length: int,\n",
    "    fold_stride: int):\n",
    "    '''\n",
    "    This function slides through the Time Series dataframe of shape (n_timesteps, n_features) to create folds\n",
    "    - of equal `fold_length`\n",
    "    - using `fold_stride` between each fold\n",
    "\n",
    "    Returns a list of folds, each as a DataFrame\n",
    "    '''\n",
    "\n",
    "    folds = []\n",
    "    for idx in range(0, len(df), fold_stride):\n",
    "        # Exits the loop as soon as the last fold index would exceed the last index\n",
    "        if (idx + fold_length) > len(df):\n",
    "            break\n",
    "        fold = df.iloc[idx:idx + fold_length, :]\n",
    "        folds.append(fold)\n",
    "    return folds"
   ]
  },
  {
   "cell_type": "code",
   "execution_count": 11,
   "id": "5f1dc45b",
   "metadata": {
    "ExecuteTime": {
     "end_time": "2022-12-04T15:48:22.459685Z",
     "start_time": "2022-12-04T15:48:22.451073Z"
    }
   },
   "outputs": [],
   "source": [
    "def train_test_split(fold: pd.DataFrame,\n",
    "                     train_test_ratio: float,\n",
    "                     input_length: int,\n",
    "                     horizon: int) :\n",
    "    '''\n",
    "    Returns a train dataframe and a test dataframe (fold_train, fold_test)\n",
    "    from which one can sample (X,y) sequences.\n",
    "    df_train should contain all the timesteps until round(train_test_ratio * len(fold))\n",
    "    '''\n",
    "\n",
    "    # TRAIN SET\n",
    "    # ======================\n",
    "    last_train_idx = round(train_test_ratio * len(fold))\n",
    "    fold_train = fold.iloc[0:last_train_idx, :]\n",
    "\n",
    "    # TEST SET\n",
    "    # ======================\n",
    "    first_test_idx = last_train_idx - input_length\n",
    "    fold_test = fold.iloc[first_test_idx:, :]\n",
    "\n",
    "    return (fold_train, fold_test)\n",
    "\n"
   ]
  },
  {
   "cell_type": "code",
   "execution_count": 26,
   "id": "53822dc9",
   "metadata": {
    "ExecuteTime": {
     "end_time": "2022-12-04T17:36:48.051774Z",
     "start_time": "2022-12-04T17:36:48.037839Z"
    }
   },
   "outputs": [],
   "source": [
    "def cross_validate_ml(df) :\n",
    "    '''\n",
    "    get_folds() create many FOLDS, train_test_split() create a split on ONE FOLDS.\n",
    "    The goal of this function is to make splits and sequences on each FOLDS.\n",
    "    Then, apply a model.\n",
    "    '''\n",
    "    folds = get_folds(df, fold_length, fold_stride) # 1 - Creating FOLDS\n",
    "    rmses_model = []\n",
    "    rmses_baseline = []\n",
    "    \n",
    "    for fold_id, fold in enumerate(folds):\n",
    "\n",
    "        # 2 - CHRONOLOGICAL TRAIN TEST SPLIT of the current FOLD\n",
    "\n",
    "        (fold_train, fold_test) = train_test_split(fold = fold,\n",
    "                                                train_test_ratio=train_test_ratio,\n",
    "                                                input_length = input_length,\n",
    "                                                horizon=horizon)\n",
    "\n",
    "        # 3 - Scanninng fold_train and fold_test for SEQUENCES\n",
    "\n",
    "        X_train, y_train = fold_train, fold_train['return']\n",
    "\n",
    "        X_test, y_test = fold_test, fold_test['return']\n",
    "\n",
    "        model = RandomForestRegressor()\n",
    "        model.fit(X_train, y_train)\n",
    "        rmse_model = (mean_squared_error(y_test, model.predict(X_test)))**0.5\n",
    "        rmses_model.append(rmse_model)\n",
    "        \n",
    "        #print(type(y_train))\n",
    "        #rmse_baseline = mean_squared_error(y_test.iloc[[0]], y_train.iloc[[-1]])**0.5\n",
    "        #rmses_baseline.append(rmse_baseline)\n",
    "        \n",
    "    \n",
    "        \n",
    "        \n",
    "        \n",
    "    return np.mean(rmses_model)\n",
    "        \n",
    "        "
   ]
  },
  {
   "cell_type": "code",
   "execution_count": 19,
   "id": "e4719cd9",
   "metadata": {
    "ExecuteTime": {
     "end_time": "2022-12-04T16:08:08.693654Z",
     "start_time": "2022-12-04T16:07:28.982862Z"
    }
   },
   "outputs": [],
   "source": [
    "model, baseline = cross_validate_ml(df)[0], cross_validate_ml(df)[1]"
   ]
  },
  {
   "cell_type": "code",
   "execution_count": null,
   "id": "ad3e3a78",
   "metadata": {
    "ExecuteTime": {
     "end_time": "2022-12-04T12:28:00.929259Z",
     "start_time": "2022-12-04T12:28:00.926891Z"
    }
   },
   "outputs": [],
   "source": [
    "improvement = baseline/model\n",
    "improvement"
   ]
  },
  {
   "cell_type": "code",
   "execution_count": null,
   "id": "38315970",
   "metadata": {
    "ExecuteTime": {
     "end_time": "2022-12-04T14:18:30.138461Z",
     "start_time": "2022-12-04T14:18:30.131113Z"
    }
   },
   "outputs": [],
   "source": [
    "baseline"
   ]
  },
  {
   "cell_type": "code",
   "execution_count": 20,
   "id": "2c1dfba4",
   "metadata": {
    "ExecuteTime": {
     "end_time": "2022-12-04T16:08:08.697251Z",
     "start_time": "2022-12-04T16:08:08.694932Z"
    }
   },
   "outputs": [
    {
     "data": {
      "text/plain": [
       "0.009383829786538582"
      ]
     },
     "execution_count": 20,
     "metadata": {},
     "output_type": "execute_result"
    }
   ],
   "source": [
    "model"
   ]
  },
  {
   "cell_type": "code",
   "execution_count": 13,
   "id": "0c10eb5b",
   "metadata": {
    "ExecuteTime": {
     "end_time": "2022-12-04T15:48:28.181273Z",
     "start_time": "2022-12-04T15:48:28.173046Z"
    }
   },
   "outputs": [],
   "source": [
    "tickers = return_tickers()"
   ]
  },
  {
   "cell_type": "code",
   "execution_count": 24,
   "id": "f1e63a0c",
   "metadata": {
    "ExecuteTime": {
     "end_time": "2022-12-04T17:33:40.757144Z",
     "start_time": "2022-12-04T17:33:40.736158Z"
    }
   },
   "outputs": [
    {
     "ename": "TypeError",
     "evalue": "list indices must be integers or slices, not str",
     "output_type": "error",
     "traceback": [
      "\u001b[0;31m---------------------------------------------------------------------------\u001b[0m",
      "\u001b[0;31mTypeError\u001b[0m                                 Traceback (most recent call last)",
      "Cell \u001b[0;32mIn[24], line 1\u001b[0m\n\u001b[0;32m----> 1\u001b[0m \u001b[43mtickers\u001b[49m\u001b[43m[\u001b[49m\u001b[38;5;124;43m'\u001b[39;49m\u001b[38;5;124;43mBF.B\u001b[39;49m\u001b[38;5;124;43m'\u001b[39;49m\u001b[43m]\u001b[49m\n",
      "\u001b[0;31mTypeError\u001b[0m: list indices must be integers or slices, not str"
     ]
    }
   ],
   "source": [
    "tickers['BF.B']"
   ]
  },
  {
   "cell_type": "code",
   "execution_count": 25,
   "id": "24f0de48",
   "metadata": {
    "ExecuteTime": {
     "end_time": "2022-12-04T17:36:35.732502Z",
     "start_time": "2022-12-04T17:36:35.727219Z"
    }
   },
   "outputs": [],
   "source": [
    "from sklearn.ensemble import RandomForestRegressor"
   ]
  },
  {
   "cell_type": "code",
   "execution_count": 14,
   "id": "abe7e11a",
   "metadata": {
    "ExecuteTime": {
     "end_time": "2022-12-04T15:48:36.481460Z",
     "start_time": "2022-12-04T15:48:36.465742Z"
    }
   },
   "outputs": [
    {
     "data": {
      "text/plain": [
       "497"
      ]
     },
     "execution_count": 14,
     "metadata": {},
     "output_type": "execute_result"
    }
   ],
   "source": [
    "len(tickers)"
   ]
  },
  {
   "cell_type": "code",
   "execution_count": null,
   "id": "d34f9bfe",
   "metadata": {
    "ExecuteTime": {
     "start_time": "2022-12-04T17:38:00.677Z"
    }
   },
   "outputs": [
    {
     "name": "stderr",
     "output_type": "stream",
     "text": [
      "/Users/ericvincent/code/dynamic_portfolio/dynamic_portfolio/utils.py:106: SettingWithCopyWarning: \n",
      "A value is trying to be set on a copy of a slice from a DataFrame\n",
      "\n",
      "See the caveats in the documentation: https://pandas.pydata.org/pandas-docs/stable/user_guide/indexing.html#returning-a-view-versus-a-copy\n",
      "  second_split.dropna(inplace=True)\n",
      "/Users/ericvincent/code/dynamic_portfolio/dynamic_portfolio/utils.py:128: SettingWithCopyWarning: \n",
      "A value is trying to be set on a copy of a slice from a DataFrame\n",
      "\n",
      "See the caveats in the documentation: https://pandas.pydata.org/pandas-docs/stable/user_guide/indexing.html#returning-a-view-versus-a-copy\n",
      "  final_df['return'][0]=0\n",
      "/Users/ericvincent/code/dynamic_portfolio/dynamic_portfolio/utils.py:106: SettingWithCopyWarning: \n",
      "A value is trying to be set on a copy of a slice from a DataFrame\n",
      "\n",
      "See the caveats in the documentation: https://pandas.pydata.org/pandas-docs/stable/user_guide/indexing.html#returning-a-view-versus-a-copy\n",
      "  second_split.dropna(inplace=True)\n",
      "/Users/ericvincent/code/dynamic_portfolio/dynamic_portfolio/utils.py:128: SettingWithCopyWarning: \n",
      "A value is trying to be set on a copy of a slice from a DataFrame\n",
      "\n",
      "See the caveats in the documentation: https://pandas.pydata.org/pandas-docs/stable/user_guide/indexing.html#returning-a-view-versus-a-copy\n",
      "  final_df['return'][0]=0\n",
      "/Users/ericvincent/code/dynamic_portfolio/dynamic_portfolio/utils.py:106: SettingWithCopyWarning: \n",
      "A value is trying to be set on a copy of a slice from a DataFrame\n",
      "\n",
      "See the caveats in the documentation: https://pandas.pydata.org/pandas-docs/stable/user_guide/indexing.html#returning-a-view-versus-a-copy\n",
      "  second_split.dropna(inplace=True)\n",
      "/Users/ericvincent/code/dynamic_portfolio/dynamic_portfolio/utils.py:128: SettingWithCopyWarning: \n",
      "A value is trying to be set on a copy of a slice from a DataFrame\n",
      "\n",
      "See the caveats in the documentation: https://pandas.pydata.org/pandas-docs/stable/user_guide/indexing.html#returning-a-view-versus-a-copy\n",
      "  final_df['return'][0]=0\n",
      "/Users/ericvincent/code/dynamic_portfolio/dynamic_portfolio/utils.py:106: SettingWithCopyWarning: \n",
      "A value is trying to be set on a copy of a slice from a DataFrame\n",
      "\n",
      "See the caveats in the documentation: https://pandas.pydata.org/pandas-docs/stable/user_guide/indexing.html#returning-a-view-versus-a-copy\n",
      "  second_split.dropna(inplace=True)\n",
      "/Users/ericvincent/code/dynamic_portfolio/dynamic_portfolio/utils.py:128: SettingWithCopyWarning: \n",
      "A value is trying to be set on a copy of a slice from a DataFrame\n",
      "\n",
      "See the caveats in the documentation: https://pandas.pydata.org/pandas-docs/stable/user_guide/indexing.html#returning-a-view-versus-a-copy\n",
      "  final_df['return'][0]=0\n",
      "/Users/ericvincent/code/dynamic_portfolio/dynamic_portfolio/utils.py:106: SettingWithCopyWarning: \n",
      "A value is trying to be set on a copy of a slice from a DataFrame\n",
      "\n",
      "See the caveats in the documentation: https://pandas.pydata.org/pandas-docs/stable/user_guide/indexing.html#returning-a-view-versus-a-copy\n",
      "  second_split.dropna(inplace=True)\n",
      "/Users/ericvincent/code/dynamic_portfolio/dynamic_portfolio/utils.py:128: SettingWithCopyWarning: \n",
      "A value is trying to be set on a copy of a slice from a DataFrame\n",
      "\n",
      "See the caveats in the documentation: https://pandas.pydata.org/pandas-docs/stable/user_guide/indexing.html#returning-a-view-versus-a-copy\n",
      "  final_df['return'][0]=0\n",
      "/Users/ericvincent/code/dynamic_portfolio/dynamic_portfolio/utils.py:106: SettingWithCopyWarning: \n",
      "A value is trying to be set on a copy of a slice from a DataFrame\n",
      "\n",
      "See the caveats in the documentation: https://pandas.pydata.org/pandas-docs/stable/user_guide/indexing.html#returning-a-view-versus-a-copy\n",
      "  second_split.dropna(inplace=True)\n",
      "/Users/ericvincent/code/dynamic_portfolio/dynamic_portfolio/utils.py:128: SettingWithCopyWarning: \n",
      "A value is trying to be set on a copy of a slice from a DataFrame\n",
      "\n",
      "See the caveats in the documentation: https://pandas.pydata.org/pandas-docs/stable/user_guide/indexing.html#returning-a-view-versus-a-copy\n",
      "  final_df['return'][0]=0\n",
      "/Users/ericvincent/code/dynamic_portfolio/dynamic_portfolio/utils.py:106: SettingWithCopyWarning: \n",
      "A value is trying to be set on a copy of a slice from a DataFrame\n",
      "\n",
      "See the caveats in the documentation: https://pandas.pydata.org/pandas-docs/stable/user_guide/indexing.html#returning-a-view-versus-a-copy\n",
      "  second_split.dropna(inplace=True)\n",
      "/Users/ericvincent/code/dynamic_portfolio/dynamic_portfolio/utils.py:128: SettingWithCopyWarning: \n",
      "A value is trying to be set on a copy of a slice from a DataFrame\n",
      "\n",
      "See the caveats in the documentation: https://pandas.pydata.org/pandas-docs/stable/user_guide/indexing.html#returning-a-view-versus-a-copy\n",
      "  final_df['return'][0]=0\n",
      "/Users/ericvincent/code/dynamic_portfolio/dynamic_portfolio/utils.py:106: SettingWithCopyWarning: \n",
      "A value is trying to be set on a copy of a slice from a DataFrame\n",
      "\n",
      "See the caveats in the documentation: https://pandas.pydata.org/pandas-docs/stable/user_guide/indexing.html#returning-a-view-versus-a-copy\n",
      "  second_split.dropna(inplace=True)\n",
      "/Users/ericvincent/code/dynamic_portfolio/dynamic_portfolio/utils.py:128: SettingWithCopyWarning: \n",
      "A value is trying to be set on a copy of a slice from a DataFrame\n",
      "\n",
      "See the caveats in the documentation: https://pandas.pydata.org/pandas-docs/stable/user_guide/indexing.html#returning-a-view-versus-a-copy\n",
      "  final_df['return'][0]=0\n",
      "/Users/ericvincent/code/dynamic_portfolio/dynamic_portfolio/utils.py:106: SettingWithCopyWarning: \n",
      "A value is trying to be set on a copy of a slice from a DataFrame\n",
      "\n",
      "See the caveats in the documentation: https://pandas.pydata.org/pandas-docs/stable/user_guide/indexing.html#returning-a-view-versus-a-copy\n",
      "  second_split.dropna(inplace=True)\n",
      "/Users/ericvincent/code/dynamic_portfolio/dynamic_portfolio/utils.py:128: SettingWithCopyWarning: \n",
      "A value is trying to be set on a copy of a slice from a DataFrame\n",
      "\n",
      "See the caveats in the documentation: https://pandas.pydata.org/pandas-docs/stable/user_guide/indexing.html#returning-a-view-versus-a-copy\n",
      "  final_df['return'][0]=0\n",
      "/Users/ericvincent/code/dynamic_portfolio/dynamic_portfolio/utils.py:106: SettingWithCopyWarning: \n",
      "A value is trying to be set on a copy of a slice from a DataFrame\n",
      "\n",
      "See the caveats in the documentation: https://pandas.pydata.org/pandas-docs/stable/user_guide/indexing.html#returning-a-view-versus-a-copy\n",
      "  second_split.dropna(inplace=True)\n",
      "/Users/ericvincent/code/dynamic_portfolio/dynamic_portfolio/utils.py:128: SettingWithCopyWarning: \n",
      "A value is trying to be set on a copy of a slice from a DataFrame\n",
      "\n",
      "See the caveats in the documentation: https://pandas.pydata.org/pandas-docs/stable/user_guide/indexing.html#returning-a-view-versus-a-copy\n",
      "  final_df['return'][0]=0\n",
      "/Users/ericvincent/code/dynamic_portfolio/dynamic_portfolio/utils.py:106: SettingWithCopyWarning: \n",
      "A value is trying to be set on a copy of a slice from a DataFrame\n",
      "\n",
      "See the caveats in the documentation: https://pandas.pydata.org/pandas-docs/stable/user_guide/indexing.html#returning-a-view-versus-a-copy\n",
      "  second_split.dropna(inplace=True)\n",
      "/Users/ericvincent/code/dynamic_portfolio/dynamic_portfolio/utils.py:128: SettingWithCopyWarning: \n",
      "A value is trying to be set on a copy of a slice from a DataFrame\n",
      "\n",
      "See the caveats in the documentation: https://pandas.pydata.org/pandas-docs/stable/user_guide/indexing.html#returning-a-view-versus-a-copy\n",
      "  final_df['return'][0]=0\n",
      "/Users/ericvincent/code/dynamic_portfolio/dynamic_portfolio/utils.py:106: SettingWithCopyWarning: \n",
      "A value is trying to be set on a copy of a slice from a DataFrame\n",
      "\n",
      "See the caveats in the documentation: https://pandas.pydata.org/pandas-docs/stable/user_guide/indexing.html#returning-a-view-versus-a-copy\n",
      "  second_split.dropna(inplace=True)\n",
      "/Users/ericvincent/code/dynamic_portfolio/dynamic_portfolio/utils.py:128: SettingWithCopyWarning: \n",
      "A value is trying to be set on a copy of a slice from a DataFrame\n",
      "\n",
      "See the caveats in the documentation: https://pandas.pydata.org/pandas-docs/stable/user_guide/indexing.html#returning-a-view-versus-a-copy\n",
      "  final_df['return'][0]=0\n",
      "/Users/ericvincent/code/dynamic_portfolio/dynamic_portfolio/utils.py:106: SettingWithCopyWarning: \n",
      "A value is trying to be set on a copy of a slice from a DataFrame\n",
      "\n",
      "See the caveats in the documentation: https://pandas.pydata.org/pandas-docs/stable/user_guide/indexing.html#returning-a-view-versus-a-copy\n",
      "  second_split.dropna(inplace=True)\n",
      "/Users/ericvincent/code/dynamic_portfolio/dynamic_portfolio/utils.py:128: SettingWithCopyWarning: \n",
      "A value is trying to be set on a copy of a slice from a DataFrame\n",
      "\n",
      "See the caveats in the documentation: https://pandas.pydata.org/pandas-docs/stable/user_guide/indexing.html#returning-a-view-versus-a-copy\n",
      "  final_df['return'][0]=0\n"
     ]
    },
    {
     "name": "stderr",
     "output_type": "stream",
     "text": [
      "/Users/ericvincent/code/dynamic_portfolio/dynamic_portfolio/utils.py:106: SettingWithCopyWarning: \n",
      "A value is trying to be set on a copy of a slice from a DataFrame\n",
      "\n",
      "See the caveats in the documentation: https://pandas.pydata.org/pandas-docs/stable/user_guide/indexing.html#returning-a-view-versus-a-copy\n",
      "  second_split.dropna(inplace=True)\n",
      "/Users/ericvincent/code/dynamic_portfolio/dynamic_portfolio/utils.py:128: SettingWithCopyWarning: \n",
      "A value is trying to be set on a copy of a slice from a DataFrame\n",
      "\n",
      "See the caveats in the documentation: https://pandas.pydata.org/pandas-docs/stable/user_guide/indexing.html#returning-a-view-versus-a-copy\n",
      "  final_df['return'][0]=0\n",
      "/Users/ericvincent/code/dynamic_portfolio/dynamic_portfolio/utils.py:106: SettingWithCopyWarning: \n",
      "A value is trying to be set on a copy of a slice from a DataFrame\n",
      "\n",
      "See the caveats in the documentation: https://pandas.pydata.org/pandas-docs/stable/user_guide/indexing.html#returning-a-view-versus-a-copy\n",
      "  second_split.dropna(inplace=True)\n",
      "/Users/ericvincent/code/dynamic_portfolio/dynamic_portfolio/utils.py:128: SettingWithCopyWarning: \n",
      "A value is trying to be set on a copy of a slice from a DataFrame\n",
      "\n",
      "See the caveats in the documentation: https://pandas.pydata.org/pandas-docs/stable/user_guide/indexing.html#returning-a-view-versus-a-copy\n",
      "  final_df['return'][0]=0\n",
      "/Users/ericvincent/code/dynamic_portfolio/dynamic_portfolio/utils.py:106: SettingWithCopyWarning: \n",
      "A value is trying to be set on a copy of a slice from a DataFrame\n",
      "\n",
      "See the caveats in the documentation: https://pandas.pydata.org/pandas-docs/stable/user_guide/indexing.html#returning-a-view-versus-a-copy\n",
      "  second_split.dropna(inplace=True)\n",
      "/Users/ericvincent/code/dynamic_portfolio/dynamic_portfolio/utils.py:128: SettingWithCopyWarning: \n",
      "A value is trying to be set on a copy of a slice from a DataFrame\n",
      "\n",
      "See the caveats in the documentation: https://pandas.pydata.org/pandas-docs/stable/user_guide/indexing.html#returning-a-view-versus-a-copy\n",
      "  final_df['return'][0]=0\n",
      "/Users/ericvincent/code/dynamic_portfolio/dynamic_portfolio/utils.py:106: SettingWithCopyWarning: \n",
      "A value is trying to be set on a copy of a slice from a DataFrame\n",
      "\n",
      "See the caveats in the documentation: https://pandas.pydata.org/pandas-docs/stable/user_guide/indexing.html#returning-a-view-versus-a-copy\n",
      "  second_split.dropna(inplace=True)\n",
      "/Users/ericvincent/code/dynamic_portfolio/dynamic_portfolio/utils.py:128: SettingWithCopyWarning: \n",
      "A value is trying to be set on a copy of a slice from a DataFrame\n",
      "\n",
      "See the caveats in the documentation: https://pandas.pydata.org/pandas-docs/stable/user_guide/indexing.html#returning-a-view-versus-a-copy\n",
      "  final_df['return'][0]=0\n",
      "/Users/ericvincent/code/dynamic_portfolio/dynamic_portfolio/utils.py:106: SettingWithCopyWarning: \n",
      "A value is trying to be set on a copy of a slice from a DataFrame\n",
      "\n",
      "See the caveats in the documentation: https://pandas.pydata.org/pandas-docs/stable/user_guide/indexing.html#returning-a-view-versus-a-copy\n",
      "  second_split.dropna(inplace=True)\n",
      "/Users/ericvincent/code/dynamic_portfolio/dynamic_portfolio/utils.py:128: SettingWithCopyWarning: \n",
      "A value is trying to be set on a copy of a slice from a DataFrame\n",
      "\n",
      "See the caveats in the documentation: https://pandas.pydata.org/pandas-docs/stable/user_guide/indexing.html#returning-a-view-versus-a-copy\n",
      "  final_df['return'][0]=0\n",
      "/Users/ericvincent/code/dynamic_portfolio/dynamic_portfolio/utils.py:106: SettingWithCopyWarning: \n",
      "A value is trying to be set on a copy of a slice from a DataFrame\n",
      "\n",
      "See the caveats in the documentation: https://pandas.pydata.org/pandas-docs/stable/user_guide/indexing.html#returning-a-view-versus-a-copy\n",
      "  second_split.dropna(inplace=True)\n",
      "/Users/ericvincent/code/dynamic_portfolio/dynamic_portfolio/utils.py:128: SettingWithCopyWarning: \n",
      "A value is trying to be set on a copy of a slice from a DataFrame\n",
      "\n",
      "See the caveats in the documentation: https://pandas.pydata.org/pandas-docs/stable/user_guide/indexing.html#returning-a-view-versus-a-copy\n",
      "  final_df['return'][0]=0\n",
      "/Users/ericvincent/code/dynamic_portfolio/dynamic_portfolio/utils.py:106: SettingWithCopyWarning: \n",
      "A value is trying to be set on a copy of a slice from a DataFrame\n",
      "\n",
      "See the caveats in the documentation: https://pandas.pydata.org/pandas-docs/stable/user_guide/indexing.html#returning-a-view-versus-a-copy\n",
      "  second_split.dropna(inplace=True)\n",
      "/Users/ericvincent/code/dynamic_portfolio/dynamic_portfolio/utils.py:128: SettingWithCopyWarning: \n",
      "A value is trying to be set on a copy of a slice from a DataFrame\n",
      "\n",
      "See the caveats in the documentation: https://pandas.pydata.org/pandas-docs/stable/user_guide/indexing.html#returning-a-view-versus-a-copy\n",
      "  final_df['return'][0]=0\n",
      "/Users/ericvincent/code/dynamic_portfolio/dynamic_portfolio/utils.py:106: SettingWithCopyWarning: \n",
      "A value is trying to be set on a copy of a slice from a DataFrame\n",
      "\n",
      "See the caveats in the documentation: https://pandas.pydata.org/pandas-docs/stable/user_guide/indexing.html#returning-a-view-versus-a-copy\n",
      "  second_split.dropna(inplace=True)\n",
      "/Users/ericvincent/code/dynamic_portfolio/dynamic_portfolio/utils.py:128: SettingWithCopyWarning: \n",
      "A value is trying to be set on a copy of a slice from a DataFrame\n",
      "\n",
      "See the caveats in the documentation: https://pandas.pydata.org/pandas-docs/stable/user_guide/indexing.html#returning-a-view-versus-a-copy\n",
      "  final_df['return'][0]=0\n",
      "/Users/ericvincent/code/dynamic_portfolio/dynamic_portfolio/utils.py:106: SettingWithCopyWarning: \n",
      "A value is trying to be set on a copy of a slice from a DataFrame\n",
      "\n",
      "See the caveats in the documentation: https://pandas.pydata.org/pandas-docs/stable/user_guide/indexing.html#returning-a-view-versus-a-copy\n",
      "  second_split.dropna(inplace=True)\n",
      "/Users/ericvincent/code/dynamic_portfolio/dynamic_portfolio/utils.py:128: SettingWithCopyWarning: \n",
      "A value is trying to be set on a copy of a slice from a DataFrame\n",
      "\n",
      "See the caveats in the documentation: https://pandas.pydata.org/pandas-docs/stable/user_guide/indexing.html#returning-a-view-versus-a-copy\n",
      "  final_df['return'][0]=0\n",
      "/Users/ericvincent/code/dynamic_portfolio/dynamic_portfolio/utils.py:106: SettingWithCopyWarning: \n",
      "A value is trying to be set on a copy of a slice from a DataFrame\n",
      "\n",
      "See the caveats in the documentation: https://pandas.pydata.org/pandas-docs/stable/user_guide/indexing.html#returning-a-view-versus-a-copy\n",
      "  second_split.dropna(inplace=True)\n",
      "/Users/ericvincent/code/dynamic_portfolio/dynamic_portfolio/utils.py:128: SettingWithCopyWarning: \n",
      "A value is trying to be set on a copy of a slice from a DataFrame\n",
      "\n",
      "See the caveats in the documentation: https://pandas.pydata.org/pandas-docs/stable/user_guide/indexing.html#returning-a-view-versus-a-copy\n",
      "  final_df['return'][0]=0\n",
      "/Users/ericvincent/code/dynamic_portfolio/dynamic_portfolio/utils.py:106: SettingWithCopyWarning: \n",
      "A value is trying to be set on a copy of a slice from a DataFrame\n",
      "\n",
      "See the caveats in the documentation: https://pandas.pydata.org/pandas-docs/stable/user_guide/indexing.html#returning-a-view-versus-a-copy\n",
      "  second_split.dropna(inplace=True)\n",
      "/Users/ericvincent/code/dynamic_portfolio/dynamic_portfolio/utils.py:128: SettingWithCopyWarning: \n",
      "A value is trying to be set on a copy of a slice from a DataFrame\n",
      "\n",
      "See the caveats in the documentation: https://pandas.pydata.org/pandas-docs/stable/user_guide/indexing.html#returning-a-view-versus-a-copy\n",
      "  final_df['return'][0]=0\n",
      "/Users/ericvincent/code/dynamic_portfolio/dynamic_portfolio/utils.py:106: SettingWithCopyWarning: \n",
      "A value is trying to be set on a copy of a slice from a DataFrame\n",
      "\n",
      "See the caveats in the documentation: https://pandas.pydata.org/pandas-docs/stable/user_guide/indexing.html#returning-a-view-versus-a-copy\n",
      "  second_split.dropna(inplace=True)\n",
      "/Users/ericvincent/code/dynamic_portfolio/dynamic_portfolio/utils.py:128: SettingWithCopyWarning: \n",
      "A value is trying to be set on a copy of a slice from a DataFrame\n",
      "\n",
      "See the caveats in the documentation: https://pandas.pydata.org/pandas-docs/stable/user_guide/indexing.html#returning-a-view-versus-a-copy\n",
      "  final_df['return'][0]=0\n",
      "/Users/ericvincent/code/dynamic_portfolio/dynamic_portfolio/utils.py:106: SettingWithCopyWarning: \n",
      "A value is trying to be set on a copy of a slice from a DataFrame\n",
      "\n",
      "See the caveats in the documentation: https://pandas.pydata.org/pandas-docs/stable/user_guide/indexing.html#returning-a-view-versus-a-copy\n",
      "  second_split.dropna(inplace=True)\n",
      "/Users/ericvincent/code/dynamic_portfolio/dynamic_portfolio/utils.py:128: SettingWithCopyWarning: \n",
      "A value is trying to be set on a copy of a slice from a DataFrame\n",
      "\n",
      "See the caveats in the documentation: https://pandas.pydata.org/pandas-docs/stable/user_guide/indexing.html#returning-a-view-versus-a-copy\n",
      "  final_df['return'][0]=0\n"
     ]
    },
    {
     "name": "stderr",
     "output_type": "stream",
     "text": [
      "/Users/ericvincent/code/dynamic_portfolio/dynamic_portfolio/utils.py:106: SettingWithCopyWarning: \n",
      "A value is trying to be set on a copy of a slice from a DataFrame\n",
      "\n",
      "See the caveats in the documentation: https://pandas.pydata.org/pandas-docs/stable/user_guide/indexing.html#returning-a-view-versus-a-copy\n",
      "  second_split.dropna(inplace=True)\n",
      "/Users/ericvincent/code/dynamic_portfolio/dynamic_portfolio/utils.py:128: SettingWithCopyWarning: \n",
      "A value is trying to be set on a copy of a slice from a DataFrame\n",
      "\n",
      "See the caveats in the documentation: https://pandas.pydata.org/pandas-docs/stable/user_guide/indexing.html#returning-a-view-versus-a-copy\n",
      "  final_df['return'][0]=0\n",
      "/Users/ericvincent/code/dynamic_portfolio/dynamic_portfolio/utils.py:106: SettingWithCopyWarning: \n",
      "A value is trying to be set on a copy of a slice from a DataFrame\n",
      "\n",
      "See the caveats in the documentation: https://pandas.pydata.org/pandas-docs/stable/user_guide/indexing.html#returning-a-view-versus-a-copy\n",
      "  second_split.dropna(inplace=True)\n",
      "/Users/ericvincent/code/dynamic_portfolio/dynamic_portfolio/utils.py:128: SettingWithCopyWarning: \n",
      "A value is trying to be set on a copy of a slice from a DataFrame\n",
      "\n",
      "See the caveats in the documentation: https://pandas.pydata.org/pandas-docs/stable/user_guide/indexing.html#returning-a-view-versus-a-copy\n",
      "  final_df['return'][0]=0\n",
      "/Users/ericvincent/code/dynamic_portfolio/dynamic_portfolio/utils.py:106: SettingWithCopyWarning: \n",
      "A value is trying to be set on a copy of a slice from a DataFrame\n",
      "\n",
      "See the caveats in the documentation: https://pandas.pydata.org/pandas-docs/stable/user_guide/indexing.html#returning-a-view-versus-a-copy\n",
      "  second_split.dropna(inplace=True)\n",
      "/Users/ericvincent/code/dynamic_portfolio/dynamic_portfolio/utils.py:128: SettingWithCopyWarning: \n",
      "A value is trying to be set on a copy of a slice from a DataFrame\n",
      "\n",
      "See the caveats in the documentation: https://pandas.pydata.org/pandas-docs/stable/user_guide/indexing.html#returning-a-view-versus-a-copy\n",
      "  final_df['return'][0]=0\n",
      "/Users/ericvincent/code/dynamic_portfolio/dynamic_portfolio/utils.py:106: SettingWithCopyWarning: \n",
      "A value is trying to be set on a copy of a slice from a DataFrame\n",
      "\n",
      "See the caveats in the documentation: https://pandas.pydata.org/pandas-docs/stable/user_guide/indexing.html#returning-a-view-versus-a-copy\n",
      "  second_split.dropna(inplace=True)\n",
      "/Users/ericvincent/code/dynamic_portfolio/dynamic_portfolio/utils.py:128: SettingWithCopyWarning: \n",
      "A value is trying to be set on a copy of a slice from a DataFrame\n",
      "\n",
      "See the caveats in the documentation: https://pandas.pydata.org/pandas-docs/stable/user_guide/indexing.html#returning-a-view-versus-a-copy\n",
      "  final_df['return'][0]=0\n",
      "/Users/ericvincent/code/dynamic_portfolio/dynamic_portfolio/utils.py:106: SettingWithCopyWarning: \n",
      "A value is trying to be set on a copy of a slice from a DataFrame\n",
      "\n",
      "See the caveats in the documentation: https://pandas.pydata.org/pandas-docs/stable/user_guide/indexing.html#returning-a-view-versus-a-copy\n",
      "  second_split.dropna(inplace=True)\n",
      "/Users/ericvincent/code/dynamic_portfolio/dynamic_portfolio/utils.py:128: SettingWithCopyWarning: \n",
      "A value is trying to be set on a copy of a slice from a DataFrame\n",
      "\n",
      "See the caveats in the documentation: https://pandas.pydata.org/pandas-docs/stable/user_guide/indexing.html#returning-a-view-versus-a-copy\n",
      "  final_df['return'][0]=0\n",
      "/Users/ericvincent/code/dynamic_portfolio/dynamic_portfolio/utils.py:106: SettingWithCopyWarning: \n",
      "A value is trying to be set on a copy of a slice from a DataFrame\n",
      "\n",
      "See the caveats in the documentation: https://pandas.pydata.org/pandas-docs/stable/user_guide/indexing.html#returning-a-view-versus-a-copy\n",
      "  second_split.dropna(inplace=True)\n",
      "/Users/ericvincent/code/dynamic_portfolio/dynamic_portfolio/utils.py:128: SettingWithCopyWarning: \n",
      "A value is trying to be set on a copy of a slice from a DataFrame\n",
      "\n",
      "See the caveats in the documentation: https://pandas.pydata.org/pandas-docs/stable/user_guide/indexing.html#returning-a-view-versus-a-copy\n",
      "  final_df['return'][0]=0\n",
      "/Users/ericvincent/code/dynamic_portfolio/dynamic_portfolio/utils.py:106: SettingWithCopyWarning: \n",
      "A value is trying to be set on a copy of a slice from a DataFrame\n",
      "\n",
      "See the caveats in the documentation: https://pandas.pydata.org/pandas-docs/stable/user_guide/indexing.html#returning-a-view-versus-a-copy\n",
      "  second_split.dropna(inplace=True)\n",
      "/Users/ericvincent/code/dynamic_portfolio/dynamic_portfolio/utils.py:128: SettingWithCopyWarning: \n",
      "A value is trying to be set on a copy of a slice from a DataFrame\n",
      "\n",
      "See the caveats in the documentation: https://pandas.pydata.org/pandas-docs/stable/user_guide/indexing.html#returning-a-view-versus-a-copy\n",
      "  final_df['return'][0]=0\n",
      "/Users/ericvincent/code/dynamic_portfolio/dynamic_portfolio/utils.py:106: SettingWithCopyWarning: \n",
      "A value is trying to be set on a copy of a slice from a DataFrame\n",
      "\n",
      "See the caveats in the documentation: https://pandas.pydata.org/pandas-docs/stable/user_guide/indexing.html#returning-a-view-versus-a-copy\n",
      "  second_split.dropna(inplace=True)\n",
      "/Users/ericvincent/code/dynamic_portfolio/dynamic_portfolio/utils.py:128: SettingWithCopyWarning: \n",
      "A value is trying to be set on a copy of a slice from a DataFrame\n",
      "\n",
      "See the caveats in the documentation: https://pandas.pydata.org/pandas-docs/stable/user_guide/indexing.html#returning-a-view-versus-a-copy\n",
      "  final_df['return'][0]=0\n",
      "/Users/ericvincent/code/dynamic_portfolio/dynamic_portfolio/utils.py:106: SettingWithCopyWarning: \n",
      "A value is trying to be set on a copy of a slice from a DataFrame\n",
      "\n",
      "See the caveats in the documentation: https://pandas.pydata.org/pandas-docs/stable/user_guide/indexing.html#returning-a-view-versus-a-copy\n",
      "  second_split.dropna(inplace=True)\n",
      "/Users/ericvincent/code/dynamic_portfolio/dynamic_portfolio/utils.py:128: SettingWithCopyWarning: \n",
      "A value is trying to be set on a copy of a slice from a DataFrame\n",
      "\n",
      "See the caveats in the documentation: https://pandas.pydata.org/pandas-docs/stable/user_guide/indexing.html#returning-a-view-versus-a-copy\n",
      "  final_df['return'][0]=0\n",
      "/Users/ericvincent/code/dynamic_portfolio/dynamic_portfolio/utils.py:106: SettingWithCopyWarning: \n",
      "A value is trying to be set on a copy of a slice from a DataFrame\n",
      "\n",
      "See the caveats in the documentation: https://pandas.pydata.org/pandas-docs/stable/user_guide/indexing.html#returning-a-view-versus-a-copy\n",
      "  second_split.dropna(inplace=True)\n",
      "/Users/ericvincent/code/dynamic_portfolio/dynamic_portfolio/utils.py:128: SettingWithCopyWarning: \n",
      "A value is trying to be set on a copy of a slice from a DataFrame\n",
      "\n",
      "See the caveats in the documentation: https://pandas.pydata.org/pandas-docs/stable/user_guide/indexing.html#returning-a-view-versus-a-copy\n",
      "  final_df['return'][0]=0\n",
      "/Users/ericvincent/code/dynamic_portfolio/dynamic_portfolio/utils.py:106: SettingWithCopyWarning: \n",
      "A value is trying to be set on a copy of a slice from a DataFrame\n",
      "\n",
      "See the caveats in the documentation: https://pandas.pydata.org/pandas-docs/stable/user_guide/indexing.html#returning-a-view-versus-a-copy\n",
      "  second_split.dropna(inplace=True)\n",
      "/Users/ericvincent/code/dynamic_portfolio/dynamic_portfolio/utils.py:128: SettingWithCopyWarning: \n",
      "A value is trying to be set on a copy of a slice from a DataFrame\n",
      "\n",
      "See the caveats in the documentation: https://pandas.pydata.org/pandas-docs/stable/user_guide/indexing.html#returning-a-view-versus-a-copy\n",
      "  final_df['return'][0]=0\n",
      "/Users/ericvincent/code/dynamic_portfolio/dynamic_portfolio/utils.py:106: SettingWithCopyWarning: \n",
      "A value is trying to be set on a copy of a slice from a DataFrame\n",
      "\n",
      "See the caveats in the documentation: https://pandas.pydata.org/pandas-docs/stable/user_guide/indexing.html#returning-a-view-versus-a-copy\n",
      "  second_split.dropna(inplace=True)\n",
      "/Users/ericvincent/code/dynamic_portfolio/dynamic_portfolio/utils.py:128: SettingWithCopyWarning: \n",
      "A value is trying to be set on a copy of a slice from a DataFrame\n",
      "\n",
      "See the caveats in the documentation: https://pandas.pydata.org/pandas-docs/stable/user_guide/indexing.html#returning-a-view-versus-a-copy\n",
      "  final_df['return'][0]=0\n",
      "/Users/ericvincent/code/dynamic_portfolio/dynamic_portfolio/utils.py:106: SettingWithCopyWarning: \n",
      "A value is trying to be set on a copy of a slice from a DataFrame\n",
      "\n",
      "See the caveats in the documentation: https://pandas.pydata.org/pandas-docs/stable/user_guide/indexing.html#returning-a-view-versus-a-copy\n",
      "  second_split.dropna(inplace=True)\n",
      "/Users/ericvincent/code/dynamic_portfolio/dynamic_portfolio/utils.py:128: SettingWithCopyWarning: \n",
      "A value is trying to be set on a copy of a slice from a DataFrame\n",
      "\n",
      "See the caveats in the documentation: https://pandas.pydata.org/pandas-docs/stable/user_guide/indexing.html#returning-a-view-versus-a-copy\n",
      "  final_df['return'][0]=0\n"
     ]
    },
    {
     "name": "stderr",
     "output_type": "stream",
     "text": [
      "/Users/ericvincent/code/dynamic_portfolio/dynamic_portfolio/utils.py:106: SettingWithCopyWarning: \n",
      "A value is trying to be set on a copy of a slice from a DataFrame\n",
      "\n",
      "See the caveats in the documentation: https://pandas.pydata.org/pandas-docs/stable/user_guide/indexing.html#returning-a-view-versus-a-copy\n",
      "  second_split.dropna(inplace=True)\n",
      "/Users/ericvincent/code/dynamic_portfolio/dynamic_portfolio/utils.py:128: SettingWithCopyWarning: \n",
      "A value is trying to be set on a copy of a slice from a DataFrame\n",
      "\n",
      "See the caveats in the documentation: https://pandas.pydata.org/pandas-docs/stable/user_guide/indexing.html#returning-a-view-versus-a-copy\n",
      "  final_df['return'][0]=0\n",
      "/Users/ericvincent/code/dynamic_portfolio/dynamic_portfolio/utils.py:106: SettingWithCopyWarning: \n",
      "A value is trying to be set on a copy of a slice from a DataFrame\n",
      "\n",
      "See the caveats in the documentation: https://pandas.pydata.org/pandas-docs/stable/user_guide/indexing.html#returning-a-view-versus-a-copy\n",
      "  second_split.dropna(inplace=True)\n",
      "/Users/ericvincent/code/dynamic_portfolio/dynamic_portfolio/utils.py:128: SettingWithCopyWarning: \n",
      "A value is trying to be set on a copy of a slice from a DataFrame\n",
      "\n",
      "See the caveats in the documentation: https://pandas.pydata.org/pandas-docs/stable/user_guide/indexing.html#returning-a-view-versus-a-copy\n",
      "  final_df['return'][0]=0\n",
      "/Users/ericvincent/code/dynamic_portfolio/dynamic_portfolio/utils.py:106: SettingWithCopyWarning: \n",
      "A value is trying to be set on a copy of a slice from a DataFrame\n",
      "\n",
      "See the caveats in the documentation: https://pandas.pydata.org/pandas-docs/stable/user_guide/indexing.html#returning-a-view-versus-a-copy\n",
      "  second_split.dropna(inplace=True)\n",
      "/Users/ericvincent/code/dynamic_portfolio/dynamic_portfolio/utils.py:128: SettingWithCopyWarning: \n",
      "A value is trying to be set on a copy of a slice from a DataFrame\n",
      "\n",
      "See the caveats in the documentation: https://pandas.pydata.org/pandas-docs/stable/user_guide/indexing.html#returning-a-view-versus-a-copy\n",
      "  final_df['return'][0]=0\n",
      "/Users/ericvincent/code/dynamic_portfolio/dynamic_portfolio/utils.py:106: SettingWithCopyWarning: \n",
      "A value is trying to be set on a copy of a slice from a DataFrame\n",
      "\n",
      "See the caveats in the documentation: https://pandas.pydata.org/pandas-docs/stable/user_guide/indexing.html#returning-a-view-versus-a-copy\n",
      "  second_split.dropna(inplace=True)\n",
      "/Users/ericvincent/code/dynamic_portfolio/dynamic_portfolio/utils.py:128: SettingWithCopyWarning: \n",
      "A value is trying to be set on a copy of a slice from a DataFrame\n",
      "\n",
      "See the caveats in the documentation: https://pandas.pydata.org/pandas-docs/stable/user_guide/indexing.html#returning-a-view-versus-a-copy\n",
      "  final_df['return'][0]=0\n",
      "/Users/ericvincent/code/dynamic_portfolio/dynamic_portfolio/utils.py:106: SettingWithCopyWarning: \n",
      "A value is trying to be set on a copy of a slice from a DataFrame\n",
      "\n",
      "See the caveats in the documentation: https://pandas.pydata.org/pandas-docs/stable/user_guide/indexing.html#returning-a-view-versus-a-copy\n",
      "  second_split.dropna(inplace=True)\n",
      "/Users/ericvincent/code/dynamic_portfolio/dynamic_portfolio/utils.py:128: SettingWithCopyWarning: \n",
      "A value is trying to be set on a copy of a slice from a DataFrame\n",
      "\n",
      "See the caveats in the documentation: https://pandas.pydata.org/pandas-docs/stable/user_guide/indexing.html#returning-a-view-versus-a-copy\n",
      "  final_df['return'][0]=0\n",
      "/Users/ericvincent/code/dynamic_portfolio/dynamic_portfolio/utils.py:106: SettingWithCopyWarning: \n",
      "A value is trying to be set on a copy of a slice from a DataFrame\n",
      "\n",
      "See the caveats in the documentation: https://pandas.pydata.org/pandas-docs/stable/user_guide/indexing.html#returning-a-view-versus-a-copy\n",
      "  second_split.dropna(inplace=True)\n",
      "/Users/ericvincent/code/dynamic_portfolio/dynamic_portfolio/utils.py:128: SettingWithCopyWarning: \n",
      "A value is trying to be set on a copy of a slice from a DataFrame\n",
      "\n",
      "See the caveats in the documentation: https://pandas.pydata.org/pandas-docs/stable/user_guide/indexing.html#returning-a-view-versus-a-copy\n",
      "  final_df['return'][0]=0\n",
      "/Users/ericvincent/code/dynamic_portfolio/dynamic_portfolio/utils.py:106: SettingWithCopyWarning: \n",
      "A value is trying to be set on a copy of a slice from a DataFrame\n",
      "\n",
      "See the caveats in the documentation: https://pandas.pydata.org/pandas-docs/stable/user_guide/indexing.html#returning-a-view-versus-a-copy\n",
      "  second_split.dropna(inplace=True)\n",
      "/Users/ericvincent/code/dynamic_portfolio/dynamic_portfolio/utils.py:128: SettingWithCopyWarning: \n",
      "A value is trying to be set on a copy of a slice from a DataFrame\n",
      "\n",
      "See the caveats in the documentation: https://pandas.pydata.org/pandas-docs/stable/user_guide/indexing.html#returning-a-view-versus-a-copy\n",
      "  final_df['return'][0]=0\n",
      "/Users/ericvincent/code/dynamic_portfolio/dynamic_portfolio/utils.py:106: SettingWithCopyWarning: \n",
      "A value is trying to be set on a copy of a slice from a DataFrame\n",
      "\n",
      "See the caveats in the documentation: https://pandas.pydata.org/pandas-docs/stable/user_guide/indexing.html#returning-a-view-versus-a-copy\n",
      "  second_split.dropna(inplace=True)\n",
      "/Users/ericvincent/code/dynamic_portfolio/dynamic_portfolio/utils.py:128: SettingWithCopyWarning: \n",
      "A value is trying to be set on a copy of a slice from a DataFrame\n",
      "\n",
      "See the caveats in the documentation: https://pandas.pydata.org/pandas-docs/stable/user_guide/indexing.html#returning-a-view-versus-a-copy\n",
      "  final_df['return'][0]=0\n",
      "/Users/ericvincent/code/dynamic_portfolio/dynamic_portfolio/utils.py:106: SettingWithCopyWarning: \n",
      "A value is trying to be set on a copy of a slice from a DataFrame\n",
      "\n",
      "See the caveats in the documentation: https://pandas.pydata.org/pandas-docs/stable/user_guide/indexing.html#returning-a-view-versus-a-copy\n",
      "  second_split.dropna(inplace=True)\n",
      "/Users/ericvincent/code/dynamic_portfolio/dynamic_portfolio/utils.py:128: SettingWithCopyWarning: \n",
      "A value is trying to be set on a copy of a slice from a DataFrame\n",
      "\n",
      "See the caveats in the documentation: https://pandas.pydata.org/pandas-docs/stable/user_guide/indexing.html#returning-a-view-versus-a-copy\n",
      "  final_df['return'][0]=0\n",
      "/Users/ericvincent/code/dynamic_portfolio/dynamic_portfolio/utils.py:106: SettingWithCopyWarning: \n",
      "A value is trying to be set on a copy of a slice from a DataFrame\n",
      "\n",
      "See the caveats in the documentation: https://pandas.pydata.org/pandas-docs/stable/user_guide/indexing.html#returning-a-view-versus-a-copy\n",
      "  second_split.dropna(inplace=True)\n",
      "/Users/ericvincent/code/dynamic_portfolio/dynamic_portfolio/utils.py:128: SettingWithCopyWarning: \n",
      "A value is trying to be set on a copy of a slice from a DataFrame\n",
      "\n",
      "See the caveats in the documentation: https://pandas.pydata.org/pandas-docs/stable/user_guide/indexing.html#returning-a-view-versus-a-copy\n",
      "  final_df['return'][0]=0\n",
      "/Users/ericvincent/code/dynamic_portfolio/dynamic_portfolio/utils.py:106: SettingWithCopyWarning: \n",
      "A value is trying to be set on a copy of a slice from a DataFrame\n",
      "\n",
      "See the caveats in the documentation: https://pandas.pydata.org/pandas-docs/stable/user_guide/indexing.html#returning-a-view-versus-a-copy\n",
      "  second_split.dropna(inplace=True)\n",
      "/Users/ericvincent/code/dynamic_portfolio/dynamic_portfolio/utils.py:128: SettingWithCopyWarning: \n",
      "A value is trying to be set on a copy of a slice from a DataFrame\n",
      "\n",
      "See the caveats in the documentation: https://pandas.pydata.org/pandas-docs/stable/user_guide/indexing.html#returning-a-view-versus-a-copy\n",
      "  final_df['return'][0]=0\n",
      "/Users/ericvincent/code/dynamic_portfolio/dynamic_portfolio/utils.py:106: SettingWithCopyWarning: \n",
      "A value is trying to be set on a copy of a slice from a DataFrame\n",
      "\n",
      "See the caveats in the documentation: https://pandas.pydata.org/pandas-docs/stable/user_guide/indexing.html#returning-a-view-versus-a-copy\n",
      "  second_split.dropna(inplace=True)\n",
      "/Users/ericvincent/code/dynamic_portfolio/dynamic_portfolio/utils.py:128: SettingWithCopyWarning: \n",
      "A value is trying to be set on a copy of a slice from a DataFrame\n",
      "\n",
      "See the caveats in the documentation: https://pandas.pydata.org/pandas-docs/stable/user_guide/indexing.html#returning-a-view-versus-a-copy\n",
      "  final_df['return'][0]=0\n",
      "/Users/ericvincent/code/dynamic_portfolio/dynamic_portfolio/utils.py:106: SettingWithCopyWarning: \n",
      "A value is trying to be set on a copy of a slice from a DataFrame\n",
      "\n",
      "See the caveats in the documentation: https://pandas.pydata.org/pandas-docs/stable/user_guide/indexing.html#returning-a-view-versus-a-copy\n",
      "  second_split.dropna(inplace=True)\n",
      "/Users/ericvincent/code/dynamic_portfolio/dynamic_portfolio/utils.py:128: SettingWithCopyWarning: \n",
      "A value is trying to be set on a copy of a slice from a DataFrame\n",
      "\n",
      "See the caveats in the documentation: https://pandas.pydata.org/pandas-docs/stable/user_guide/indexing.html#returning-a-view-versus-a-copy\n",
      "  final_df['return'][0]=0\n"
     ]
    },
    {
     "name": "stderr",
     "output_type": "stream",
     "text": [
      "/Users/ericvincent/code/dynamic_portfolio/dynamic_portfolio/utils.py:106: SettingWithCopyWarning: \n",
      "A value is trying to be set on a copy of a slice from a DataFrame\n",
      "\n",
      "See the caveats in the documentation: https://pandas.pydata.org/pandas-docs/stable/user_guide/indexing.html#returning-a-view-versus-a-copy\n",
      "  second_split.dropna(inplace=True)\n",
      "/Users/ericvincent/code/dynamic_portfolio/dynamic_portfolio/utils.py:128: SettingWithCopyWarning: \n",
      "A value is trying to be set on a copy of a slice from a DataFrame\n",
      "\n",
      "See the caveats in the documentation: https://pandas.pydata.org/pandas-docs/stable/user_guide/indexing.html#returning-a-view-versus-a-copy\n",
      "  final_df['return'][0]=0\n",
      "/Users/ericvincent/code/dynamic_portfolio/dynamic_portfolio/utils.py:106: SettingWithCopyWarning: \n",
      "A value is trying to be set on a copy of a slice from a DataFrame\n",
      "\n",
      "See the caveats in the documentation: https://pandas.pydata.org/pandas-docs/stable/user_guide/indexing.html#returning-a-view-versus-a-copy\n",
      "  second_split.dropna(inplace=True)\n",
      "/Users/ericvincent/code/dynamic_portfolio/dynamic_portfolio/utils.py:128: SettingWithCopyWarning: \n",
      "A value is trying to be set on a copy of a slice from a DataFrame\n",
      "\n",
      "See the caveats in the documentation: https://pandas.pydata.org/pandas-docs/stable/user_guide/indexing.html#returning-a-view-versus-a-copy\n",
      "  final_df['return'][0]=0\n",
      "/Users/ericvincent/code/dynamic_portfolio/dynamic_portfolio/utils.py:106: SettingWithCopyWarning: \n",
      "A value is trying to be set on a copy of a slice from a DataFrame\n",
      "\n",
      "See the caveats in the documentation: https://pandas.pydata.org/pandas-docs/stable/user_guide/indexing.html#returning-a-view-versus-a-copy\n",
      "  second_split.dropna(inplace=True)\n",
      "/Users/ericvincent/code/dynamic_portfolio/dynamic_portfolio/utils.py:128: SettingWithCopyWarning: \n",
      "A value is trying to be set on a copy of a slice from a DataFrame\n",
      "\n",
      "See the caveats in the documentation: https://pandas.pydata.org/pandas-docs/stable/user_guide/indexing.html#returning-a-view-versus-a-copy\n",
      "  final_df['return'][0]=0\n",
      "/Users/ericvincent/code/dynamic_portfolio/dynamic_portfolio/utils.py:106: SettingWithCopyWarning: \n",
      "A value is trying to be set on a copy of a slice from a DataFrame\n",
      "\n",
      "See the caveats in the documentation: https://pandas.pydata.org/pandas-docs/stable/user_guide/indexing.html#returning-a-view-versus-a-copy\n",
      "  second_split.dropna(inplace=True)\n",
      "/Users/ericvincent/code/dynamic_portfolio/dynamic_portfolio/utils.py:128: SettingWithCopyWarning: \n",
      "A value is trying to be set on a copy of a slice from a DataFrame\n",
      "\n",
      "See the caveats in the documentation: https://pandas.pydata.org/pandas-docs/stable/user_guide/indexing.html#returning-a-view-versus-a-copy\n",
      "  final_df['return'][0]=0\n",
      "/Users/ericvincent/code/dynamic_portfolio/dynamic_portfolio/utils.py:106: SettingWithCopyWarning: \n",
      "A value is trying to be set on a copy of a slice from a DataFrame\n",
      "\n",
      "See the caveats in the documentation: https://pandas.pydata.org/pandas-docs/stable/user_guide/indexing.html#returning-a-view-versus-a-copy\n",
      "  second_split.dropna(inplace=True)\n",
      "/Users/ericvincent/code/dynamic_portfolio/dynamic_portfolio/utils.py:128: SettingWithCopyWarning: \n",
      "A value is trying to be set on a copy of a slice from a DataFrame\n",
      "\n",
      "See the caveats in the documentation: https://pandas.pydata.org/pandas-docs/stable/user_guide/indexing.html#returning-a-view-versus-a-copy\n",
      "  final_df['return'][0]=0\n",
      "/Users/ericvincent/code/dynamic_portfolio/dynamic_portfolio/utils.py:106: SettingWithCopyWarning: \n",
      "A value is trying to be set on a copy of a slice from a DataFrame\n",
      "\n",
      "See the caveats in the documentation: https://pandas.pydata.org/pandas-docs/stable/user_guide/indexing.html#returning-a-view-versus-a-copy\n",
      "  second_split.dropna(inplace=True)\n",
      "/Users/ericvincent/code/dynamic_portfolio/dynamic_portfolio/utils.py:128: SettingWithCopyWarning: \n",
      "A value is trying to be set on a copy of a slice from a DataFrame\n",
      "\n",
      "See the caveats in the documentation: https://pandas.pydata.org/pandas-docs/stable/user_guide/indexing.html#returning-a-view-versus-a-copy\n",
      "  final_df['return'][0]=0\n",
      "/Users/ericvincent/code/dynamic_portfolio/dynamic_portfolio/utils.py:106: SettingWithCopyWarning: \n",
      "A value is trying to be set on a copy of a slice from a DataFrame\n",
      "\n",
      "See the caveats in the documentation: https://pandas.pydata.org/pandas-docs/stable/user_guide/indexing.html#returning-a-view-versus-a-copy\n",
      "  second_split.dropna(inplace=True)\n",
      "/Users/ericvincent/code/dynamic_portfolio/dynamic_portfolio/utils.py:128: SettingWithCopyWarning: \n",
      "A value is trying to be set on a copy of a slice from a DataFrame\n",
      "\n",
      "See the caveats in the documentation: https://pandas.pydata.org/pandas-docs/stable/user_guide/indexing.html#returning-a-view-versus-a-copy\n",
      "  final_df['return'][0]=0\n",
      "/Users/ericvincent/code/dynamic_portfolio/dynamic_portfolio/utils.py:106: SettingWithCopyWarning: \n",
      "A value is trying to be set on a copy of a slice from a DataFrame\n",
      "\n",
      "See the caveats in the documentation: https://pandas.pydata.org/pandas-docs/stable/user_guide/indexing.html#returning-a-view-versus-a-copy\n",
      "  second_split.dropna(inplace=True)\n",
      "/Users/ericvincent/code/dynamic_portfolio/dynamic_portfolio/utils.py:128: SettingWithCopyWarning: \n",
      "A value is trying to be set on a copy of a slice from a DataFrame\n",
      "\n",
      "See the caveats in the documentation: https://pandas.pydata.org/pandas-docs/stable/user_guide/indexing.html#returning-a-view-versus-a-copy\n",
      "  final_df['return'][0]=0\n",
      "/Users/ericvincent/code/dynamic_portfolio/dynamic_portfolio/utils.py:106: SettingWithCopyWarning: \n",
      "A value is trying to be set on a copy of a slice from a DataFrame\n",
      "\n",
      "See the caveats in the documentation: https://pandas.pydata.org/pandas-docs/stable/user_guide/indexing.html#returning-a-view-versus-a-copy\n",
      "  second_split.dropna(inplace=True)\n",
      "/Users/ericvincent/code/dynamic_portfolio/dynamic_portfolio/utils.py:128: SettingWithCopyWarning: \n",
      "A value is trying to be set on a copy of a slice from a DataFrame\n",
      "\n",
      "See the caveats in the documentation: https://pandas.pydata.org/pandas-docs/stable/user_guide/indexing.html#returning-a-view-versus-a-copy\n",
      "  final_df['return'][0]=0\n",
      "/Users/ericvincent/code/dynamic_portfolio/dynamic_portfolio/utils.py:106: SettingWithCopyWarning: \n",
      "A value is trying to be set on a copy of a slice from a DataFrame\n",
      "\n",
      "See the caveats in the documentation: https://pandas.pydata.org/pandas-docs/stable/user_guide/indexing.html#returning-a-view-versus-a-copy\n",
      "  second_split.dropna(inplace=True)\n",
      "/Users/ericvincent/code/dynamic_portfolio/dynamic_portfolio/utils.py:128: SettingWithCopyWarning: \n",
      "A value is trying to be set on a copy of a slice from a DataFrame\n",
      "\n",
      "See the caveats in the documentation: https://pandas.pydata.org/pandas-docs/stable/user_guide/indexing.html#returning-a-view-versus-a-copy\n",
      "  final_df['return'][0]=0\n",
      "/Users/ericvincent/code/dynamic_portfolio/dynamic_portfolio/utils.py:106: SettingWithCopyWarning: \n",
      "A value is trying to be set on a copy of a slice from a DataFrame\n",
      "\n",
      "See the caveats in the documentation: https://pandas.pydata.org/pandas-docs/stable/user_guide/indexing.html#returning-a-view-versus-a-copy\n",
      "  second_split.dropna(inplace=True)\n",
      "/Users/ericvincent/code/dynamic_portfolio/dynamic_portfolio/utils.py:128: SettingWithCopyWarning: \n",
      "A value is trying to be set on a copy of a slice from a DataFrame\n",
      "\n",
      "See the caveats in the documentation: https://pandas.pydata.org/pandas-docs/stable/user_guide/indexing.html#returning-a-view-versus-a-copy\n",
      "  final_df['return'][0]=0\n",
      "/Users/ericvincent/code/dynamic_portfolio/dynamic_portfolio/utils.py:106: SettingWithCopyWarning: \n",
      "A value is trying to be set on a copy of a slice from a DataFrame\n",
      "\n",
      "See the caveats in the documentation: https://pandas.pydata.org/pandas-docs/stable/user_guide/indexing.html#returning-a-view-versus-a-copy\n",
      "  second_split.dropna(inplace=True)\n",
      "/Users/ericvincent/code/dynamic_portfolio/dynamic_portfolio/utils.py:128: SettingWithCopyWarning: \n",
      "A value is trying to be set on a copy of a slice from a DataFrame\n",
      "\n",
      "See the caveats in the documentation: https://pandas.pydata.org/pandas-docs/stable/user_guide/indexing.html#returning-a-view-versus-a-copy\n",
      "  final_df['return'][0]=0\n",
      "/Users/ericvincent/code/dynamic_portfolio/dynamic_portfolio/utils.py:106: SettingWithCopyWarning: \n",
      "A value is trying to be set on a copy of a slice from a DataFrame\n",
      "\n",
      "See the caveats in the documentation: https://pandas.pydata.org/pandas-docs/stable/user_guide/indexing.html#returning-a-view-versus-a-copy\n",
      "  second_split.dropna(inplace=True)\n",
      "/Users/ericvincent/code/dynamic_portfolio/dynamic_portfolio/utils.py:128: SettingWithCopyWarning: \n",
      "A value is trying to be set on a copy of a slice from a DataFrame\n",
      "\n",
      "See the caveats in the documentation: https://pandas.pydata.org/pandas-docs/stable/user_guide/indexing.html#returning-a-view-versus-a-copy\n",
      "  final_df['return'][0]=0\n"
     ]
    },
    {
     "name": "stderr",
     "output_type": "stream",
     "text": [
      "/Users/ericvincent/code/dynamic_portfolio/dynamic_portfolio/utils.py:106: SettingWithCopyWarning: \n",
      "A value is trying to be set on a copy of a slice from a DataFrame\n",
      "\n",
      "See the caveats in the documentation: https://pandas.pydata.org/pandas-docs/stable/user_guide/indexing.html#returning-a-view-versus-a-copy\n",
      "  second_split.dropna(inplace=True)\n",
      "/Users/ericvincent/code/dynamic_portfolio/dynamic_portfolio/utils.py:128: SettingWithCopyWarning: \n",
      "A value is trying to be set on a copy of a slice from a DataFrame\n",
      "\n",
      "See the caveats in the documentation: https://pandas.pydata.org/pandas-docs/stable/user_guide/indexing.html#returning-a-view-versus-a-copy\n",
      "  final_df['return'][0]=0\n",
      "/Users/ericvincent/code/dynamic_portfolio/dynamic_portfolio/utils.py:106: SettingWithCopyWarning: \n",
      "A value is trying to be set on a copy of a slice from a DataFrame\n",
      "\n",
      "See the caveats in the documentation: https://pandas.pydata.org/pandas-docs/stable/user_guide/indexing.html#returning-a-view-versus-a-copy\n",
      "  second_split.dropna(inplace=True)\n",
      "/Users/ericvincent/code/dynamic_portfolio/dynamic_portfolio/utils.py:128: SettingWithCopyWarning: \n",
      "A value is trying to be set on a copy of a slice from a DataFrame\n",
      "\n",
      "See the caveats in the documentation: https://pandas.pydata.org/pandas-docs/stable/user_guide/indexing.html#returning-a-view-versus-a-copy\n",
      "  final_df['return'][0]=0\n",
      "/Users/ericvincent/code/dynamic_portfolio/dynamic_portfolio/utils.py:106: SettingWithCopyWarning: \n",
      "A value is trying to be set on a copy of a slice from a DataFrame\n",
      "\n",
      "See the caveats in the documentation: https://pandas.pydata.org/pandas-docs/stable/user_guide/indexing.html#returning-a-view-versus-a-copy\n",
      "  second_split.dropna(inplace=True)\n",
      "/Users/ericvincent/code/dynamic_portfolio/dynamic_portfolio/utils.py:128: SettingWithCopyWarning: \n",
      "A value is trying to be set on a copy of a slice from a DataFrame\n",
      "\n",
      "See the caveats in the documentation: https://pandas.pydata.org/pandas-docs/stable/user_guide/indexing.html#returning-a-view-versus-a-copy\n",
      "  final_df['return'][0]=0\n",
      "/Users/ericvincent/code/dynamic_portfolio/dynamic_portfolio/utils.py:106: SettingWithCopyWarning: \n",
      "A value is trying to be set on a copy of a slice from a DataFrame\n",
      "\n",
      "See the caveats in the documentation: https://pandas.pydata.org/pandas-docs/stable/user_guide/indexing.html#returning-a-view-versus-a-copy\n",
      "  second_split.dropna(inplace=True)\n",
      "/Users/ericvincent/code/dynamic_portfolio/dynamic_portfolio/utils.py:128: SettingWithCopyWarning: \n",
      "A value is trying to be set on a copy of a slice from a DataFrame\n",
      "\n",
      "See the caveats in the documentation: https://pandas.pydata.org/pandas-docs/stable/user_guide/indexing.html#returning-a-view-versus-a-copy\n",
      "  final_df['return'][0]=0\n",
      "/Users/ericvincent/code/dynamic_portfolio/dynamic_portfolio/utils.py:106: SettingWithCopyWarning: \n",
      "A value is trying to be set on a copy of a slice from a DataFrame\n",
      "\n",
      "See the caveats in the documentation: https://pandas.pydata.org/pandas-docs/stable/user_guide/indexing.html#returning-a-view-versus-a-copy\n",
      "  second_split.dropna(inplace=True)\n",
      "/Users/ericvincent/code/dynamic_portfolio/dynamic_portfolio/utils.py:128: SettingWithCopyWarning: \n",
      "A value is trying to be set on a copy of a slice from a DataFrame\n",
      "\n",
      "See the caveats in the documentation: https://pandas.pydata.org/pandas-docs/stable/user_guide/indexing.html#returning-a-view-versus-a-copy\n",
      "  final_df['return'][0]=0\n",
      "/Users/ericvincent/code/dynamic_portfolio/dynamic_portfolio/utils.py:106: SettingWithCopyWarning: \n",
      "A value is trying to be set on a copy of a slice from a DataFrame\n",
      "\n",
      "See the caveats in the documentation: https://pandas.pydata.org/pandas-docs/stable/user_guide/indexing.html#returning-a-view-versus-a-copy\n",
      "  second_split.dropna(inplace=True)\n",
      "/Users/ericvincent/code/dynamic_portfolio/dynamic_portfolio/utils.py:128: SettingWithCopyWarning: \n",
      "A value is trying to be set on a copy of a slice from a DataFrame\n",
      "\n",
      "See the caveats in the documentation: https://pandas.pydata.org/pandas-docs/stable/user_guide/indexing.html#returning-a-view-versus-a-copy\n",
      "  final_df['return'][0]=0\n",
      "/Users/ericvincent/code/dynamic_portfolio/dynamic_portfolio/utils.py:106: SettingWithCopyWarning: \n",
      "A value is trying to be set on a copy of a slice from a DataFrame\n",
      "\n",
      "See the caveats in the documentation: https://pandas.pydata.org/pandas-docs/stable/user_guide/indexing.html#returning-a-view-versus-a-copy\n",
      "  second_split.dropna(inplace=True)\n",
      "/Users/ericvincent/code/dynamic_portfolio/dynamic_portfolio/utils.py:128: SettingWithCopyWarning: \n",
      "A value is trying to be set on a copy of a slice from a DataFrame\n",
      "\n",
      "See the caveats in the documentation: https://pandas.pydata.org/pandas-docs/stable/user_guide/indexing.html#returning-a-view-versus-a-copy\n",
      "  final_df['return'][0]=0\n",
      "/Users/ericvincent/code/dynamic_portfolio/dynamic_portfolio/utils.py:106: SettingWithCopyWarning: \n",
      "A value is trying to be set on a copy of a slice from a DataFrame\n",
      "\n",
      "See the caveats in the documentation: https://pandas.pydata.org/pandas-docs/stable/user_guide/indexing.html#returning-a-view-versus-a-copy\n",
      "  second_split.dropna(inplace=True)\n",
      "/Users/ericvincent/code/dynamic_portfolio/dynamic_portfolio/utils.py:128: SettingWithCopyWarning: \n",
      "A value is trying to be set on a copy of a slice from a DataFrame\n",
      "\n",
      "See the caveats in the documentation: https://pandas.pydata.org/pandas-docs/stable/user_guide/indexing.html#returning-a-view-versus-a-copy\n",
      "  final_df['return'][0]=0\n",
      "/Users/ericvincent/code/dynamic_portfolio/dynamic_portfolio/utils.py:106: SettingWithCopyWarning: \n",
      "A value is trying to be set on a copy of a slice from a DataFrame\n",
      "\n",
      "See the caveats in the documentation: https://pandas.pydata.org/pandas-docs/stable/user_guide/indexing.html#returning-a-view-versus-a-copy\n",
      "  second_split.dropna(inplace=True)\n",
      "/Users/ericvincent/code/dynamic_portfolio/dynamic_portfolio/utils.py:128: SettingWithCopyWarning: \n",
      "A value is trying to be set on a copy of a slice from a DataFrame\n",
      "\n",
      "See the caveats in the documentation: https://pandas.pydata.org/pandas-docs/stable/user_guide/indexing.html#returning-a-view-versus-a-copy\n",
      "  final_df['return'][0]=0\n",
      "/Users/ericvincent/code/dynamic_portfolio/dynamic_portfolio/utils.py:106: SettingWithCopyWarning: \n",
      "A value is trying to be set on a copy of a slice from a DataFrame\n",
      "\n",
      "See the caveats in the documentation: https://pandas.pydata.org/pandas-docs/stable/user_guide/indexing.html#returning-a-view-versus-a-copy\n",
      "  second_split.dropna(inplace=True)\n",
      "/Users/ericvincent/code/dynamic_portfolio/dynamic_portfolio/utils.py:128: SettingWithCopyWarning: \n",
      "A value is trying to be set on a copy of a slice from a DataFrame\n",
      "\n",
      "See the caveats in the documentation: https://pandas.pydata.org/pandas-docs/stable/user_guide/indexing.html#returning-a-view-versus-a-copy\n",
      "  final_df['return'][0]=0\n",
      "/Users/ericvincent/code/dynamic_portfolio/dynamic_portfolio/utils.py:106: SettingWithCopyWarning: \n",
      "A value is trying to be set on a copy of a slice from a DataFrame\n",
      "\n",
      "See the caveats in the documentation: https://pandas.pydata.org/pandas-docs/stable/user_guide/indexing.html#returning-a-view-versus-a-copy\n",
      "  second_split.dropna(inplace=True)\n",
      "/Users/ericvincent/code/dynamic_portfolio/dynamic_portfolio/utils.py:128: SettingWithCopyWarning: \n",
      "A value is trying to be set on a copy of a slice from a DataFrame\n",
      "\n",
      "See the caveats in the documentation: https://pandas.pydata.org/pandas-docs/stable/user_guide/indexing.html#returning-a-view-versus-a-copy\n",
      "  final_df['return'][0]=0\n",
      "/Users/ericvincent/code/dynamic_portfolio/dynamic_portfolio/utils.py:106: SettingWithCopyWarning: \n",
      "A value is trying to be set on a copy of a slice from a DataFrame\n",
      "\n",
      "See the caveats in the documentation: https://pandas.pydata.org/pandas-docs/stable/user_guide/indexing.html#returning-a-view-versus-a-copy\n",
      "  second_split.dropna(inplace=True)\n",
      "/Users/ericvincent/code/dynamic_portfolio/dynamic_portfolio/utils.py:128: SettingWithCopyWarning: \n",
      "A value is trying to be set on a copy of a slice from a DataFrame\n",
      "\n",
      "See the caveats in the documentation: https://pandas.pydata.org/pandas-docs/stable/user_guide/indexing.html#returning-a-view-versus-a-copy\n",
      "  final_df['return'][0]=0\n",
      "/Users/ericvincent/code/dynamic_portfolio/dynamic_portfolio/utils.py:106: SettingWithCopyWarning: \n",
      "A value is trying to be set on a copy of a slice from a DataFrame\n",
      "\n",
      "See the caveats in the documentation: https://pandas.pydata.org/pandas-docs/stable/user_guide/indexing.html#returning-a-view-versus-a-copy\n",
      "  second_split.dropna(inplace=True)\n",
      "/Users/ericvincent/code/dynamic_portfolio/dynamic_portfolio/utils.py:128: SettingWithCopyWarning: \n",
      "A value is trying to be set on a copy of a slice from a DataFrame\n",
      "\n",
      "See the caveats in the documentation: https://pandas.pydata.org/pandas-docs/stable/user_guide/indexing.html#returning-a-view-versus-a-copy\n",
      "  final_df['return'][0]=0\n"
     ]
    },
    {
     "name": "stderr",
     "output_type": "stream",
     "text": [
      "/Users/ericvincent/code/dynamic_portfolio/dynamic_portfolio/utils.py:106: SettingWithCopyWarning: \n",
      "A value is trying to be set on a copy of a slice from a DataFrame\n",
      "\n",
      "See the caveats in the documentation: https://pandas.pydata.org/pandas-docs/stable/user_guide/indexing.html#returning-a-view-versus-a-copy\n",
      "  second_split.dropna(inplace=True)\n",
      "/Users/ericvincent/code/dynamic_portfolio/dynamic_portfolio/utils.py:128: SettingWithCopyWarning: \n",
      "A value is trying to be set on a copy of a slice from a DataFrame\n",
      "\n",
      "See the caveats in the documentation: https://pandas.pydata.org/pandas-docs/stable/user_guide/indexing.html#returning-a-view-versus-a-copy\n",
      "  final_df['return'][0]=0\n"
     ]
    }
   ],
   "source": [
    "rmses = []\n",
    "\n",
    "\n",
    "for ticker in tickers:\n",
    "    df = ready_to_train_df(ticker)\n",
    "    rmse = cross_validate_ml(df)[0]\n",
    "    rmses.append(rmse)\n"
   ]
  },
  {
   "cell_type": "code",
   "execution_count": null,
   "id": "e33e2b23",
   "metadata": {
    "ExecuteTime": {
     "end_time": "2022-12-04T13:09:37.314887Z",
     "start_time": "2022-12-04T13:09:37.304399Z"
    }
   },
   "outputs": [],
   "source": [
    "np.mean(rmses)"
   ]
  },
  {
   "cell_type": "code",
   "execution_count": null,
   "id": "d2cc2da0",
   "metadata": {},
   "outputs": [],
   "source": []
  }
 ],
 "metadata": {
  "kernelspec": {
   "display_name": "Python 3 (ipykernel)",
   "language": "python",
   "name": "python3"
  },
  "language_info": {
   "codemirror_mode": {
    "name": "ipython",
    "version": 3
   },
   "file_extension": ".py",
   "mimetype": "text/x-python",
   "name": "python",
   "nbconvert_exporter": "python",
   "pygments_lexer": "ipython3",
   "version": "3.10.6"
  },
  "toc": {
   "base_numbering": 1,
   "nav_menu": {},
   "number_sections": true,
   "sideBar": true,
   "skip_h1_title": false,
   "title_cell": "Table of Contents",
   "title_sidebar": "Contents",
   "toc_cell": false,
   "toc_position": {},
   "toc_section_display": true,
   "toc_window_display": false
  }
 },
 "nbformat": 4,
 "nbformat_minor": 5
}
