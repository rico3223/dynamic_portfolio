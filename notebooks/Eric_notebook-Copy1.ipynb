{
 "cells": [
  {
   "cell_type": "code",
   "execution_count": null,
   "id": "309e0f1c",
   "metadata": {
    "ExecuteTime": {
     "end_time": "2022-12-02T08:19:27.106744Z",
     "start_time": "2022-12-02T08:19:26.858703Z"
    }
   },
   "outputs": [],
   "source": [
    "import pandas as pd"
   ]
  },
  {
   "cell_type": "code",
   "execution_count": null,
   "id": "8b2d1bd3",
   "metadata": {
    "ExecuteTime": {
     "end_time": "2022-12-02T08:19:27.179623Z",
     "start_time": "2022-12-02T08:19:27.177831Z"
    }
   },
   "outputs": [],
   "source": [
    "import numpy as np"
   ]
  },
  {
   "cell_type": "code",
   "execution_count": null,
   "id": "df41a4a1",
   "metadata": {
    "ExecuteTime": {
     "end_time": "2022-12-02T08:19:28.868554Z",
     "start_time": "2022-12-02T08:19:28.537505Z"
    }
   },
   "outputs": [],
   "source": [
    "from dynamic_portfolio.utils import load_csv\n",
    "from dynamic_portfolio.utils import features_creation, clean_data\n",
    "from dynamic_portfolio.preprocess import scaler"
   ]
  },
  {
   "cell_type": "markdown",
   "id": "19d01300",
   "metadata": {},
   "source": [
    "# Loading data and creating clean dataframe"
   ]
  },
  {
   "cell_type": "code",
   "execution_count": null,
   "id": "9420e32e",
   "metadata": {
    "ExecuteTime": {
     "end_time": "2022-12-02T08:52:46.475428Z",
     "start_time": "2022-12-02T08:52:46.368828Z"
    }
   },
   "outputs": [],
   "source": [
    "df = features_creation('META')"
   ]
  },
  {
   "cell_type": "code",
   "execution_count": null,
   "id": "b6363374",
   "metadata": {
    "ExecuteTime": {
     "end_time": "2022-12-02T08:52:48.330587Z",
     "start_time": "2022-12-02T08:52:48.324007Z"
    }
   },
   "outputs": [],
   "source": [
    "pd.set_option('display.max_columns', None)"
   ]
  },
  {
   "cell_type": "markdown",
   "id": "cbaebcbd",
   "metadata": {},
   "source": [
    "# Cross vals"
   ]
  },
  {
   "cell_type": "markdown",
   "id": "dfc31db2",
   "metadata": {},
   "source": [
    "We use sklearn's time series split to break up the data in different folds\n",
    "We use a sklearn example to run the first tests.\n",
    "\n",
    "Metrics used : \n",
    " - rmse\n",
    " - mae\n",
    " - R2"
   ]
  },
  {
   "cell_type": "code",
   "execution_count": null,
   "id": "d0c719f6",
   "metadata": {
    "ExecuteTime": {
     "end_time": "2022-12-02T08:19:59.345931Z",
     "start_time": "2022-12-02T08:19:59.326127Z"
    }
   },
   "outputs": [],
   "source": [
    "from sklearn.model_selection import TimeSeriesSplit"
   ]
  },
  {
   "cell_type": "code",
   "execution_count": null,
   "id": "19aff74a",
   "metadata": {
    "ExecuteTime": {
     "end_time": "2022-12-02T08:55:44.151243Z",
     "start_time": "2022-12-02T08:55:44.141942Z"
    }
   },
   "outputs": [],
   "source": [
    "ts_cv = TimeSeriesSplit(\n",
    "    n_splits=20,\n",
    "    gap=0,\n",
    "    max_train_size=252,\n",
    "    test_size=45,\n",
    ")"
   ]
  },
  {
   "cell_type": "code",
   "execution_count": null,
   "id": "fc575dc4",
   "metadata": {},
   "outputs": [],
   "source": [
    "all_splits = list(ts_cv.split(X, y))"
   ]
  },
  {
   "cell_type": "code",
   "execution_count": 11,
   "id": "8dcdc4ce",
   "metadata": {
    "ExecuteTime": {
     "end_time": "2022-12-07T08:14:32.723393Z",
     "start_time": "2022-12-07T08:14:32.693016Z"
    }
   },
   "outputs": [],
   "source": [
    "from sklearn.ensemble import HistGradientBoostingRegressor\n",
    "from sklearn.model_selection import cross_validate\n",
    "from sklearn.model_selection import cross_val_score\n",
    "from sklearn.metrics import mean_squared_error"
   ]
  },
  {
   "cell_type": "code",
   "execution_count": null,
   "id": "286365a0",
   "metadata": {
    "ExecuteTime": {
     "end_time": "2022-12-02T08:21:46.267703Z",
     "start_time": "2022-12-02T08:21:46.259434Z"
    }
   },
   "outputs": [],
   "source": [
    "model = HistGradientBoostingRegressor()"
   ]
  },
  {
   "cell_type": "code",
   "execution_count": null,
   "id": "999f16d9",
   "metadata": {
    "ExecuteTime": {
     "end_time": "2022-12-02T08:36:25.880376Z",
     "start_time": "2022-12-02T08:31:50.247799Z"
    }
   },
   "outputs": [],
   "source": [
    "rmse = []\n",
    "for train_index, test_index in ts_cv.split(X):\n",
    "    cv_train, cv_test = X.iloc[train_index], X.iloc[test_index]\n",
    "    model = model.fit(X,y)\n",
    "    predictions = model.predict(cv_test)\n",
    "    true_values = cv_test['return']\n",
    "    rmse.append(np.sqrt(mean_squared_error(true_values, predictions)))"
   ]
  },
  {
   "cell_type": "code",
   "execution_count": null,
   "id": "01d38cb5",
   "metadata": {
    "ExecuteTime": {
     "end_time": "2022-12-02T08:37:48.457651Z",
     "start_time": "2022-12-02T08:37:48.449394Z"
    }
   },
   "outputs": [],
   "source": [
    "np.mean(rmse)*100"
   ]
  },
  {
   "cell_type": "code",
   "execution_count": null,
   "id": "db0f2a9c",
   "metadata": {
    "ExecuteTime": {
     "end_time": "2022-12-02T08:54:01.669818Z",
     "start_time": "2022-12-02T08:54:01.661065Z"
    }
   },
   "outputs": [],
   "source": [
    "def evaluate(model, X, y, cv):\n",
    "    cv_results = cross_validate(\n",
    "        model,\n",
    "        X,\n",
    "        y,\n",
    "        cv=cv,\n",
    "        scoring=[\"neg_mean_absolute_error\", \"neg_root_mean_squared_error\"],\n",
    "    )\n",
    "    mae = -cv_results[\"test_neg_mean_absolute_error\"]\n",
    "    rmse = -cv_results[\"test_neg_root_mean_squared_error\"]\n",
    "    print(\n",
    "        f\"Mean Absolute Error:     {mae.mean():.6f} +/- {mae.std():.6f}\\n\"\n",
    "        f\"Root Mean Squared Error: {rmse.mean():.6f} +/- {rmse.std():.6f}\"\n",
    "    )\n"
   ]
  },
  {
   "cell_type": "code",
   "execution_count": null,
   "id": "e0b4b633",
   "metadata": {},
   "outputs": [],
   "source": [
    "import seaborn as sns"
   ]
  },
  {
   "cell_type": "code",
   "execution_count": null,
   "id": "7200e5be",
   "metadata": {
    "ExecuteTime": {
     "end_time": "2022-12-02T08:56:07.338741Z",
     "start_time": "2022-12-02T08:55:50.048380Z"
    }
   },
   "outputs": [],
   "source": [
    "evaluate(model, X, y, ts_cv)"
   ]
  },
  {
   "cell_type": "markdown",
   "id": "d06d32eb",
   "metadata": {},
   "source": [
    "# PCA Analysis"
   ]
  },
  {
   "cell_type": "code",
   "execution_count": null,
   "id": "2e2fe0e1",
   "metadata": {
    "ExecuteTime": {
     "end_time": "2022-12-06T10:37:24.095118Z",
     "start_time": "2022-12-06T10:37:24.069698Z"
    }
   },
   "outputs": [],
   "source": [
    "from sklearn.decomposition import PCA"
   ]
  },
  {
   "cell_type": "code",
   "execution_count": null,
   "id": "4fe089e4",
   "metadata": {
    "ExecuteTime": {
     "end_time": "2022-12-06T14:23:12.992906Z",
     "start_time": "2022-12-06T14:23:12.775302Z"
    }
   },
   "outputs": [],
   "source": [
    "pca = PCA(n_components=0.9)\n",
    "ibm = prep.ready_to_train_df('IBM')\n",
    "pca.fit(ibm)"
   ]
  },
  {
   "cell_type": "code",
   "execution_count": null,
   "id": "808cb684",
   "metadata": {
    "ExecuteTime": {
     "end_time": "2022-12-06T14:23:16.952880Z",
     "start_time": "2022-12-06T14:23:16.927409Z"
    }
   },
   "outputs": [],
   "source": [
    "n_pcs= pca.n_components_ # get number of component\n",
    "# get the index of the most important feature on EACH component\n",
    "most_important = [np.abs(pca.components_[i]).argmax() for i in range(n_pcs)]\n",
    "initial_feature_names = ibm.columns\n",
    "# get the most important feature names\n",
    "most_important_names = [initial_feature_names[most_important[i]] for i in range(n_pcs)]"
   ]
  },
  {
   "cell_type": "code",
   "execution_count": null,
   "id": "4004813d",
   "metadata": {
    "ExecuteTime": {
     "end_time": "2022-12-06T14:23:25.977502Z",
     "start_time": "2022-12-06T14:23:25.949855Z"
    }
   },
   "outputs": [],
   "source": [
    "most_important_names"
   ]
  },
  {
   "cell_type": "code",
   "execution_count": null,
   "id": "99cbf35e",
   "metadata": {},
   "outputs": [],
   "source": []
  },
  {
   "cell_type": "code",
   "execution_count": null,
   "id": "3b98ba0d",
   "metadata": {},
   "outputs": [],
   "source": []
  },
  {
   "cell_type": "code",
   "execution_count": null,
   "id": "8068f689",
   "metadata": {},
   "outputs": [],
   "source": []
  },
  {
   "cell_type": "markdown",
   "id": "23f617b0",
   "metadata": {},
   "source": [
    "## Using PCA analysis on all stocks"
   ]
  },
  {
   "cell_type": "code",
   "execution_count": null,
   "id": "2fd82368",
   "metadata": {
    "ExecuteTime": {
     "end_time": "2022-12-06T10:37:12.647715Z",
     "start_time": "2022-12-06T10:37:12.621135Z"
    }
   },
   "outputs": [],
   "source": [
    "from sklearn.pipeline import make_pipeline"
   ]
  },
  {
   "cell_type": "code",
   "execution_count": null,
   "id": "bf1c3824",
   "metadata": {
    "ExecuteTime": {
     "end_time": "2022-12-06T10:38:17.401120Z",
     "start_time": "2022-12-06T10:38:17.380088Z"
    }
   },
   "outputs": [],
   "source": [
    "pipe.get_params()"
   ]
  },
  {
   "cell_type": "code",
   "execution_count": null,
   "id": "0bd65f1d",
   "metadata": {
    "ExecuteTime": {
     "end_time": "2022-12-06T10:39:58.699205Z",
     "start_time": "2022-12-06T10:39:58.666792Z"
    }
   },
   "outputs": [],
   "source": [
    "pipe = make_pipeline(PCA(), GradientBoostingRegressor())\n",
    "\n",
    "params = {'pca__n_components':0.9,\n",
    "                'gradientboostingregressor__max_depth':3,\n",
    "                'gradientboostingregressor__criterion':'friedman_mse',\n",
    "                'gradientboostingregressor__n_estimators':100,\n",
    "                'gradientboostingregressor__learning_rate':0.08}\n",
    "pipe.set_params(**params)"
   ]
  },
  {
   "cell_type": "code",
   "execution_count": null,
   "id": "4f6b835a",
   "metadata": {
    "ExecuteTime": {
     "end_time": "2022-12-06T11:03:57.855604Z",
     "start_time": "2022-12-06T10:42:04.427027Z"
    }
   },
   "outputs": [],
   "source": [
    "pca_dict_score = {}\n",
    "tickers = utils.return_tickers()\n",
    "for ticker in tickers:\n",
    "        dict_pca_score[ticker] = cross_validate_ml(prep.ready_to_train_df(ticker), pipe)\n",
    "        print(f\"done for ticker {ticker} index # {tickers.index(ticker)}\")"
   ]
  },
  {
   "cell_type": "code",
   "execution_count": null,
   "id": "1dc647de",
   "metadata": {},
   "outputs": [],
   "source": []
  },
  {
   "cell_type": "code",
   "execution_count": null,
   "id": "043ed73f",
   "metadata": {
    "ExecuteTime": {
     "end_time": "2022-12-06T11:26:43.265897Z",
     "start_time": "2022-12-06T11:06:29.287564Z"
    },
    "scrolled": true
   },
   "outputs": [],
   "source": [
    "pca_dict_score = {}\n",
    "tickers = utils.return_tickers()\n",
    "for ticker in tickers:\n",
    "    pca = PCA(n_components=0.9)\n",
    "    ticker_df = prep.ready_to_train_df(ticker)\n",
    "    pca.fit(ticker_df)\n",
    "    n_pcs= pca.n_components_\n",
    "    most_important = [np.abs(pca.components_[i]).argmax() for i in range(n_pcs)]\n",
    "    initial_feature_names = ticker_df.columns\n",
    "    most_important_names = [initial_feature_names[most_important[i]] for i in range(n_pcs)]\n",
    "    pca_df = ticker_df[list(np.unique(most_important_names))] \n",
    "    returns = ticker_df[['return']]\n",
    "    final_pca = pd.merge(pca_df, returns, how='outer', left_index=True, right_index=True)\n",
    "    pca_dict_score[ticker] = cross_validate_ml(final_pca, GradientBoostingRegressor(max_depth = 3, \n",
    "                                                                                    criterion='friedman_mse',\n",
    "                                                                                    learning_rate=0.08,\n",
    "                                                                                    n_estimators = 100))\n",
    "    print(f\"done for ticker {ticker} index # {tickers.index(ticker)}\")"
   ]
  },
  {
   "cell_type": "code",
   "execution_count": null,
   "id": "10f52856",
   "metadata": {
    "ExecuteTime": {
     "end_time": "2022-12-06T11:31:28.459421Z",
     "start_time": "2022-12-06T11:31:28.426417Z"
    }
   },
   "outputs": [],
   "source": [
    "rmse_pca= []\n",
    "baseline = []\n",
    "for key in pca_dict_score.keys():\n",
    "    rmse_pca.append(pca_dict_score[key][0])\n",
    "    baseline.append(pca_dict_score[key][1])\n",
    "print(np.mean(rmse_pca), np.mean(baseline) )"
   ]
  },
  {
   "cell_type": "code",
   "execution_count": null,
   "id": "b51c29d3",
   "metadata": {
    "ExecuteTime": {
     "end_time": "2022-12-02T08:44:19.570067Z",
     "start_time": "2022-12-02T08:44:19.401956Z"
    }
   },
   "outputs": [],
   "source": [
    "import matplotlib.pyplot as plt"
   ]
  },
  {
   "cell_type": "code",
   "execution_count": null,
   "id": "b05f203d",
   "metadata": {
    "ExecuteTime": {
     "end_time": "2022-12-02T08:44:22.236582Z",
     "start_time": "2022-12-02T08:44:22.123704Z"
    }
   },
   "outputs": [],
   "source": [
    "plt.plot(np.cumsum(pca.explained_variance_ratio_))\n",
    "plt.ylim(ymin=0)\n",
    "plt.title('cumulated share of explained variance')\n",
    "plt.xlabel('# of principal component used');"
   ]
  },
  {
   "cell_type": "code",
   "execution_count": 1,
   "id": "559acad7",
   "metadata": {
    "ExecuteTime": {
     "end_time": "2022-12-07T08:07:00.284283Z",
     "start_time": "2022-12-07T08:06:59.672921Z"
    }
   },
   "outputs": [],
   "source": [
    "import pandas as pd\n",
    "import numpy as np\n",
    "import dynamic_portfolio.preprocess as prep\n",
    "import dynamic_portfolio.utils as utils\n",
    "import dynamic_portfolio.cross_validate as cv\n",
    "from sklearn.ensemble import GradientBoostingRegressor\n",
    "import warnings\n",
    "%load_ext autoreload\n",
    "%autoreload 2\n",
    "warnings.filterwarnings(action='ignore')\n",
    "pd.set_option('display.max_columns', None)"
   ]
  },
  {
   "cell_type": "markdown",
   "id": "7e6c8217",
   "metadata": {},
   "source": [
    "### Cross validation functions"
   ]
  },
  {
   "cell_type": "code",
   "execution_count": null,
   "id": "01bdc4ee",
   "metadata": {
    "ExecuteTime": {
     "end_time": "2022-12-06T15:20:14.608657Z",
     "start_time": "2022-12-06T15:20:14.576866Z"
    }
   },
   "outputs": [],
   "source": [
    "import numpy as np\n",
    "import pandas as pd\n",
    "from sklearn.metrics import mean_squared_error\n",
    "cross_val = {\n",
    "    'fold_length' : 252, # Working days for 1 year\n",
    "    'fold_stride' : 60, # Step between folds, here one quarter\n",
    "    'train_test_ratio' : 0.7, # Split in fold\n",
    "    'input_length' : 0, # Number of days to move back from last train_index, here 0\n",
    "    'horizon' : 1, # Number of days ahead to make prediction, here 1\n",
    "    'output_length' : 1, # Number of targets wanted\n",
    "}\n",
    "#Split the dataset by FOLDS\n",
    "def get_folds(\n",
    "    df: pd.DataFrame,\n",
    "    fold_length = cross_val['fold_length'],\n",
    "    fold_stride = cross_val['fold_stride']):\n",
    "    '''\n",
    "    This function slides through the Time Series dataframe of shape (n_timesteps, n_features) to create folds\n",
    "    - of equal `fold_length`\n",
    "    - using `fold_stride` between each fold\n",
    "    Returns a list of folds, each as a DataFrame\n",
    "    '''\n",
    "    folds = []\n",
    "    for idx in range(0, len(df), fold_stride):\n",
    "        # Exits the loop as soon as the last fold index would exceed the last index\n",
    "        if (idx + fold_length) > len(df):\n",
    "            break\n",
    "        fold = df.iloc[idx:idx + fold_length, :]\n",
    "        folds.append(fold)\n",
    "    return folds\n",
    "#Split FOLDS by Train et Test\n",
    "#### FOR ONE FOLD !!!!!\n",
    "def train_test_split(fold: pd.DataFrame,\n",
    "                     train_test_ratio = cross_val['train_test_ratio'],\n",
    "                     input_length = cross_val['input_length']):\n",
    "    '''\n",
    "    Returns a train dataframe and a test dataframe (fold_train, fold_test)\n",
    "    from which one can sample (X,y) sequences.\n",
    "    df_train should contain all the timesteps until round(train_test_ratio * len(fold))\n",
    "    '''\n",
    "    # TRAIN SET\n",
    "    # ======================\n",
    "    last_train_idx = round(train_test_ratio * len(fold))\n",
    "    fold_train = fold.iloc[0:last_train_idx, :]\n",
    "    # TEST SET\n",
    "    # ======================\n",
    "    first_test_idx = last_train_idx - input_length \n",
    "    fold_test = fold.iloc[first_test_idx:, :]\n",
    "    return (fold_train, fold_test)\n",
    "def cross_validate_ml(df, model) :\n",
    "    '''\n",
    "    get_folds() create many FOLDS, train_test_split() create a split on ONE FOLDS.\n",
    "    The goal of this function is to make splits and sequences on each FOLDS.\n",
    "    Then, apply a model.\n",
    "    '''\n",
    "    folds = get_folds(df, fold_length = cross_val['fold_length'], fold_stride = cross_val['fold_stride']) # 1 - Creating FOLDS\n",
    "    scores =[]\n",
    "    baseline = []\n",
    "    for fold in folds:\n",
    "        # 2 - CHRONOLOGICAL TRAIN TEST SPLIT of the current FOLD\n",
    "        (fold_train, fold_test) = train_test_split(fold = fold,\n",
    "                                                train_test_ratio = cross_val['train_test_ratio'],\n",
    "                                                input_length = cross_val['input_length'] ,\n",
    "                                                )\n",
    "        # 3 - Scanninng fold_train and fold_test for SEQUENCES\n",
    "        X_train, y_train = fold_train, fold_train[['return']].shift(1).replace(np.nan,0)\n",
    "        X_test, y_test = fold_test, fold_test[['return']].shift(1).replace(np.nan,0)\n",
    "        model.fit(X_train, y_train)\n",
    "        rmse_model = (mean_squared_error(y_test, model.predict(X_test)))**0.5\n",
    "        scores.append(rmse_model)\n",
    "        rmse_baseline = mean_squared_error(y_test.iloc[[0]], y_train.iloc[[-1]])**0.5\n",
    "        baseline.append(rmse_baseline)\n",
    "    return np.mean(scores), np.mean(baseline)"
   ]
  },
  {
   "cell_type": "markdown",
   "id": "fd281657",
   "metadata": {},
   "source": [
    "### Script to run for model on all stocks"
   ]
  },
  {
   "cell_type": "markdown",
   "id": "0c08f7e3",
   "metadata": {},
   "source": [
    "### Models used"
   ]
  },
  {
   "cell_type": "code",
   "execution_count": 2,
   "id": "a2dea8de",
   "metadata": {
    "ExecuteTime": {
     "end_time": "2022-12-07T08:07:05.109326Z",
     "start_time": "2022-12-07T08:07:05.065135Z"
    }
   },
   "outputs": [],
   "source": [
    "from sklearn.ensemble import HistGradientBoostingRegressor\n",
    "from sklearn.ensemble import GradientBoostingRegressor\n",
    "from xgboost import XGBRegressor"
   ]
  },
  {
   "cell_type": "code",
   "execution_count": null,
   "id": "2c827fed",
   "metadata": {
    "ExecuteTime": {
     "end_time": "2022-12-06T15:41:11.669513Z",
     "start_time": "2022-12-06T15:20:19.187283Z"
    }
   },
   "outputs": [],
   "source": [
    "dict_score = {}\n",
    "tickers = utils.return_tickers()\n",
    "for ticker in tickers:\n",
    "        dict_score[ticker] = cross_validate_ml(prep.ready_to_train_df(ticker), XGBRegressor())\n",
    "        print(f\"done for ticker {ticker} index # {tickers.index(ticker)}\")"
   ]
  },
  {
   "cell_type": "markdown",
   "id": "373b8f4d",
   "metadata": {},
   "source": [
    "### Cross val scoring"
   ]
  },
  {
   "cell_type": "code",
   "execution_count": null,
   "id": "88ed12af",
   "metadata": {
    "ExecuteTime": {
     "end_time": "2022-12-06T10:31:13.692301Z",
     "start_time": "2022-12-06T10:31:13.665214Z"
    }
   },
   "outputs": [],
   "source": [
    "rmse= []\n",
    "baseline = []\n",
    "for key in dict_score.keys():\n",
    "    rmse.append(dict_score[key][0])\n",
    "    baseline.append(dict_score[key][1])\n",
    "print(np.mean(rmse), np.mean(baseline) )"
   ]
  },
  {
   "cell_type": "markdown",
   "id": "7e130ccf",
   "metadata": {},
   "source": [
    "## Custom grid search"
   ]
  },
  {
   "cell_type": "code",
   "execution_count": null,
   "id": "aac5c628",
   "metadata": {
    "ExecuteTime": {
     "end_time": "2022-12-05T15:25:40.338767Z",
     "start_time": "2022-12-05T15:25:40.312234Z"
    }
   },
   "outputs": [],
   "source": [
    "max_depth = [2, 5, 8]\n",
    "criterion = ['friedman_mse', 'squared_error', 'mse']\n",
    "learning_rate=[0.01, 0.1, 0.2] \n",
    "n_estimators=[100, 200, 500]"
   ]
  },
  {
   "cell_type": "code",
   "execution_count": null,
   "id": "a6db405e",
   "metadata": {},
   "outputs": [],
   "source": []
  },
  {
   "cell_type": "code",
   "execution_count": null,
   "id": "e82efc93",
   "metadata": {
    "ExecuteTime": {
     "end_time": "2022-12-06T09:19:16.229421Z",
     "start_time": "2022-12-06T09:19:16.199027Z"
    }
   },
   "outputs": [],
   "source": [
    "def custom_gridsearch(df, model, max_depth=[2,3,4], criterion = ['friedman_mse', 'squared_error', 'mse'], n_estimator=[50, 75, 100], learning_rate=[0.08, 0.1, 0.12], loss=['squared_error', 'absolute_error', 'huber']):\n",
    "    counter = 0\n",
    "    rmse = []\n",
    "    baseline = []\n",
    "    params = []\n",
    "    for max_depth_i in max_depth:\n",
    "        for criterion_i in criterion:\n",
    "            for n_estimator_i in n_estimator:\n",
    "                for learning_rate_i in learning_rate:\n",
    "                    for loss_i in loss:\n",
    "                        test = cross_validate_ml(df = df, model = model(max_depth=max_depth_i,\n",
    "                                                                   criterion = criterion_i,\n",
    "                                                                   n_estimators = n_estimator_i,\n",
    "                                                                   learning_rate = learning_rate_i,\n",
    "                                                                   loss = loss_i))\n",
    "                        rmse.append(test[0])\n",
    "                        baseline.append(test[1])\n",
    "                        params.append((max_depth_i, criterion_i, n_estimator_i, learning_rate_i))\n",
    "                        counter += 1\n",
    "                        print(f'model {counter} done with parameters: max_depth = {max_depth_i}, criterion = {criterion_i}, estimators = {n_estimator_i}, learning rate = {learning_rate_i}, loss = {loss_i}, rmse = {test[0]}')\n",
    "    idx_min = np.argmin(rmse)\n",
    "    best_params = params[idx_min]\n",
    "    \n",
    "    return best_params, rmse, params"
   ]
  },
  {
   "cell_type": "markdown",
   "id": "d9e02c56",
   "metadata": {},
   "source": [
    "### Model results on one stock on a grid search"
   ]
  },
  {
   "cell_type": "code",
   "execution_count": null,
   "id": "92e4e313",
   "metadata": {
    "ExecuteTime": {
     "end_time": "2022-12-06T09:44:15.668227Z",
     "start_time": "2022-12-06T09:19:29.718526Z"
    },
    "scrolled": true
   },
   "outputs": [],
   "source": [
    "gs_IP = custom_gridsearch(prep.ready_to_train_df('IP'), model = GradientBoostingRegressor)"
   ]
  },
  {
   "cell_type": "code",
   "execution_count": null,
   "id": "fef33251",
   "metadata": {
    "ExecuteTime": {
     "end_time": "2022-12-06T10:34:38.067317Z",
     "start_time": "2022-12-06T10:34:38.029878Z"
    }
   },
   "outputs": [],
   "source": [
    "gs_IP"
   ]
  },
  {
   "cell_type": "code",
   "execution_count": null,
   "id": "4de1c84b",
   "metadata": {
    "ExecuteTime": {
     "end_time": "2022-12-06T09:46:22.145038Z",
     "start_time": "2022-12-06T09:46:22.116797Z"
    }
   },
   "outputs": [],
   "source": [
    "np.mean(baseline)"
   ]
  },
  {
   "cell_type": "markdown",
   "id": "e8a1c938",
   "metadata": {},
   "source": [
    "### Saving models"
   ]
  },
  {
   "cell_type": "code",
   "execution_count": null,
   "id": "6fa24c55",
   "metadata": {
    "ExecuteTime": {
     "end_time": "2022-12-06T11:35:35.451616Z",
     "start_time": "2022-12-06T11:35:35.419318Z"
    }
   },
   "outputs": [],
   "source": [
    "pipe = make_pipeline(PCA(), GradientBoostingRegressor())\n",
    "\n",
    "params = {'pca__n_components':0.9,\n",
    "                'gradientboostingregressor__max_depth':,\n",
    "                'gradientboostingregressor__criterion':'friedman_mse',\n",
    "                'gradientboostingregressor__n_estimators':100,\n",
    "                'gradientboostingregressor__learning_rate':0.1}\n",
    "pipe.set_params(**params)"
   ]
  },
  {
   "cell_type": "code",
   "execution_count": null,
   "id": "d0630359",
   "metadata": {
    "ExecuteTime": {
     "end_time": "2022-12-06T15:41:21.283565Z",
     "start_time": "2022-12-06T15:41:21.257663Z"
    }
   },
   "outputs": [],
   "source": [
    "xgb_pipe = make_pipeline(PCA(), XGBRegressor())\n",
    "\n",
    "params = {'pca__n_components':0.9,\n",
    "                'xgbregressor__max_depth': 5,\n",
    "                'xgbregressor__max_leaves':0,\n",
    "                'xgbregressor__n_estimators':100,\n",
    "                'xgbregressor__learning_rate':0.1}\n"
   ]
  },
  {
   "cell_type": "code",
   "execution_count": null,
   "id": "c942f35a",
   "metadata": {
    "ExecuteTime": {
     "end_time": "2022-12-06T16:14:56.139564Z",
     "start_time": "2022-12-06T16:14:56.116749Z"
    }
   },
   "outputs": [],
   "source": [
    "model = XGBRegressor()"
   ]
  },
  {
   "cell_type": "code",
   "execution_count": null,
   "id": "a7335c65",
   "metadata": {
    "ExecuteTime": {
     "end_time": "2022-12-06T16:15:07.997777Z",
     "start_time": "2022-12-06T16:15:07.969239Z"
    }
   },
   "outputs": [],
   "source": [
    "model.get_params()"
   ]
  },
  {
   "cell_type": "code",
   "execution_count": null,
   "id": "bb00b3a6",
   "metadata": {
    "ExecuteTime": {
     "end_time": "2022-12-06T15:41:25.260584Z",
     "start_time": "2022-12-06T15:41:25.225886Z"
    }
   },
   "outputs": [],
   "source": [
    "xgb_pipe.set_params(**params)"
   ]
  },
  {
   "cell_type": "code",
   "execution_count": 59,
   "id": "1151b904",
   "metadata": {
    "ExecuteTime": {
     "end_time": "2022-12-07T09:03:24.569352Z",
     "start_time": "2022-12-07T09:03:24.552582Z"
    }
   },
   "outputs": [],
   "source": [
    "import joblib"
   ]
  },
  {
   "cell_type": "code",
   "execution_count": null,
   "id": "1bd79430",
   "metadata": {
    "ExecuteTime": {
     "end_time": "2022-12-06T11:52:55.212467Z",
     "start_time": "2022-12-06T11:49:52.225946Z"
    }
   },
   "outputs": [],
   "source": [
    "tickers = utils.return_tickers()\n",
    "for ticker in tickers:\n",
    "    model = pipe\n",
    "    df = prep.ready_to_train_df(ticker)\n",
    "    model.fit(df, df['return'])\n",
    "    joblib.dump(model, f\"../raw_data/models/{ticker}_XGBoostDefault.joblib\")\n",
    "    print(f\"Model {ticker} index # {tickers.index(ticker)} saved\")"
   ]
  },
  {
   "cell_type": "code",
   "execution_count": null,
   "id": "f94414b7",
   "metadata": {
    "ExecuteTime": {
     "end_time": "2022-12-06T17:14:20.431751Z",
     "start_time": "2022-12-06T16:45:54.375141Z"
    }
   },
   "outputs": [],
   "source": [
    "tickers = utils.return_tickers()\n",
    "scores = []\n",
    "for ticker in tickers:\n",
    "    model = GradientBoostingRegressor()\n",
    "    X_train = prep.ready_to_train_df(ticker)\n",
    "    y_train = prep.ready_to_train_df(ticker)['return'].shift(1).replace(np.nan,0)\n",
    "    X_test = prep.ready_to_test(ticker)\n",
    "    y_test = prep.ready_to_test(ticker)['return'].shift(1).replace(np.nan,0)\n",
    "    model.fit(X_train, y_train)\n",
    "    error = (mean_squared_error(y_test, model.predict(X_test)))**0.5\n",
    "    scores.append(error)\n",
    "    print(f\"error for {ticker}: {error}, index # {tickers.index(ticker)}\")"
   ]
  },
  {
   "cell_type": "code",
   "execution_count": null,
   "id": "045042e6",
   "metadata": {
    "ExecuteTime": {
     "end_time": "2022-12-06T17:14:29.948984Z",
     "start_time": "2022-12-06T17:14:29.921631Z"
    }
   },
   "outputs": [],
   "source": [
    "np.mean(scores)"
   ]
  },
  {
   "cell_type": "code",
   "execution_count": null,
   "id": "ed11f3f1",
   "metadata": {
    "ExecuteTime": {
     "end_time": "2022-12-06T17:14:41.990617Z",
     "start_time": "2022-12-06T17:14:41.964784Z"
    }
   },
   "outputs": [],
   "source": [
    "np.std(scores)"
   ]
  },
  {
   "cell_type": "markdown",
   "id": "ffd0be53",
   "metadata": {},
   "source": [
    "## Baseline calculation"
   ]
  },
  {
   "cell_type": "code",
   "execution_count": null,
   "id": "007e4759",
   "metadata": {
    "ExecuteTime": {
     "end_time": "2022-12-06T13:44:29.624815Z",
     "start_time": "2022-12-06T13:40:21.080191Z"
    }
   },
   "outputs": [],
   "source": [
    "tickers = utils.return_tickers()\n",
    "baseline = []\n",
    "for ticker in tickers:\n",
    "    df = prep.ready_to_test(ticker)\n",
    "    for i in range(1, len(df), 1):\n",
    "        error = (mean_squared_error(df.loc[i,['return']], df.loc[i-1,['return']]))**0.5\n",
    "        baseline.append(error)\n",
    "    print(f\"baseline done for {ticker} index # {tickers.index(ticker)}\")"
   ]
  },
  {
   "cell_type": "code",
   "execution_count": null,
   "id": "da5198e0",
   "metadata": {
    "ExecuteTime": {
     "end_time": "2022-12-06T13:46:25.738518Z",
     "start_time": "2022-12-06T13:46:25.695921Z"
    }
   },
   "outputs": [],
   "source": [
    "np.mean(baseline)\n",
    "\n"
   ]
  },
  {
   "cell_type": "code",
   "execution_count": null,
   "id": "9476e0ee",
   "metadata": {
    "ExecuteTime": {
     "end_time": "2022-12-06T13:46:42.744415Z",
     "start_time": "2022-12-06T13:46:42.697615Z"
    }
   },
   "outputs": [],
   "source": [
    "np.std(baseline)"
   ]
  },
  {
   "cell_type": "code",
   "execution_count": null,
   "id": "251740c9",
   "metadata": {
    "ExecuteTime": {
     "end_time": "2022-12-06T12:03:01.191322Z",
     "start_time": "2022-12-06T12:03:01.158597Z"
    }
   },
   "outputs": [],
   "source": [
    "model = joblib.load(f\"../raw_data/models/QCOM_GradientBoostingRegressor_PCA.joblib\")"
   ]
  },
  {
   "cell_type": "code",
   "execution_count": null,
   "id": "4150cb0f",
   "metadata": {},
   "outputs": [],
   "source": [
    "tickers = utils.return_tickers()\n",
    "y_pred = []\n",
    "for ticker in tickers:\n",
    "    model = joblib.load(model, f\"model/{ticker}_GradientBoostingRegressor_PCA.joblib\")\n",
    "    y_pred.append(model.predict(df))"
   ]
  },
  {
   "cell_type": "code",
   "execution_count": 35,
   "id": "46f5b4da",
   "metadata": {
    "ExecuteTime": {
     "end_time": "2022-12-07T08:38:54.714582Z",
     "start_time": "2022-12-07T08:38:54.144404Z"
    }
   },
   "outputs": [],
   "source": [
    "ticker = 'WTW'\n",
    "X_train = prep.ready_to_train_df(ticker)\n",
    "y_train = prep.ready_to_train_df(ticker)['return'].shift(1).replace(np.nan,0)\n",
    "X_test = prep.ready_to_test_df(ticker)\n",
    "y_test = prep.ready_to_test_df(ticker)['return'].shift(1).replace(np.nan,0)"
   ]
  },
  {
   "cell_type": "code",
   "execution_count": 36,
   "id": "9df7009c",
   "metadata": {
    "ExecuteTime": {
     "end_time": "2022-12-07T08:38:57.745822Z",
     "start_time": "2022-12-07T08:38:57.717104Z"
    }
   },
   "outputs": [],
   "source": [
    "model = GradientBoostingRegressor()"
   ]
  },
  {
   "cell_type": "code",
   "execution_count": 37,
   "id": "6db6e7ba",
   "metadata": {
    "ExecuteTime": {
     "end_time": "2022-12-07T08:38:59.216035Z",
     "start_time": "2022-12-07T08:38:58.306668Z"
    }
   },
   "outputs": [
    {
     "data": {
      "text/html": [
       "<style>#sk-container-id-3 {color: black;background-color: white;}#sk-container-id-3 pre{padding: 0;}#sk-container-id-3 div.sk-toggleable {background-color: white;}#sk-container-id-3 label.sk-toggleable__label {cursor: pointer;display: block;width: 100%;margin-bottom: 0;padding: 0.3em;box-sizing: border-box;text-align: center;}#sk-container-id-3 label.sk-toggleable__label-arrow:before {content: \"▸\";float: left;margin-right: 0.25em;color: #696969;}#sk-container-id-3 label.sk-toggleable__label-arrow:hover:before {color: black;}#sk-container-id-3 div.sk-estimator:hover label.sk-toggleable__label-arrow:before {color: black;}#sk-container-id-3 div.sk-toggleable__content {max-height: 0;max-width: 0;overflow: hidden;text-align: left;background-color: #f0f8ff;}#sk-container-id-3 div.sk-toggleable__content pre {margin: 0.2em;color: black;border-radius: 0.25em;background-color: #f0f8ff;}#sk-container-id-3 input.sk-toggleable__control:checked~div.sk-toggleable__content {max-height: 200px;max-width: 100%;overflow: auto;}#sk-container-id-3 input.sk-toggleable__control:checked~label.sk-toggleable__label-arrow:before {content: \"▾\";}#sk-container-id-3 div.sk-estimator input.sk-toggleable__control:checked~label.sk-toggleable__label {background-color: #d4ebff;}#sk-container-id-3 div.sk-label input.sk-toggleable__control:checked~label.sk-toggleable__label {background-color: #d4ebff;}#sk-container-id-3 input.sk-hidden--visually {border: 0;clip: rect(1px 1px 1px 1px);clip: rect(1px, 1px, 1px, 1px);height: 1px;margin: -1px;overflow: hidden;padding: 0;position: absolute;width: 1px;}#sk-container-id-3 div.sk-estimator {font-family: monospace;background-color: #f0f8ff;border: 1px dotted black;border-radius: 0.25em;box-sizing: border-box;margin-bottom: 0.5em;}#sk-container-id-3 div.sk-estimator:hover {background-color: #d4ebff;}#sk-container-id-3 div.sk-parallel-item::after {content: \"\";width: 100%;border-bottom: 1px solid gray;flex-grow: 1;}#sk-container-id-3 div.sk-label:hover label.sk-toggleable__label {background-color: #d4ebff;}#sk-container-id-3 div.sk-serial::before {content: \"\";position: absolute;border-left: 1px solid gray;box-sizing: border-box;top: 0;bottom: 0;left: 50%;z-index: 0;}#sk-container-id-3 div.sk-serial {display: flex;flex-direction: column;align-items: center;background-color: white;padding-right: 0.2em;padding-left: 0.2em;position: relative;}#sk-container-id-3 div.sk-item {position: relative;z-index: 1;}#sk-container-id-3 div.sk-parallel {display: flex;align-items: stretch;justify-content: center;background-color: white;position: relative;}#sk-container-id-3 div.sk-item::before, #sk-container-id-3 div.sk-parallel-item::before {content: \"\";position: absolute;border-left: 1px solid gray;box-sizing: border-box;top: 0;bottom: 0;left: 50%;z-index: -1;}#sk-container-id-3 div.sk-parallel-item {display: flex;flex-direction: column;z-index: 1;position: relative;background-color: white;}#sk-container-id-3 div.sk-parallel-item:first-child::after {align-self: flex-end;width: 50%;}#sk-container-id-3 div.sk-parallel-item:last-child::after {align-self: flex-start;width: 50%;}#sk-container-id-3 div.sk-parallel-item:only-child::after {width: 0;}#sk-container-id-3 div.sk-dashed-wrapped {border: 1px dashed gray;margin: 0 0.4em 0.5em 0.4em;box-sizing: border-box;padding-bottom: 0.4em;background-color: white;}#sk-container-id-3 div.sk-label label {font-family: monospace;font-weight: bold;display: inline-block;line-height: 1.2em;}#sk-container-id-3 div.sk-label-container {text-align: center;}#sk-container-id-3 div.sk-container {/* jupyter's `normalize.less` sets `[hidden] { display: none; }` but bootstrap.min.css set `[hidden] { display: none !important; }` so we also need the `!important` here to be able to override the default hidden behavior on the sphinx rendered scikit-learn.org. See: https://github.com/scikit-learn/scikit-learn/issues/21755 */display: inline-block !important;position: relative;}#sk-container-id-3 div.sk-text-repr-fallback {display: none;}</style><div id=\"sk-container-id-3\" class=\"sk-top-container\"><div class=\"sk-text-repr-fallback\"><pre>GradientBoostingRegressor()</pre><b>In a Jupyter environment, please rerun this cell to show the HTML representation or trust the notebook. <br />On GitHub, the HTML representation is unable to render, please try loading this page with nbviewer.org.</b></div><div class=\"sk-container\" hidden><div class=\"sk-item\"><div class=\"sk-estimator sk-toggleable\"><input class=\"sk-toggleable__control sk-hidden--visually\" id=\"sk-estimator-id-3\" type=\"checkbox\" checked><label for=\"sk-estimator-id-3\" class=\"sk-toggleable__label sk-toggleable__label-arrow\">GradientBoostingRegressor</label><div class=\"sk-toggleable__content\"><pre>GradientBoostingRegressor()</pre></div></div></div></div></div>"
      ],
      "text/plain": [
       "GradientBoostingRegressor()"
      ]
     },
     "execution_count": 37,
     "metadata": {},
     "output_type": "execute_result"
    }
   ],
   "source": [
    "model.fit(X_train, y_train)"
   ]
  },
  {
   "cell_type": "code",
   "execution_count": 38,
   "id": "3bef0da5",
   "metadata": {
    "ExecuteTime": {
     "end_time": "2022-12-07T08:39:07.906388Z",
     "start_time": "2022-12-07T08:39:07.877261Z"
    }
   },
   "outputs": [],
   "source": [
    "pred_wtw = pd.DataFrame(model.predict(X_test), columns=[f\"{ticker}\"], index = X_test.index)"
   ]
  },
  {
   "cell_type": "code",
   "execution_count": 47,
   "id": "8e31a1a3",
   "metadata": {
    "ExecuteTime": {
     "end_time": "2022-12-07T08:46:27.817335Z",
     "start_time": "2022-12-07T08:46:27.788939Z"
    }
   },
   "outputs": [],
   "source": [
    "df_1 = pd.concat([df, pred_wtw], axis = 1)"
   ]
  },
  {
   "cell_type": "code",
   "execution_count": 48,
   "id": "173d99dc",
   "metadata": {
    "ExecuteTime": {
     "end_time": "2022-12-07T08:46:28.203195Z",
     "start_time": "2022-12-07T08:46:28.176297Z"
    }
   },
   "outputs": [
    {
     "data": {
      "text/html": [
       "<div>\n",
       "<style scoped>\n",
       "    .dataframe tbody tr th:only-of-type {\n",
       "        vertical-align: middle;\n",
       "    }\n",
       "\n",
       "    .dataframe tbody tr th {\n",
       "        vertical-align: top;\n",
       "    }\n",
       "\n",
       "    .dataframe thead th {\n",
       "        text-align: right;\n",
       "    }\n",
       "</style>\n",
       "<table border=\"1\" class=\"dataframe\">\n",
       "  <thead>\n",
       "    <tr style=\"text-align: right;\">\n",
       "      <th></th>\n",
       "      <th>WTW</th>\n",
       "    </tr>\n",
       "    <tr>\n",
       "      <th>date</th>\n",
       "      <th></th>\n",
       "    </tr>\n",
       "  </thead>\n",
       "  <tbody>\n",
       "    <tr>\n",
       "      <th>2021-07-16</th>\n",
       "      <td>-0.004304</td>\n",
       "    </tr>\n",
       "    <tr>\n",
       "      <th>2021-07-19</th>\n",
       "      <td>0.002006</td>\n",
       "    </tr>\n",
       "    <tr>\n",
       "      <th>2021-07-20</th>\n",
       "      <td>-0.027596</td>\n",
       "    </tr>\n",
       "    <tr>\n",
       "      <th>2021-07-21</th>\n",
       "      <td>0.019297</td>\n",
       "    </tr>\n",
       "    <tr>\n",
       "      <th>2021-07-22</th>\n",
       "      <td>0.022737</td>\n",
       "    </tr>\n",
       "    <tr>\n",
       "      <th>...</th>\n",
       "      <td>...</td>\n",
       "    </tr>\n",
       "    <tr>\n",
       "      <th>2022-11-16</th>\n",
       "      <td>0.008243</td>\n",
       "    </tr>\n",
       "    <tr>\n",
       "      <th>2022-11-17</th>\n",
       "      <td>0.006935</td>\n",
       "    </tr>\n",
       "    <tr>\n",
       "      <th>2022-11-18</th>\n",
       "      <td>-0.000674</td>\n",
       "    </tr>\n",
       "    <tr>\n",
       "      <th>2022-11-21</th>\n",
       "      <td>0.007739</td>\n",
       "    </tr>\n",
       "    <tr>\n",
       "      <th>2022-11-22</th>\n",
       "      <td>0.018221</td>\n",
       "    </tr>\n",
       "  </tbody>\n",
       "</table>\n",
       "<p>337 rows × 1 columns</p>\n",
       "</div>"
      ],
      "text/plain": [
       "                 WTW\n",
       "date                \n",
       "2021-07-16 -0.004304\n",
       "2021-07-19  0.002006\n",
       "2021-07-20 -0.027596\n",
       "2021-07-21  0.019297\n",
       "2021-07-22  0.022737\n",
       "...              ...\n",
       "2022-11-16  0.008243\n",
       "2022-11-17  0.006935\n",
       "2022-11-18 -0.000674\n",
       "2022-11-21  0.007739\n",
       "2022-11-22  0.018221\n",
       "\n",
       "[337 rows x 1 columns]"
      ]
     },
     "execution_count": 48,
     "metadata": {},
     "output_type": "execute_result"
    }
   ],
   "source": [
    "df_1"
   ]
  },
  {
   "cell_type": "code",
   "execution_count": 52,
   "id": "f47a0a18",
   "metadata": {
    "ExecuteTime": {
     "end_time": "2022-12-07T08:50:57.681381Z",
     "start_time": "2022-12-07T08:50:57.655086Z"
    }
   },
   "outputs": [],
   "source": [
    "temp = [pred_wtw, pred_zts, pred]"
   ]
  },
  {
   "cell_type": "code",
   "execution_count": 55,
   "id": "c1d02f9e",
   "metadata": {
    "ExecuteTime": {
     "end_time": "2022-12-07T08:51:14.946059Z",
     "start_time": "2022-12-07T08:51:14.916090Z"
    }
   },
   "outputs": [],
   "source": [
    "df_3 = pd.concat(temp, axis=1)"
   ]
  },
  {
   "cell_type": "code",
   "execution_count": 56,
   "id": "24c67b3c",
   "metadata": {
    "ExecuteTime": {
     "end_time": "2022-12-07T08:51:15.481358Z",
     "start_time": "2022-12-07T08:51:15.449873Z"
    }
   },
   "outputs": [
    {
     "data": {
      "text/html": [
       "<div>\n",
       "<style scoped>\n",
       "    .dataframe tbody tr th:only-of-type {\n",
       "        vertical-align: middle;\n",
       "    }\n",
       "\n",
       "    .dataframe tbody tr th {\n",
       "        vertical-align: top;\n",
       "    }\n",
       "\n",
       "    .dataframe thead th {\n",
       "        text-align: right;\n",
       "    }\n",
       "</style>\n",
       "<table border=\"1\" class=\"dataframe\">\n",
       "  <thead>\n",
       "    <tr style=\"text-align: right;\">\n",
       "      <th></th>\n",
       "      <th>WTW</th>\n",
       "      <th>ZTS</th>\n",
       "      <th>AAPL</th>\n",
       "    </tr>\n",
       "    <tr>\n",
       "      <th>date</th>\n",
       "      <th></th>\n",
       "      <th></th>\n",
       "      <th></th>\n",
       "    </tr>\n",
       "  </thead>\n",
       "  <tbody>\n",
       "    <tr>\n",
       "      <th>2018-07-09</th>\n",
       "      <td>NaN</td>\n",
       "      <td>NaN</td>\n",
       "      <td>0.013787</td>\n",
       "    </tr>\n",
       "    <tr>\n",
       "      <th>2018-07-10</th>\n",
       "      <td>NaN</td>\n",
       "      <td>NaN</td>\n",
       "      <td>0.013746</td>\n",
       "    </tr>\n",
       "    <tr>\n",
       "      <th>2018-07-11</th>\n",
       "      <td>NaN</td>\n",
       "      <td>NaN</td>\n",
       "      <td>-0.001507</td>\n",
       "    </tr>\n",
       "    <tr>\n",
       "      <th>2018-07-12</th>\n",
       "      <td>NaN</td>\n",
       "      <td>NaN</td>\n",
       "      <td>-0.012839</td>\n",
       "    </tr>\n",
       "    <tr>\n",
       "      <th>2018-07-13</th>\n",
       "      <td>NaN</td>\n",
       "      <td>NaN</td>\n",
       "      <td>0.016576</td>\n",
       "    </tr>\n",
       "    <tr>\n",
       "      <th>...</th>\n",
       "      <td>...</td>\n",
       "      <td>...</td>\n",
       "      <td>...</td>\n",
       "    </tr>\n",
       "    <tr>\n",
       "      <th>2022-11-16</th>\n",
       "      <td>0.008243</td>\n",
       "      <td>0.024363</td>\n",
       "      <td>0.011724</td>\n",
       "    </tr>\n",
       "    <tr>\n",
       "      <th>2022-11-17</th>\n",
       "      <td>0.006935</td>\n",
       "      <td>-0.010172</td>\n",
       "      <td>-0.007757</td>\n",
       "    </tr>\n",
       "    <tr>\n",
       "      <th>2022-11-18</th>\n",
       "      <td>-0.000674</td>\n",
       "      <td>-0.031445</td>\n",
       "      <td>0.013579</td>\n",
       "    </tr>\n",
       "    <tr>\n",
       "      <th>2022-11-21</th>\n",
       "      <td>0.007739</td>\n",
       "      <td>0.015109</td>\n",
       "      <td>0.003698</td>\n",
       "    </tr>\n",
       "    <tr>\n",
       "      <th>2022-11-22</th>\n",
       "      <td>0.018221</td>\n",
       "      <td>0.011274</td>\n",
       "      <td>-0.021384</td>\n",
       "    </tr>\n",
       "  </tbody>\n",
       "</table>\n",
       "<p>1086 rows × 3 columns</p>\n",
       "</div>"
      ],
      "text/plain": [
       "                 WTW       ZTS      AAPL\n",
       "date                                    \n",
       "2018-07-09       NaN       NaN  0.013787\n",
       "2018-07-10       NaN       NaN  0.013746\n",
       "2018-07-11       NaN       NaN -0.001507\n",
       "2018-07-12       NaN       NaN -0.012839\n",
       "2018-07-13       NaN       NaN  0.016576\n",
       "...              ...       ...       ...\n",
       "2022-11-16  0.008243  0.024363  0.011724\n",
       "2022-11-17  0.006935 -0.010172 -0.007757\n",
       "2022-11-18 -0.000674 -0.031445  0.013579\n",
       "2022-11-21  0.007739  0.015109  0.003698\n",
       "2022-11-22  0.018221  0.011274 -0.021384\n",
       "\n",
       "[1086 rows x 3 columns]"
      ]
     },
     "execution_count": 56,
     "metadata": {},
     "output_type": "execute_result"
    }
   ],
   "source": [
    "df_3"
   ]
  },
  {
   "cell_type": "code",
   "execution_count": 39,
   "id": "6ff6b46b",
   "metadata": {
    "ExecuteTime": {
     "end_time": "2022-12-07T08:39:14.531969Z",
     "start_time": "2022-12-07T08:39:14.501678Z"
    },
    "collapsed": true
   },
   "outputs": [
    {
     "data": {
      "text/html": [
       "<div>\n",
       "<style scoped>\n",
       "    .dataframe tbody tr th:only-of-type {\n",
       "        vertical-align: middle;\n",
       "    }\n",
       "\n",
       "    .dataframe tbody tr th {\n",
       "        vertical-align: top;\n",
       "    }\n",
       "\n",
       "    .dataframe thead th {\n",
       "        text-align: right;\n",
       "    }\n",
       "</style>\n",
       "<table border=\"1\" class=\"dataframe\">\n",
       "  <thead>\n",
       "    <tr style=\"text-align: right;\">\n",
       "      <th></th>\n",
       "      <th>WTW</th>\n",
       "    </tr>\n",
       "    <tr>\n",
       "      <th>date</th>\n",
       "      <th></th>\n",
       "    </tr>\n",
       "  </thead>\n",
       "  <tbody>\n",
       "    <tr>\n",
       "      <th>2021-07-16</th>\n",
       "      <td>-0.004304</td>\n",
       "    </tr>\n",
       "    <tr>\n",
       "      <th>2021-07-19</th>\n",
       "      <td>0.002006</td>\n",
       "    </tr>\n",
       "    <tr>\n",
       "      <th>2021-07-20</th>\n",
       "      <td>-0.027596</td>\n",
       "    </tr>\n",
       "    <tr>\n",
       "      <th>2021-07-21</th>\n",
       "      <td>0.019297</td>\n",
       "    </tr>\n",
       "    <tr>\n",
       "      <th>2021-07-22</th>\n",
       "      <td>0.022737</td>\n",
       "    </tr>\n",
       "    <tr>\n",
       "      <th>...</th>\n",
       "      <td>...</td>\n",
       "    </tr>\n",
       "    <tr>\n",
       "      <th>2022-11-16</th>\n",
       "      <td>0.008243</td>\n",
       "    </tr>\n",
       "    <tr>\n",
       "      <th>2022-11-17</th>\n",
       "      <td>0.006935</td>\n",
       "    </tr>\n",
       "    <tr>\n",
       "      <th>2022-11-18</th>\n",
       "      <td>-0.000674</td>\n",
       "    </tr>\n",
       "    <tr>\n",
       "      <th>2022-11-21</th>\n",
       "      <td>0.007739</td>\n",
       "    </tr>\n",
       "    <tr>\n",
       "      <th>2022-11-22</th>\n",
       "      <td>0.018221</td>\n",
       "    </tr>\n",
       "  </tbody>\n",
       "</table>\n",
       "<p>337 rows × 1 columns</p>\n",
       "</div>"
      ],
      "text/plain": [
       "                 WTW\n",
       "date                \n",
       "2021-07-16 -0.004304\n",
       "2021-07-19  0.002006\n",
       "2021-07-20 -0.027596\n",
       "2021-07-21  0.019297\n",
       "2021-07-22  0.022737\n",
       "...              ...\n",
       "2022-11-16  0.008243\n",
       "2022-11-17  0.006935\n",
       "2022-11-18 -0.000674\n",
       "2022-11-21  0.007739\n",
       "2022-11-22  0.018221\n",
       "\n",
       "[337 rows x 1 columns]"
      ]
     },
     "execution_count": 39,
     "metadata": {},
     "output_type": "execute_result"
    }
   ],
   "source": [
    "pred_wtw"
   ]
  },
  {
   "cell_type": "code",
   "execution_count": 34,
   "id": "049b07a2",
   "metadata": {
    "ExecuteTime": {
     "end_time": "2022-12-07T08:37:39.396304Z",
     "start_time": "2022-12-07T08:37:39.367472Z"
    },
    "collapsed": true
   },
   "outputs": [
    {
     "data": {
      "text/html": [
       "<div>\n",
       "<style scoped>\n",
       "    .dataframe tbody tr th:only-of-type {\n",
       "        vertical-align: middle;\n",
       "    }\n",
       "\n",
       "    .dataframe tbody tr th {\n",
       "        vertical-align: top;\n",
       "    }\n",
       "\n",
       "    .dataframe thead th {\n",
       "        text-align: right;\n",
       "    }\n",
       "</style>\n",
       "<table border=\"1\" class=\"dataframe\">\n",
       "  <thead>\n",
       "    <tr style=\"text-align: right;\">\n",
       "      <th></th>\n",
       "      <th>ZTS</th>\n",
       "    </tr>\n",
       "    <tr>\n",
       "      <th>date</th>\n",
       "      <th></th>\n",
       "    </tr>\n",
       "  </thead>\n",
       "  <tbody>\n",
       "    <tr>\n",
       "      <th>2020-12-24</th>\n",
       "      <td>-0.011570</td>\n",
       "    </tr>\n",
       "    <tr>\n",
       "      <th>2020-12-28</th>\n",
       "      <td>0.005519</td>\n",
       "    </tr>\n",
       "    <tr>\n",
       "      <th>2020-12-29</th>\n",
       "      <td>0.009949</td>\n",
       "    </tr>\n",
       "    <tr>\n",
       "      <th>2020-12-30</th>\n",
       "      <td>0.004380</td>\n",
       "    </tr>\n",
       "    <tr>\n",
       "      <th>2020-12-31</th>\n",
       "      <td>0.006858</td>\n",
       "    </tr>\n",
       "    <tr>\n",
       "      <th>...</th>\n",
       "      <td>...</td>\n",
       "    </tr>\n",
       "    <tr>\n",
       "      <th>2022-11-16</th>\n",
       "      <td>0.024363</td>\n",
       "    </tr>\n",
       "    <tr>\n",
       "      <th>2022-11-17</th>\n",
       "      <td>-0.010172</td>\n",
       "    </tr>\n",
       "    <tr>\n",
       "      <th>2022-11-18</th>\n",
       "      <td>-0.031445</td>\n",
       "    </tr>\n",
       "    <tr>\n",
       "      <th>2022-11-21</th>\n",
       "      <td>0.015109</td>\n",
       "    </tr>\n",
       "    <tr>\n",
       "      <th>2022-11-22</th>\n",
       "      <td>0.011274</td>\n",
       "    </tr>\n",
       "  </tbody>\n",
       "</table>\n",
       "<p>476 rows × 1 columns</p>\n",
       "</div>"
      ],
      "text/plain": [
       "                 ZTS\n",
       "date                \n",
       "2020-12-24 -0.011570\n",
       "2020-12-28  0.005519\n",
       "2020-12-29  0.009949\n",
       "2020-12-30  0.004380\n",
       "2020-12-31  0.006858\n",
       "...              ...\n",
       "2022-11-16  0.024363\n",
       "2022-11-17 -0.010172\n",
       "2022-11-18 -0.031445\n",
       "2022-11-21  0.015109\n",
       "2022-11-22  0.011274\n",
       "\n",
       "[476 rows x 1 columns]"
      ]
     },
     "execution_count": 34,
     "metadata": {},
     "output_type": "execute_result"
    }
   ],
   "source": [
    "pred_zts"
   ]
  },
  {
   "cell_type": "code",
   "execution_count": 26,
   "id": "d7d3702d",
   "metadata": {
    "ExecuteTime": {
     "end_time": "2022-12-07T08:31:11.031491Z",
     "start_time": "2022-12-07T08:31:11.000808Z"
    }
   },
   "outputs": [
    {
     "data": {
      "text/plain": [
       "DatetimeIndex(['2018-07-09', '2018-07-10', '2018-07-11', '2018-07-12',\n",
       "               '2018-07-13', '2018-07-16', '2018-07-17', '2018-07-18',\n",
       "               '2018-07-19', '2018-07-20',\n",
       "               ...\n",
       "               '2022-11-08', '2022-11-09', '2022-11-10', '2022-11-14',\n",
       "               '2022-11-15', '2022-11-16', '2022-11-17', '2022-11-18',\n",
       "               '2022-11-21', '2022-11-22'],\n",
       "              dtype='datetime64[ns]', name='date', length=1086, freq=None)"
      ]
     },
     "execution_count": 26,
     "metadata": {},
     "output_type": "execute_result"
    }
   ],
   "source": [
    "y_test.index"
   ]
  },
  {
   "cell_type": "code",
   "execution_count": 29,
   "id": "b24984c5",
   "metadata": {
    "ExecuteTime": {
     "end_time": "2022-12-07T08:34:14.944844Z",
     "start_time": "2022-12-07T08:34:14.916355Z"
    }
   },
   "outputs": [],
   "source": [
    "pred_zts = pd.DataFrame(model.predict(X_test), columns=[f\"{ticker}\"], index = X_test.index)"
   ]
  },
  {
   "cell_type": "code",
   "execution_count": 30,
   "id": "fb6e4956",
   "metadata": {
    "ExecuteTime": {
     "end_time": "2022-12-07T08:34:16.022849Z",
     "start_time": "2022-12-07T08:34:15.988673Z"
    }
   },
   "outputs": [
    {
     "data": {
      "text/html": [
       "<div>\n",
       "<style scoped>\n",
       "    .dataframe tbody tr th:only-of-type {\n",
       "        vertical-align: middle;\n",
       "    }\n",
       "\n",
       "    .dataframe tbody tr th {\n",
       "        vertical-align: top;\n",
       "    }\n",
       "\n",
       "    .dataframe thead th {\n",
       "        text-align: right;\n",
       "    }\n",
       "</style>\n",
       "<table border=\"1\" class=\"dataframe\">\n",
       "  <thead>\n",
       "    <tr style=\"text-align: right;\">\n",
       "      <th></th>\n",
       "      <th>AAPL</th>\n",
       "    </tr>\n",
       "    <tr>\n",
       "      <th>date</th>\n",
       "      <th></th>\n",
       "    </tr>\n",
       "  </thead>\n",
       "  <tbody>\n",
       "    <tr>\n",
       "      <th>2018-07-09</th>\n",
       "      <td>0.013787</td>\n",
       "    </tr>\n",
       "    <tr>\n",
       "      <th>2018-07-10</th>\n",
       "      <td>0.013746</td>\n",
       "    </tr>\n",
       "    <tr>\n",
       "      <th>2018-07-11</th>\n",
       "      <td>-0.001507</td>\n",
       "    </tr>\n",
       "    <tr>\n",
       "      <th>2018-07-12</th>\n",
       "      <td>-0.012839</td>\n",
       "    </tr>\n",
       "    <tr>\n",
       "      <th>2018-07-13</th>\n",
       "      <td>0.016576</td>\n",
       "    </tr>\n",
       "    <tr>\n",
       "      <th>...</th>\n",
       "      <td>...</td>\n",
       "    </tr>\n",
       "    <tr>\n",
       "      <th>2022-11-16</th>\n",
       "      <td>0.011724</td>\n",
       "    </tr>\n",
       "    <tr>\n",
       "      <th>2022-11-17</th>\n",
       "      <td>-0.007757</td>\n",
       "    </tr>\n",
       "    <tr>\n",
       "      <th>2022-11-18</th>\n",
       "      <td>0.013579</td>\n",
       "    </tr>\n",
       "    <tr>\n",
       "      <th>2022-11-21</th>\n",
       "      <td>0.003698</td>\n",
       "    </tr>\n",
       "    <tr>\n",
       "      <th>2022-11-22</th>\n",
       "      <td>-0.021384</td>\n",
       "    </tr>\n",
       "  </tbody>\n",
       "</table>\n",
       "<p>1086 rows × 1 columns</p>\n",
       "</div>"
      ],
      "text/plain": [
       "                AAPL\n",
       "date                \n",
       "2018-07-09  0.013787\n",
       "2018-07-10  0.013746\n",
       "2018-07-11 -0.001507\n",
       "2018-07-12 -0.012839\n",
       "2018-07-13  0.016576\n",
       "...              ...\n",
       "2022-11-16  0.011724\n",
       "2022-11-17 -0.007757\n",
       "2022-11-18  0.013579\n",
       "2022-11-21  0.003698\n",
       "2022-11-22 -0.021384\n",
       "\n",
       "[1086 rows x 1 columns]"
      ]
     },
     "execution_count": 30,
     "metadata": {},
     "output_type": "execute_result"
    }
   ],
   "source": [
    "pred"
   ]
  },
  {
   "cell_type": "code",
   "execution_count": null,
   "id": "c8082eb9",
   "metadata": {},
   "outputs": [],
   "source": []
  },
  {
   "cell_type": "code",
   "execution_count": 60,
   "id": "7c4017ee",
   "metadata": {
    "ExecuteTime": {
     "end_time": "2022-12-07T09:12:52.748261Z",
     "start_time": "2022-12-07T09:04:40.240948Z"
    }
   },
   "outputs": [
    {
     "name": "stdout",
     "output_type": "stream",
     "text": [
      "ticker AAPL done index # 0\n",
      "ticker MSFT done index # 1\n",
      "ticker GOOG done index # 2\n",
      "ticker AMZN done index # 3\n",
      "ticker TSLA done index # 4\n",
      "ticker UNH done index # 5\n",
      "ticker XOM done index # 6\n",
      "ticker JNJ done index # 7\n",
      "ticker WMT done index # 8\n",
      "ticker NVDA done index # 9\n",
      "ticker JPM done index # 10\n",
      "ticker V done index # 11\n",
      "ticker CVX done index # 12\n",
      "ticker PG done index # 13\n",
      "ticker LLY done index # 14\n",
      "ticker MA done index # 15\n",
      "ticker HD done index # 16\n",
      "ticker META done index # 17\n",
      "ticker BAC done index # 18\n",
      "ticker ABBV done index # 19\n",
      "ticker PFE done index # 20\n",
      "ticker KO done index # 21\n",
      "ticker MRK done index # 22\n",
      "ticker PEP done index # 23\n",
      "ticker COST done index # 24\n",
      "ticker ORCL done index # 25\n",
      "ticker AVGO done index # 26\n",
      "ticker TMO done index # 27\n",
      "ticker MCD done index # 28\n",
      "ticker CSCO done index # 29\n",
      "ticker ACN done index # 30\n",
      "ticker DHR done index # 31\n",
      "ticker TMUS done index # 32\n",
      "ticker ABT done index # 33\n",
      "ticker WFC done index # 34\n",
      "ticker DIS done index # 35\n",
      "ticker LIN done index # 36\n",
      "ticker NEE done index # 37\n",
      "ticker BMY done index # 38\n",
      "ticker NKE done index # 39\n",
      "ticker VZ done index # 40\n",
      "ticker TXN done index # 41\n",
      "ticker UPS done index # 42\n",
      "ticker COP done index # 43\n",
      "ticker ADBE done index # 44\n",
      "ticker CMCSA done index # 45\n",
      "ticker CRM done index # 46\n",
      "ticker PM done index # 47\n",
      "ticker MS done index # 48\n",
      "ticker AMGN done index # 49\n",
      "ticker SCHW done index # 50\n",
      "ticker HON done index # 51\n",
      "ticker RTX done index # 52\n",
      "ticker QCOM done index # 53\n",
      "ticker T done index # 54\n",
      "ticker IBM done index # 55\n",
      "ticker DE done index # 56\n",
      "ticker CVS done index # 57\n",
      "ticker LOW done index # 58\n",
      "ticker GS done index # 59\n",
      "ticker UNP done index # 60\n",
      "ticker NFLX done index # 61\n",
      "ticker LMT done index # 62\n",
      "ticker CAT done index # 63\n",
      "ticker AMD done index # 64\n",
      "ticker INTC done index # 65\n",
      "ticker ELV done index # 66\n",
      "ticker SPGI done index # 67\n",
      "ticker AXP done index # 68\n",
      "ticker SBUX done index # 69\n",
      "ticker INTU done index # 70\n",
      "ticker BLK done index # 71\n",
      "ticker ADP done index # 72\n",
      "ticker GILD done index # 73\n",
      "ticker PLD done index # 74\n",
      "ticker MDT done index # 75\n",
      "ticker BA done index # 76\n",
      "ticker AMT done index # 77\n",
      "ticker CI done index # 78\n",
      "ticker GE done index # 79\n",
      "ticker TJX done index # 80\n",
      "ticker ISRG done index # 81\n",
      "ticker C done index # 82\n",
      "ticker AMAT done index # 83\n",
      "ticker PYPL done index # 84\n",
      "ticker MDLZ done index # 85\n",
      "ticker CB done index # 86\n",
      "ticker SYK done index # 87\n",
      "ticker ADI done index # 88\n",
      "ticker MMC done index # 89\n",
      "ticker EOG done index # 90\n",
      "ticker NOW done index # 91\n",
      "ticker VRTX done index # 92\n",
      "ticker MO done index # 93\n",
      "ticker NOC done index # 94\n",
      "ticker EL done index # 95\n",
      "ticker REGN done index # 96\n",
      "ticker PGR done index # 97\n",
      "ticker BKNG done index # 98\n",
      "ticker DUK done index # 99\n",
      "ticker TGT done index # 100\n",
      "ticker SLB done index # 101\n",
      "ticker SO done index # 102\n",
      "ticker MMM done index # 103\n",
      "ticker ITW done index # 104\n",
      "ticker ZTS done index # 105\n",
      "ticker GD done index # 106\n",
      "ticker APD done index # 107\n",
      "ticker HUM done index # 108\n",
      "ticker MRNA done index # 109\n",
      "ticker BDX done index # 110\n",
      "ticker CSX done index # 111\n",
      "ticker WM done index # 112\n",
      "ticker PNC done index # 113\n",
      "ticker HCA done index # 114\n",
      "ticker ETN done index # 115\n",
      "ticker USB done index # 116\n",
      "ticker FISV done index # 117\n",
      "ticker SHW done index # 118\n",
      "ticker OXY done index # 119\n",
      "ticker CL done index # 120\n",
      "ticker MU done index # 121\n",
      "ticker CME done index # 122\n",
      "ticker AON done index # 123\n",
      "ticker LRCX done index # 124\n",
      "ticker BSX done index # 125\n",
      "ticker EQIX done index # 126\n",
      "ticker TFC done index # 127\n",
      "ticker PXD done index # 128\n",
      "ticker CHTR done index # 129\n",
      "ticker CCI done index # 130\n",
      "ticker MET done index # 131\n",
      "ticker ATVI done index # 132\n",
      "ticker ICE done index # 133\n",
      "ticker MPC done index # 134\n",
      "ticker NSC done index # 135\n",
      "ticker DG done index # 136\n",
      "ticker GM done index # 137\n",
      "ticker EMR done index # 138\n",
      "ticker F done index # 139\n",
      "ticker KLAC done index # 140\n",
      "ticker MCO done index # 141\n",
      "ticker FCX done index # 142\n",
      "ticker KDP done index # 143\n",
      "ticker MNST done index # 144\n",
      "ticker MCK done index # 145\n",
      "ticker VLO done index # 146\n",
      "ticker ORLY done index # 147\n",
      "ticker ADM done index # 148\n",
      "ticker PSX done index # 149\n",
      "ticker PSA done index # 150\n",
      "ticker SRE done index # 151\n",
      "ticker SNPS done index # 152\n",
      "ticker MAR done index # 153\n",
      "ticker D done index # 154\n",
      "ticker GIS done index # 155\n",
      "ticker AEP done index # 156\n",
      "ticker AZO done index # 157\n",
      "ticker KHC done index # 158\n",
      "ticker APH done index # 159\n",
      "ticker HSY done index # 160\n",
      "ticker CNC done index # 161\n",
      "ticker CTVA done index # 162\n",
      "ticker EW done index # 163\n",
      "ticker CTAS done index # 164\n",
      "ticker A done index # 165\n",
      "ticker ROP done index # 166\n",
      "ticker JCI done index # 167\n",
      "ticker CDNS done index # 168\n",
      "ticker FDX done index # 169\n",
      "ticker NXPI done index # 170\n",
      "ticker AIG done index # 171\n",
      "ticker KMB done index # 172\n",
      "ticker AFL done index # 173\n",
      "ticker HES done index # 174\n",
      "ticker MSI done index # 175\n",
      "ticker PAYX done index # 176\n",
      "ticker DVN done index # 177\n",
      "ticker TRV done index # 178\n",
      "ticker BIIB done index # 179\n",
      "ticker DXCM done index # 180\n",
      "ticker SYY done index # 181\n",
      "ticker LHX done index # 182\n",
      "ticker RSG done index # 183\n",
      "ticker ENPH done index # 184\n",
      "ticker ECL done index # 185\n",
      "ticker ADSK done index # 186\n",
      "ticker MCHP done index # 187\n",
      "ticker ANET done index # 188\n",
      "ticker KMI done index # 189\n",
      "ticker CMG done index # 190\n",
      "ticker FTNT done index # 191\n",
      "ticker AJG done index # 192\n",
      "ticker STZ done index # 193\n",
      "ticker TT done index # 194\n",
      "ticker WMB done index # 195\n",
      "ticker MSCI done index # 196\n",
      "ticker O done index # 197\n",
      "ticker IQV done index # 198\n",
      "ticker TEL done index # 199\n",
      "ticker ROST done index # 200\n",
      "ticker PRU done index # 201\n",
      "ticker EXC done index # 202\n",
      "ticker PH done index # 203\n",
      "ticker FIS done index # 204\n",
      "ticker SPG done index # 205\n",
      "ticker COF done index # 206\n",
      "ticker NUE done index # 207\n",
      "ticker XEL done index # 208\n",
      "ticker HLT done index # 209\n",
      "ticker CARR done index # 210\n",
      "ticker PCAR done index # 211\n",
      "ticker BK done index # 212\n",
      "ticker NEM done index # 213\n",
      "ticker DOW done index # 214\n",
      "ticker EA done index # 215\n",
      "ticker WBA done index # 216\n",
      "ticker DD done index # 217\n",
      "ticker ALL done index # 218\n",
      "ticker YUM done index # 219\n",
      "ticker AMP done index # 220\n",
      "ticker CMI done index # 221\n",
      "ticker ILMN done index # 222\n",
      "ticker TDG done index # 223\n",
      "ticker IDXX done index # 224\n",
      "ticker ED done index # 225\n",
      "ticker KR done index # 226\n",
      "ticker ABC done index # 227\n",
      "ticker DLTR done index # 228\n",
      "ticker RMD done index # 229\n",
      "ticker ALB done index # 230\n",
      "ticker HAL done index # 231\n",
      "ticker NDAQ done index # 232\n",
      "ticker LVS done index # 233\n",
      "ticker ODFL done index # 234\n",
      "ticker WELL done index # 235\n",
      "ticker AME done index # 236\n",
      "ticker CSGP done index # 237\n",
      "ticker OTIS done index # 238\n",
      "ticker MTD done index # 239\n",
      "ticker SBAC done index # 240\n",
      "ticker ON done index # 241\n",
      "ticker VICI done index # 242\n",
      "ticker DLR done index # 243\n",
      "ticker KEYS done index # 244\n",
      "ticker PPG done index # 245\n",
      "ticker WEC done index # 246\n",
      "ticker CTSH done index # 247\n",
      "ticker ROK done index # 248\n",
      "ticker GWW done index # 249\n",
      "ticker PCG done index # 250\n",
      "ticker HPQ done index # 251\n",
      "ticker FAST done index # 252\n",
      "ticker DFS done index # 253\n",
      "ticker MTB done index # 254\n",
      "ticker PEG done index # 255\n",
      "ticker OKE done index # 256\n",
      "ticker DHI done index # 257\n",
      "ticker APTV done index # 258\n",
      "ticker BKR done index # 259\n",
      "ticker GLW done index # 260\n",
      "ticker LYB done index # 261\n",
      "ticker ES done index # 262\n",
      "ticker BAX done index # 263\n",
      "ticker STT done index # 264\n",
      "ticker VRSK done index # 265\n",
      "ticker TROW done index # 266\n",
      "ticker WBD done index # 267\n",
      "ticker AWK done index # 268\n",
      "ticker IT done index # 269\n",
      "ticker GPN done index # 270\n",
      "ticker HRL done index # 271\n",
      "ticker FANG done index # 272\n",
      "ticker WTW done index # 273\n",
      "ticker RJF done index # 274\n",
      "ticker GPC done index # 275\n",
      "ticker IFF done index # 276\n",
      "ticker CDW done index # 277\n",
      "ticker TSCO done index # 278\n",
      "ticker FITB done index # 279\n",
      "ticker ARE done index # 280\n",
      "ticker URI done index # 281\n",
      "ticker ZBH done index # 282\n",
      "ticker K done index # 283\n",
      "ticker LEN done index # 284\n",
      "ticker EBAY done index # 285\n",
      "ticker EIX done index # 286\n",
      "ticker CBRE done index # 287\n",
      "ticker EFX done index # 288\n",
      "ticker VMC done index # 289\n",
      "ticker TSN done index # 290\n",
      "ticker HIG done index # 291\n",
      "ticker FTV done index # 292\n",
      "ticker WY done index # 293\n",
      "ticker EQR done index # 294\n",
      "ticker AVB done index # 295\n"
     ]
    },
    {
     "name": "stdout",
     "output_type": "stream",
     "text": [
      "ticker MKC done index # 296\n",
      "ticker ETR done index # 297\n",
      "ticker LUV done index # 298\n",
      "ticker ULTA done index # 299\n",
      "ticker AEE done index # 300\n",
      "ticker MLM done index # 301\n",
      "ticker FE done index # 302\n",
      "ticker PFG done index # 303\n",
      "ticker FRC done index # 304\n",
      "ticker DTE done index # 305\n",
      "ticker DAL done index # 306\n",
      "ticker HBAN done index # 307\n",
      "ticker IR done index # 308\n",
      "ticker CTRA done index # 309\n",
      "ticker ANSS done index # 310\n",
      "ticker ACGL done index # 311\n",
      "ticker PPL done index # 312\n",
      "ticker RF done index # 313\n",
      "ticker VRSN done index # 314\n",
      "ticker LH done index # 315\n",
      "ticker EXR done index # 316\n",
      "ticker PWR done index # 317\n",
      "ticker CF done index # 318\n",
      "ticker CAH done index # 319\n",
      "ticker CFG done index # 320\n",
      "ticker XYL done index # 321\n",
      "ticker HPE done index # 322\n",
      "ticker EPAM done index # 323\n",
      "ticker DOV done index # 324\n",
      "ticker WAT done index # 325\n",
      "ticker WRB done index # 326\n",
      "ticker TDY done index # 327\n",
      "ticker PAYC done index # 328\n",
      "ticker ROL done index # 329\n",
      "ticker NTRS done index # 330\n",
      "ticker MRO done index # 331\n",
      "ticker CNP done index # 332\n",
      "ticker INVH done index # 333\n",
      "ticker CHD done index # 334\n",
      "ticker AES done index # 335\n",
      "ticker MOH done index # 336\n",
      "ticker JBHT done index # 337\n",
      "ticker MAA done index # 338\n",
      "ticker BBY done index # 339\n",
      "ticker CLX done index # 340\n",
      "ticker HOLX done index # 341\n",
      "ticker WAB done index # 342\n",
      "ticker DRI done index # 343\n",
      "ticker EXPD done index # 344\n",
      "ticker STE done index # 345\n",
      "ticker AMCR done index # 346\n",
      "ticker VTR done index # 347\n",
      "ticker IEX done index # 348\n",
      "ticker CAG done index # 349\n",
      "ticker CMS done index # 350\n",
      "ticker KEY done index # 351\n",
      "ticker MPWR done index # 352\n",
      "ticker BALL done index # 353\n",
      "ticker J done index # 354\n",
      "ticker BR done index # 355\n",
      "ticker GRMN done index # 356\n",
      "ticker PKI done index # 357\n",
      "ticker TTWO done index # 358\n",
      "ticker INCY done index # 359\n",
      "ticker FDS done index # 360\n",
      "ticker MOS done index # 361\n",
      "ticker SEDG done index # 362\n",
      "ticker CINF done index # 363\n",
      "ticker ABMD done index # 364\n",
      "ticker DGX done index # 365\n",
      "ticker WST done index # 366\n",
      "ticker ATO done index # 367\n",
      "ticker TRGP done index # 368\n",
      "ticker BRO done index # 369\n",
      "ticker SYF done index # 370\n",
      "ticker FOX done index # 371\n",
      "ticker FOXA done index # 372\n",
      "ticker NTAP done index # 373\n",
      "ticker FMC done index # 374\n",
      "ticker EQT done index # 375\n",
      "ticker OMC done index # 376\n",
      "ticker SJM done index # 377\n",
      "ticker LYV done index # 378\n",
      "ticker CPB done index # 379\n",
      "ticker HWM done index # 380\n",
      "ticker CPRT done index # 381\n",
      "ticker AVY done index # 382\n",
      "ticker IRM done index # 383\n",
      "ticker COO done index # 384\n",
      "ticker ALGN done index # 385\n",
      "ticker SWKS done index # 386\n",
      "ticker EXPE done index # 387\n",
      "ticker RCL done index # 388\n",
      "ticker ETSY done index # 389\n",
      "ticker APA done index # 390\n",
      "ticker GEN done index # 391\n",
      "ticker TXT done index # 392\n",
      "ticker LDOS done index # 393\n",
      "ticker LKQ done index # 394\n",
      "ticker TER done index # 395\n",
      "ticker PTC done index # 396\n",
      "ticker TRMB done index # 397\n",
      "ticker AKAM done index # 398\n",
      "ticker NVR done index # 399\n",
      "ticker UAL done index # 400\n",
      "ticker LNT done index # 401\n",
      "ticker FLT done index # 402\n",
      "ticker KIM done index # 403\n",
      "ticker ZBRA done index # 404\n",
      "ticker TYL done index # 405\n",
      "ticker DPZ done index # 406\n",
      "ticker JKHY done index # 407\n",
      "ticker MGM done index # 408\n",
      "ticker ESS done index # 409\n",
      "ticker L done index # 410\n",
      "ticker PEAK done index # 411\n",
      "ticker MTCH done index # 412\n",
      "ticker NDSN done index # 413\n",
      "ticker EVRG done index # 414\n",
      "ticker IPG done index # 415\n",
      "ticker BEN done index # 416\n",
      "ticker CBOE done index # 417\n",
      "ticker TECH done index # 418\n",
      "ticker SIVB done index # 419\n",
      "ticker VFC done index # 420\n",
      "ticker IP done index # 421\n",
      "ticker HST done index # 422\n",
      "ticker UDR done index # 423\n",
      "ticker POOL done index # 424\n",
      "ticker RE done index # 425\n",
      "ticker PARA done index # 426\n",
      "ticker SNA done index # 427\n",
      "ticker CPT done index # 428\n",
      "ticker LW done index # 429\n",
      "ticker PKG done index # 430\n",
      "ticker CRL done index # 431\n",
      "ticker SWK done index # 432\n",
      "ticker BIO done index # 433\n",
      "ticker WDC done index # 434\n",
      "ticker CHRW done index # 435\n",
      "ticker STX done index # 436\n",
      "ticker MAS done index # 437\n",
      "ticker GL done index # 438\n",
      "ticker CE done index # 439\n",
      "ticker REG done index # 440\n",
      "ticker NI done index # 441\n",
      "ticker BXP done index # 442\n",
      "ticker HSIC done index # 443\n",
      "ticker CCL done index # 444\n",
      "ticker TFX done index # 445\n",
      "ticker CZR done index # 446\n",
      "ticker NWS done index # 447\n",
      "ticker NWSA done index # 448\n",
      "ticker KMX done index # 449\n",
      "ticker EMN done index # 450\n",
      "ticker JNPR done index # 451\n",
      "ticker PHM done index # 452\n",
      "ticker CDAY done index # 453\n",
      "ticker ALLE done index # 454\n",
      "ticker QRVO done index # 455\n",
      "ticker BWA done index # 456\n",
      "ticker NRG done index # 457\n",
      "ticker MKTX done index # 458\n",
      "ticker WRK done index # 459\n",
      "ticker UHS done index # 460\n",
      "ticker FFIV done index # 461\n",
      "ticker AOS done index # 462\n",
      "ticker CMA done index # 463\n",
      "ticker AAL done index # 464\n",
      "ticker BBWI done index # 465\n",
      "ticker HII done index # 466\n",
      "ticker AAP done index # 467\n",
      "ticker TPR done index # 468\n",
      "ticker FRT done index # 469\n",
      "ticker IVZ done index # 470\n",
      "ticker PNW done index # 471\n",
      "ticker HAS done index # 472\n",
      "ticker WYNN done index # 473\n",
      "ticker FBHS done index # 474\n",
      "ticker SBNY done index # 475\n",
      "ticker DISH done index # 476\n",
      "ticker RHI done index # 477\n",
      "ticker WHR done index # 478\n",
      "ticker ZION done index # 479\n",
      "ticker CTLT done index # 480\n",
      "ticker PNR done index # 481\n",
      "ticker SEE done index # 482\n",
      "ticker RL done index # 483\n",
      "ticker NCLH done index # 484\n",
      "ticker DXC done index # 485\n",
      "ticker GNRC done index # 486\n",
      "ticker AIZ done index # 487\n",
      "ticker XRAY done index # 488\n",
      "ticker LNC done index # 489\n",
      "ticker DVA done index # 490\n",
      "ticker MHK done index # 491\n",
      "ticker LUMN done index # 492\n",
      "ticker ALK done index # 493\n",
      "ticker NWL done index # 494\n",
      "ticker VNO done index # 495\n",
      "ticker TAP done index # 496\n"
     ]
    }
   ],
   "source": [
    "tickers = utils.return_tickers()\n",
    "preds = []\n",
    "for ticker in tickers:\n",
    "    model = XGBRegressor(n_jobs=-1)\n",
    "    X_train = prep.ready_to_train_df(ticker)\n",
    "    y_train = prep.ready_to_train_df(ticker)['return'].shift(1).replace(np.nan,0)\n",
    "    X_test = prep.ready_to_test_df(ticker)\n",
    "    y_test = prep.ready_to_test_df(ticker)['return'].shift(1).replace(np.nan,0)\n",
    "    model.fit(X_train, y_train)\n",
    "    joblib.dump(model, f\"../raw_data/models/{ticker}_XGBoostDefault.joblib\")\n",
    "    pred_ticker = pd.DataFrame(model.predict(X_test),columns=[f\"{ticker}\"], index = X_test.index)\n",
    "    preds.append(pred_ticker)\n",
    "    print(f\"ticker {ticker} done index # {tickers.index(ticker)}\")\n",
    "\n",
    "final_df = pd.concat(preds, axis=1)\n",
    "\n",
    "    \n",
    "    \n",
    "    \n",
    "    "
   ]
  },
  {
   "cell_type": "code",
   "execution_count": 62,
   "id": "8df4e3a5",
   "metadata": {
    "ExecuteTime": {
     "end_time": "2022-12-07T09:21:00.094786Z",
     "start_time": "2022-12-07T09:20:59.790459Z"
    }
   },
   "outputs": [],
   "source": [
    "final_df.to_csv('first_preds.csv')"
   ]
  },
  {
   "cell_type": "code",
   "execution_count": null,
   "id": "d18593f4",
   "metadata": {},
   "outputs": [],
   "source": [
    "mask = final_df['date'] >= '2020-12-31'"
   ]
  }
 ],
 "metadata": {
  "kernelspec": {
   "display_name": "Python 3 (ipykernel)",
   "language": "python",
   "name": "python3"
  },
  "language_info": {
   "codemirror_mode": {
    "name": "ipython",
    "version": 3
   },
   "file_extension": ".py",
   "mimetype": "text/x-python",
   "name": "python",
   "nbconvert_exporter": "python",
   "pygments_lexer": "ipython3",
   "version": "3.10.6"
  },
  "toc": {
   "base_numbering": 1,
   "nav_menu": {},
   "number_sections": true,
   "sideBar": true,
   "skip_h1_title": false,
   "title_cell": "Table of Contents",
   "title_sidebar": "Contents",
   "toc_cell": false,
   "toc_position": {},
   "toc_section_display": true,
   "toc_window_display": false
  }
 },
 "nbformat": 4,
 "nbformat_minor": 5
}
