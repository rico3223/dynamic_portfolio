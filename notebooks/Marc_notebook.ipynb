{
 "cells": [
  {
   "cell_type": "code",
   "execution_count": 155,
   "id": "aad94fdd",
   "metadata": {},
   "outputs": [],
   "source": [
    "# Importing relevant librairies\n",
    "import numpy as np\n",
    "import pandas as pd\n",
    "import yfinance as yf\n",
    "import os\n",
    "pd.set_option('display.max_columns', None)"
   ]
  },
  {
   "cell_type": "code",
   "execution_count": 197,
   "id": "5f7160fb",
   "metadata": {},
   "outputs": [],
   "source": [
    "def load_csv(ticker: str):\n",
    "    \"\"\"\n",
    "    Creating a function that would allow us to load a csv containing all relevant features of a given ticker\n",
    "    ticker should be in capital\n",
    "    Start and end should be in the be following format: %YYYY-%MM-%DD\n",
    "    \"\"\"\n",
    "\n",
    "    #Loading all relevant csv files\n",
    "\n",
    "    #Loading stock return\n",
    "    ticker_df = pd.read_csv(f'../raw_data/stocks_return/adj_return_{ticker}.csv')\n",
    "    ticker_df.rename(columns={'timestamp':'date'}, inplace=True)\n",
    "    ticker_df.sort_values('date', ascending=True, inplace=True)\n",
    "    ticker_df.reset_index(inplace=True, drop=True)\n",
    "\n",
    "    if '1999-12-31' in ticker_df['date'].values:\n",
    "        ticker_df = ticker_df[ticker_df['date']>'1999-12-31']\n",
    "        ticker_df.reset_index(inplace=True, drop=True)\n",
    "\n",
    "    #Loading stocks eps\n",
    "    ticker_eps = pd.read_csv(f'../raw_data/eps/data_{ticker}.csv', index_col=0)\n",
    "    ticker_eps['date'] = ticker_eps['reportedDate'].copy()\n",
    "    ticker_eps.sort_values('date', inplace=True)\n",
    "    ticker_eps['reportedDate']= pd.to_datetime(ticker_eps['reportedDate'])\n",
    "    ticker_eps['year'] = pd.DatetimeIndex(ticker_eps['reportedDate']).year\n",
    "\n",
    "    if 2000 in ticker_eps['year'].values:\n",
    "        ticker_eps = ticker_eps[ticker_eps['year']>=2000]\n",
    "        ticker_eps.reset_index(inplace=True, drop=True)\n",
    "\n",
    "    ticker_eps.drop(columns=['year','fiscalDateEnding', 'estimatedEPS', 'surprise', 'reportedDate'], inplace=True)\n",
    "\n",
    "    #Loading all macros and commodities\n",
    "    gold = pd.read_csv('../raw_data/macro/gold.csv', index_col=0)\n",
    "    us_dollar = pd.read_csv('../raw_data/macro/usd.csv', index_col=0)\n",
    "\n",
    "    credit_spread = pd.read_csv('../raw_data/macro/us_yields.csv', index_col=0)\n",
    "    oil = pd.read_csv('../raw_data/macro/oil.csv', index_col=0)\n",
    "    orders = pd.read_csv('../raw_data/macro/orders.csv', index_col=0)\n",
    "    ffunds_rate = pd.read_csv('../raw_data/macro/fed_funds.csv', index_col=0)\n",
    "    unemployment = pd.read_csv('../raw_data/macro/unemployment.csv', index_col=0)\n",
    "    inflation_expectation = pd.read_csv('../raw_data/macro/inflation_expectation.csv', index_col=0)\n",
    "    non_farm_payroll = pd.read_csv('../raw_data/macro/non_farm_payroll.csv', index_col=0)\n",
    "    cpi = pd.read_csv('../raw_data/macro/cpi.csv', index_col=0)\n",
    "    retails = pd.read_csv('../raw_data/macro/retail_sales.csv', index_col=0)\n",
    "    gdp_capita = pd.read_csv('../raw_data/macro/gdp_per_capita.csv', index_col=0)\n",
    "\n",
    "\n",
    "    #Creating our final df and merging with relevant files\n",
    "    final_df = ticker_df.copy()\n",
    "    final_df = final_df.merge(ticker_eps, how='outer', on='date')\n",
    "    final_df = final_df.merge(credit_spread, how='outer')\n",
    "    final_df = final_df.merge(oil, how='outer', on='date')\n",
    "    final_df = final_df.merge(orders, how='outer')\n",
    "    final_df = final_df.merge(ffunds_rate, how='outer')\n",
    "    final_df = final_df.merge(unemployment, how='outer')\n",
    "    final_df = final_df.merge(inflation_expectation, how='outer')\n",
    "    final_df = final_df.merge(non_farm_payroll, how='outer')\n",
    "    final_df = final_df.merge(cpi, how='outer')\n",
    "    final_df = final_df.merge(retails, how='outer')\n",
    "    final_df = final_df.merge(gdp_capita, how='outer')\n",
    "    final_df = final_df.merge(gold, how='outer', on='date')\n",
    "    final_df = final_df.merge(us_dollar, how='outer', on='date')\n",
    "\n",
    "    #Sorting by chronological order and resetting index\n",
    "    final_df = final_df.sort_values('date', ascending=True)\n",
    "    final_df.reset_index(drop=True, inplace=True)\n",
    "\n",
    "    #Since not all features have daily data, we forward filled the missing values\n",
    "    final_df['orders'] = final_df['orders'].fillna(method='ffill')\n",
    "    final_df['retail_sales'] = final_df['retail_sales'].fillna(method='ffill')\n",
    "    final_df['gdp_per_capita'] = final_df['gdp_per_capita'].fillna(method='ffill')\n",
    "    final_df['CPI'] = final_df['CPI'].fillna(method='ffill')\n",
    "    final_df['non_farm_payroll'] = final_df['non_farm_payroll'].fillna(method='ffill')\n",
    "    final_df['inf_exp'] = final_df['inf_exp'].fillna(method='ffill')\n",
    "    final_df['unemployment_rate'] = final_df['unemployment_rate'].fillna(method='ffill')\n",
    "    final_df['reportedEPS'] = final_df['reportedEPS'].fillna(method='ffill')\n",
    "    final_df['surprisePercentage'] = final_df['surprisePercentage'].replace(['None'], '0')\n",
    "    final_df['surprisePercentage'] = final_df['surprisePercentage'].replace([np.nan], '0')\n",
    "    \n",
    "    #Dropping null values\n",
    "    final_df.dropna(inplace=True)\n",
    "    final_df.reset_index(drop=True, inplace=True)\n",
    "\n",
    "    return final_df"
   ]
  },
  {
   "cell_type": "code",
   "execution_count": 198,
   "id": "8b7d1430",
   "metadata": {},
   "outputs": [],
   "source": [
    "# reportedEPS etaler sur toutes les dates\n",
    "# surprise percentage mettre a 0\n",
    "# dans le pipe il faut pas toucher au targert ?"
   ]
  },
  {
   "cell_type": "code",
   "execution_count": 199,
   "id": "d0a14c18",
   "metadata": {},
   "outputs": [
    {
     "data": {
      "text/plain": [
       "date                  0\n",
       "open                  0\n",
       "high                  0\n",
       "low                   0\n",
       "close                 0\n",
       "adjusted_close        0\n",
       "volume                0\n",
       "dividend_amount       0\n",
       "split_coefficient     0\n",
       "reportedEPS           0\n",
       "surprisePercentage    0\n",
       "10Y_yield             0\n",
       "2Y_yield              0\n",
       "10_2_spread           0\n",
       "oil_price             0\n",
       "orders                0\n",
       "fed_funds             0\n",
       "unemployment_rate     0\n",
       "inf_exp               0\n",
       "non_farm_payroll      0\n",
       "CPI                   0\n",
       "retail_sales          0\n",
       "gdp_per_capita        0\n",
       "gold_price            0\n",
       "usd_price             0\n",
       "dtype: int64"
      ]
     },
     "execution_count": 199,
     "metadata": {},
     "output_type": "execute_result"
    }
   ],
   "source": [
    "apple = load_csv('AAPL')\n",
    "apple.isnull().sum()"
   ]
  },
  {
   "cell_type": "code",
   "execution_count": 196,
   "id": "20d58c39",
   "metadata": {},
   "outputs": [],
   "source": [
    "apple['surprisePercentage'] = apple['surprisePercentage'].replace(['None'], '0')"
   ]
  },
  {
   "cell_type": "code",
   "execution_count": 176,
   "id": "a5fb4bef",
   "metadata": {},
   "outputs": [],
   "source": [
    "apple['surprisePercentage'] = apple['surprisePercentage'].replace([np.nan], '0')"
   ]
  },
  {
   "cell_type": "code",
   "execution_count": 181,
   "id": "1c50e8ba",
   "metadata": {},
   "outputs": [
    {
     "data": {
      "text/plain": [
       "array(['0', '33.3333', '100', '66.6667', '25', '16.6667', '28.5714',\n",
       "       '45.4545', '30', '8.6957', '13.3333', '12.5', '18.75', '11.7647',\n",
       "       '73.3333', '37.1429', '13.6364', '13.7931', '19.4805', '18.1818',\n",
       "       '33.7349', '-4.717', '36.5517', '23.0769', '-10.1351', '-0.8',\n",
       "       '2.6042', '0.6993', '1.9048', '3.5088', '2.9851', '13.6986',\n",
       "       '4.065', '8.3969', '17.6923', '7.8704', '2.2099', '4.2553',\n",
       "       '1.548', '-5', '2.8986', '0.6024', '4.6729', '3.9604', '6.3694',\n",
       "       '10.6952', '0.7772', '1.487', '7.3394', '4.2857', '0.9615',\n",
       "       '5.0847', '3.7736', '7.0423', '9.6491', '14.2857', '27.451',\n",
       "       '19.1489', '41.4141', '28.7129', '11.1111', '6.2937', '3.4483',\n",
       "       '1.5748'], dtype=object)"
      ]
     },
     "execution_count": 181,
     "metadata": {},
     "output_type": "execute_result"
    }
   ],
   "source": [
    "apple['surprisePercentage'].unique()"
   ]
  },
  {
   "cell_type": "code",
   "execution_count": null,
   "id": "79512142",
   "metadata": {},
   "outputs": [],
   "source": []
  }
 ],
 "metadata": {
  "kernelspec": {
   "display_name": "Python 3 (ipykernel)",
   "language": "python",
   "name": "python3"
  },
  "language_info": {
   "codemirror_mode": {
    "name": "ipython",
    "version": 3
   },
   "file_extension": ".py",
   "mimetype": "text/x-python",
   "name": "python",
   "nbconvert_exporter": "python",
   "pygments_lexer": "ipython3",
   "version": "3.10.6"
  },
  "toc": {
   "base_numbering": 1,
   "nav_menu": {},
   "number_sections": true,
   "sideBar": true,
   "skip_h1_title": false,
   "title_cell": "Table of Contents",
   "title_sidebar": "Contents",
   "toc_cell": false,
   "toc_position": {},
   "toc_section_display": true,
   "toc_window_display": false
  }
 },
 "nbformat": 4,
 "nbformat_minor": 5
}
