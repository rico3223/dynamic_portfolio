{
 "cells": [
  {
   "cell_type": "code",
   "execution_count": 2,
   "id": "be7cf9b3",
   "metadata": {},
   "outputs": [],
   "source": [
    "import numpy as np\n",
    "import pandas as pd\n",
    "from pylab import mpl, plt \n",
    "mpl.rcParams['font.family'] = 'serif'"
   ]
  },
  {
   "cell_type": "code",
   "execution_count": 4,
   "id": "29f06dcc",
   "metadata": {},
   "outputs": [
    {
     "ename": "SyntaxError",
     "evalue": "invalid syntax (__init__.py, line 20)",
     "output_type": "error",
     "traceback": [
      "Traceback \u001b[0;36m(most recent call last)\u001b[0m:\n",
      "\u001b[0m  File \u001b[1;32m~/.pyenv/versions/3.10.6/envs/dynamic_portfolio/lib/python3.10/site-packages/IPython/core/interactiveshell.py:3433\u001b[0m in \u001b[1;35mrun_code\u001b[0m\n    exec(code_obj, self.user_global_ns, self.user_ns)\u001b[0m\n",
      "\u001b[0;36m  Cell \u001b[0;32mIn[4], line 1\u001b[0;36m\n\u001b[0;31m    from dynamic_portfolio import *\u001b[0;36m\n",
      "\u001b[0;36m  File \u001b[0;32m~/code/rico3223/dynamic_portfolio/dynamic_portfolio/__init__.py:20\u001b[0;36m\u001b[0m\n\u001b[0;31m    credit_spread = #load from project directory\u001b[0m\n\u001b[0m                    ^\u001b[0m\n\u001b[0;31mSyntaxError\u001b[0m\u001b[0;31m:\u001b[0m invalid syntax\n"
     ]
    }
   ],
   "source": [
    "from dynamic_portfolio import *"
   ]
  },
  {
   "cell_type": "code",
   "execution_count": 1,
   "id": "d195545a",
   "metadata": {},
   "outputs": [],
   "source": [
    "from BacktestBase import *\n",
    "\n",
    "class BacktestLongOnly(BacktestBase):\n",
    "\n",
    "    def sma_strategy(self, SMA1, SMA2):\n",
    "        \n",
    "        self.position = 0\n",
    "        self.trades = 0\n",
    "        self.amount = self.initial_amount\n",
    "        self.data['SMA1'] = self.data['price'].rolling(SMA1).mean()\n",
    "        self.data['SMA2'] = self.data['price'].rolling(SMA2).mean()\n",
    "        \n",
    "        for bar in range(SMA2, len(self.data)):\n",
    "            if self.position == 0:\n",
    "                if self.data['SMA1'].iloc[bar] > self.data['SMA2'].iloc[bar]:\n",
    "                    self.place_buy_order(bar, amount = self.amount)\n",
    "                    self.position = 1\n",
    "            elif self.position ==1:\n",
    "                if self.data['SMA1'].iloc[bar] > self.data['SMA2'].iloc[bar]:\n",
    "                    self.place_sell_order(bar, units=self.units)\n",
    "                    self.position = 0 \n",
    "        self.close_out(bar)\n",
    "    \n",
    "    if __name__ == '__main__':\n",
    "        \n",
    "        def run_strategy():\n",
    "            lobt.run_sma_strategy(42, 252)\n",
    "        lobt = BacktestLongOnly('SPY', '2010-01-04', '2019-12-31', 10000, verbose = False)\n",
    "        \n",
    "        run_strategy()\n",
    "        \n",
    "        lobt = BacktestLongOnly('SPY', '2010-01-04', '2019-12-31', 10000, 10.0, 0.01, False)\n",
    "        \n",
    "        run_strategy()\n",
    "    \n"
   ]
  }
 ],
 "metadata": {
  "kernelspec": {
   "display_name": "Python 3.10.6 64-bit ('dynamic_portfolio')",
   "language": "python",
   "name": "python3"
  },
  "language_info": {
   "codemirror_mode": {
    "name": "ipython",
    "version": 3
   },
   "file_extension": ".py",
   "mimetype": "text/x-python",
   "name": "python",
   "nbconvert_exporter": "python",
   "pygments_lexer": "ipython3",
   "version": "3.10.6"
  },
  "toc": {
   "base_numbering": 1,
   "nav_menu": {},
   "number_sections": true,
   "sideBar": true,
   "skip_h1_title": false,
   "title_cell": "Table of Contents",
   "title_sidebar": "Contents",
   "toc_cell": false,
   "toc_position": {},
   "toc_section_display": true,
   "toc_window_display": false
  },
  "vscode": {
   "interpreter": {
    "hash": "f0a2e1e4247d72e07af6200a6f836d503e8dd89d92d2a6da6761bb53bd11949b"
   }
  }
 },
 "nbformat": 4,
 "nbformat_minor": 5
}
