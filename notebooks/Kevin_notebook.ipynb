{
 "cells": [
  {
   "cell_type": "code",
   "execution_count": null,
   "id": "bd9d51cd",
   "metadata": {},
   "outputs": [],
   "source": [
    "from yahooquery import Ticker\n",
    "import pandas as pd\n",
    "import matplotlib.pyplot as plt"
   ]
  },
  {
   "cell_type": "markdown",
   "id": "dbda2ea3",
   "metadata": {},
   "source": [
    "Import/Data Yahoo"
   ]
  },
  {
   "cell_type": "code",
   "execution_count": null,
   "id": "2d7cd12b",
   "metadata": {},
   "outputs": [],
   "source": [
    "# aapl = Ticker('aapl')\n",
    "\n",
    "# aapl.summary_detail\n",
    "\n",
    "# df = Ticker('aapl').history(period='20y', interval='1d')\n",
    "\n",
    "# df.plot()\n",
    "\n",
    "# aapl.all_modules"
   ]
  },
  {
   "cell_type": "markdown",
   "id": "1b2e4d28",
   "metadata": {},
   "source": [
    "import API ALpha"
   ]
  },
  {
   "cell_type": "code",
   "execution_count": null,
   "id": "1f8384c6",
   "metadata": {},
   "outputs": [],
   "source": [
    "list_comp_1 = ['IBM', \n",
    "'AAPL',\n",
    "'MSFT',\n",
    "'GOOG',\n",
    "'GOOGL']"
   ]
  },
  {
   "cell_type": "code",
   "execution_count": null,
   "id": "9cd5e004",
   "metadata": {},
   "outputs": [],
   "source": [
    "list_comp_2 = ['AMZN',\n",
    "'BRK.B',\n",
    "'TSLA',\n",
    "'UNH',\n",
    "'XOM']"
   ]
  },
  {
   "cell_type": "code",
   "execution_count": null,
   "id": "03bb8324",
   "metadata": {},
   "outputs": [],
   "source": [
    "list_comp_3 = ['WMT',\n",
    "'NVDA',\n",
    "'JPM',\n",
    "'V',\n",
    "'CVX']"
   ]
  },
  {
   "cell_type": "code",
   "execution_count": null,
   "id": "a50ef013",
   "metadata": {},
   "outputs": [],
   "source": [
    "import requests\n",
    "\n",
    "for i in list_comp_2 :\n",
    "    url = f'https://www.alphavantage.co/query?function=EARNINGS&symbol={i}&apikey=FR2UJRLSK23QPDMM'\n",
    "    r = requests.get(url)\n",
    "    data = r.json()[\"quarterlyEarnings\"]\n",
    "    data = pd.DataFrame(data)\n",
    "    data.to_csv(f'data_{i}.csv')\n",
    "#    open(f'data_{i}.csv',\"wb\").write(data)\n",
    "data\n",
    "#bla"
   ]
  }
 ],
 "metadata": {
  "kernelspec": {
   "display_name": "Python 3 (ipykernel)",
   "language": "python",
   "name": "python3"
  },
  "language_info": {
   "codemirror_mode": {
    "name": "ipython",
    "version": 3
   },
   "file_extension": ".py",
   "mimetype": "text/x-python",
   "name": "python",
   "nbconvert_exporter": "python",
   "pygments_lexer": "ipython3",
   "version": "3.10.6"
  },
  "toc": {
   "base_numbering": 1,
   "nav_menu": {},
   "number_sections": true,
   "sideBar": true,
   "skip_h1_title": false,
   "title_cell": "Table of Contents",
   "title_sidebar": "Contents",
   "toc_cell": false,
   "toc_position": {},
   "toc_section_display": true,
   "toc_window_display": false
  }
 },
 "nbformat": 4,
 "nbformat_minor": 5
}
