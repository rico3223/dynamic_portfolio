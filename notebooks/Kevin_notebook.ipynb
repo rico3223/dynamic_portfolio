{
 "cells": [
  {
   "cell_type": "code",
   "execution_count": 12,
   "id": "bd9d51cd",
   "metadata": {},
   "outputs": [],
   "source": [
    "#from yahooquery import Ticker\n",
    "import pandas as pd\n",
    "import matplotlib.pyplot as plt"
   ]
  },
  {
   "cell_type": "markdown",
   "id": "de3a913f",
   "metadata": {
    "heading_collapsed": true
   },
   "source": [
    "# Import/Data Yahoo"
   ]
  },
  {
   "cell_type": "code",
   "execution_count": null,
   "id": "7ce5fdf9",
   "metadata": {
    "hidden": true
   },
   "outputs": [],
   "source": [
    "# aapl = Ticker('aapl')\n",
    "\n",
    "# aapl.summary_detail\n",
    "\n",
    "# df = Ticker('aapl').history(period='20y', interval='1d')\n",
    "\n",
    "# df.plot()\n",
    "\n",
    "# aapl.all_modules"
   ]
  },
  {
   "cell_type": "markdown",
   "id": "d532ad65",
   "metadata": {
    "heading_collapsed": true
   },
   "source": [
    "# Import API ALpha"
   ]
  },
  {
   "cell_type": "markdown",
   "id": "aac2711a",
   "metadata": {
    "hidden": true
   },
   "source": [
    "https://www.alphavantage.co/documentation/"
   ]
  },
  {
   "cell_type": "markdown",
   "id": "bee536ca",
   "metadata": {
    "heading_collapsed": true,
    "hidden": true
   },
   "source": [
    "## Contrôle de la data"
   ]
  },
  {
   "cell_type": "markdown",
   "id": "025321ef",
   "metadata": {
    "hidden": true
   },
   "source": [
    "Récolte de la data en CSV, Check s'il y a des valeurs nulles ou doubles."
   ]
  },
  {
   "cell_type": "code",
   "execution_count": null,
   "id": "c7e286cf",
   "metadata": {
    "hidden": true
   },
   "outputs": [],
   "source": [
    "url = 'https://www.alphavantage.co/query?function=REAL_GDP&interval=quarterly&apikey=1BKEZCMKUSE99CKJ&datatype=csv'\n",
    "r = requests.get(url)\n",
    "data_real_gdp = pd.read_csv(url)\n",
    "\n",
    "data_real_gdp.to_csv(f'data_real_gdp.csv')"
   ]
  },
  {
   "cell_type": "code",
   "execution_count": null,
   "id": "c8945b46",
   "metadata": {
    "hidden": true
   },
   "outputs": [],
   "source": [
    "data_real_gdp.isnull().sum()\n",
    "data.duplicated().sum()"
   ]
  },
  {
   "cell_type": "code",
   "execution_count": null,
   "id": "7fd5bd9c",
   "metadata": {
    "hidden": true
   },
   "outputs": [],
   "source": [
    "url = 'https://www.alphavantage.co/query?function=REAL_GDP_PER_CAPITA&apikey=1BKEZCMKUSE99CKJ&datatype=csv'\n",
    "#r = requests.get(url)\n",
    "data_real_gdp_capita = pd.read_csv(url)\n",
    "\n",
    "len(data_real_gdp_capita)\n",
    "\n",
    "data_real_gdp_capita.to_csv(f'data_real_gdp_capita.csv')"
   ]
  },
  {
   "cell_type": "code",
   "execution_count": null,
   "id": "2d80a6dd",
   "metadata": {
    "hidden": true
   },
   "outputs": [],
   "source": [
    "data_real_gdp_capita.isnull().sum()\n",
    "data.duplicated().sum()"
   ]
  },
  {
   "cell_type": "code",
   "execution_count": null,
   "id": "35800c33",
   "metadata": {
    "hidden": true
   },
   "outputs": [],
   "source": [
    "url = 'https://www.alphavantage.co/query?function=FEDERAL_FUNDS_RATE&interval=daily&apikey=1BKEZCMKUSE99CKJ&datatype=csv'\n",
    "#r = requests.get(url)\n",
    "data_federal_funds = pd.read_csv(url)\n",
    "\n",
    "len(data_federal_funds)"
   ]
  },
  {
   "cell_type": "code",
   "execution_count": null,
   "id": "d4cd946d",
   "metadata": {
    "hidden": true
   },
   "outputs": [],
   "source": [
    "data_federal_funds.isnull().sum()\n",
    "data_federal_funds.duplicated().sum()\n",
    "data_federal_funds.to_csv(f'data_federal_funds.csv')"
   ]
  },
  {
   "cell_type": "code",
   "execution_count": null,
   "id": "265fae6a",
   "metadata": {
    "hidden": true
   },
   "outputs": [],
   "source": [
    "url = 'https://www.alphavantage.co/query?function=CONSUMER_SENTIMENT&apikey=1BKEZCMKUSE99CKJ&datatype=csv'\n",
    "#r = requests.get(url)\n",
    "data_consumer_sentiment = pd.read_csv(url)\n",
    "\n",
    "len(data_consumer_sentiment)"
   ]
  },
  {
   "cell_type": "code",
   "execution_count": null,
   "id": "1996c3c5",
   "metadata": {
    "hidden": true
   },
   "outputs": [],
   "source": [
    "data_consumer_sentiment.duplicated().sum()\n",
    "data_consumer_sentiment.isnull().sum()\n",
    "data_consumer_sentiment.to_csv(f'data_consumer_sentiment.csv')"
   ]
  },
  {
   "cell_type": "code",
   "execution_count": null,
   "id": "a39f3fbc",
   "metadata": {
    "hidden": true
   },
   "outputs": [],
   "source": [
    "url = 'https://www.alphavantage.co/query?function=RETAIL_SALES&apikey=1BKEZCMKUSE99CKJ&datatype=csv'\n",
    "#r = requests.get(url)\n",
    "data_retails = pd.read_csv(url)\n",
    "\n",
    "len(data_retails)"
   ]
  },
  {
   "cell_type": "code",
   "execution_count": null,
   "id": "505cf432",
   "metadata": {
    "hidden": true
   },
   "outputs": [],
   "source": [
    "data_retails.duplicated().sum()\n",
    "data_retails.isnull().sum()\n",
    "data_retails.to_csv(f'data_retails.csv')"
   ]
  },
  {
   "cell_type": "code",
   "execution_count": null,
   "id": "196fc848",
   "metadata": {
    "hidden": true
   },
   "outputs": [],
   "source": [
    "url = 'https://www.alphavantage.co/query?function=DURABLES&apikey=1BKEZCMKUSE99CKJ&datatype=csv'\n",
    "#r = requests.get(url)\n",
    "data_durable = pd.read_csv(url)\n",
    "\n",
    "data_durable"
   ]
  },
  {
   "cell_type": "code",
   "execution_count": null,
   "id": "e58685cc",
   "metadata": {
    "hidden": true
   },
   "outputs": [],
   "source": [
    "data_durable.duplicated().sum()\n",
    "data_durable.isnull().sum()\n",
    "data_durable.to_csv(f'data_durable.csv')"
   ]
  },
  {
   "cell_type": "markdown",
   "id": "d93c8d8f",
   "metadata": {
    "heading_collapsed": true,
    "hidden": true
   },
   "source": [
    "## Treasury yield"
   ]
  },
  {
   "cell_type": "code",
   "execution_count": null,
   "id": "4a3d6b3b",
   "metadata": {
    "hidden": true
   },
   "outputs": [],
   "source": [
    "url = 'https://www.alphavantage.co/query?function=TREASURY_YIELD&interval=daily&maturity=10year&apikey=1BKEZCMKUSE99CKJ&datatype=csv'\n",
    "#r = requests.get(url)\n",
    "data_treasury_yield_10 = pd.read_csv(url)\n",
    "\n",
    "data_treasury_yield_10 = data_treasury_yield_10[data_treasury_yield_10['timestamp']>'2000']\n",
    "data_treasury_yield_10"
   ]
  },
  {
   "cell_type": "code",
   "execution_count": null,
   "id": "5583f645",
   "metadata": {
    "hidden": true
   },
   "outputs": [],
   "source": [
    "url = 'https://www.alphavantage.co/query?function=TREASURY_YIELD&interval=daily&maturity=2year&apikey=1BKEZCMKUSE99CKJ&datatype=csv'\n",
    "#r = requests.get(url)\n",
    "data_treasury_yield_2 = pd.read_csv(url)\n",
    "#data_treasury_yield_2.dtypes\n",
    "data_treasury_yield_2 = data_treasury_yield_2[data_treasury_yield_2['timestamp']>'2000']\n",
    "data_treasury_yield_2"
   ]
  },
  {
   "cell_type": "code",
   "execution_count": null,
   "id": "de74e89f",
   "metadata": {
    "hidden": true
   },
   "outputs": [],
   "source": [
    "treasury_yield = data_treasury_yield_10.merge(data_treasury_yield_2, on = 'timestamp')\n",
    "treasury_yield['value_x'] = pd.to_numeric(treasury_yield['value_x'],errors='coerce')\n",
    "treasury_yield['value_y'] = pd.to_numeric(treasury_yield['value_y'],errors='coerce')\n",
    "treasury_yield['value'] = treasury_yield['value_x']-treasury_yield['value_y']\n",
    "treasury_yield.columns = ['timestamp','value_10years','value_2years','value']\n",
    "treasury_yield\n",
    "\n",
    "treasury_yield.to_csv(f'treasury_yield.csv')"
   ]
  },
  {
   "cell_type": "code",
   "execution_count": null,
   "id": "7fac817b",
   "metadata": {
    "hidden": true
   },
   "outputs": [],
   "source": [
    "data_treasury_yield.isnull().sum()\n",
    "data_treasury_yield.duplicated().sum()"
   ]
  },
  {
   "cell_type": "markdown",
   "id": "5e121b4a",
   "metadata": {
    "heading_collapsed": true,
    "hidden": true
   },
   "source": [
    "## Liste 500 entreprises"
   ]
  },
  {
   "cell_type": "code",
   "execution_count": 20,
   "id": "8685b2bf",
   "metadata": {
    "hidden": true
   },
   "outputs": [],
   "source": [
    "list_ent = ['AAPL',\n",
    " 'MSFT',\n",
    " 'GOOG',\n",
    " 'AMZN', \n",
    " 'BRK.B',\n",
    " 'TSLA',\n",
    " 'UNH',\n",
    " 'XOM',\n",
    " 'JNJ',\n",
    " 'WMT',\n",
    " 'NVDA',\n",
    " 'JPM',\n",
    " 'V',\n",
    " 'CVX',\n",
    " 'PG',\n",
    " 'LLY',\n",
    " 'MA',\n",
    " 'HD',\n",
    " 'META',\n",
    " 'BAC',\n",
    " 'ABBV',\n",
    " 'PFE',\n",
    " 'KO',\n",
    " 'MRK',\n",
    " 'PEP',\n",
    " 'COST',\n",
    " 'ORCL',\n",
    " 'AVGO',\n",
    " 'TMO',\n",
    " 'MCD',\n",
    " 'CSCO',\n",
    " 'ACN',\n",
    " 'DHR',\n",
    " 'TMUS',\n",
    " 'ABT',\n",
    " 'WFC',\n",
    " 'DIS',\n",
    " 'LIN',\n",
    " 'NEE',\n",
    " 'BMY',\n",
    " 'NKE',\n",
    " 'VZ',\n",
    " 'TXN',\n",
    " 'UPS',\n",
    " 'COP',\n",
    " 'ADBE',\n",
    " 'CMCSA',\n",
    " 'CRM',\n",
    " 'PM',\n",
    " 'MS',\n",
    " 'AMGN',\n",
    " 'SCHW',\n",
    " 'HON',\n",
    " 'RTX',\n",
    " 'QCOM',\n",
    " 'T',\n",
    " 'IBM',\n",
    " 'DE',\n",
    " 'CVS',\n",
    " 'LOW',\n",
    " 'GS',\n",
    " 'UNP',\n",
    " 'NFLX',\n",
    " 'LMT',\n",
    " 'CAT',\n",
    " 'AMD',\n",
    " 'INTC',\n",
    " 'ELV',\n",
    " 'SPGI',\n",
    " 'AXP',\n",
    " 'SBUX',\n",
    " 'INTU',\n",
    " 'BLK',\n",
    " 'ADP',\n",
    " 'GILD',\n",
    " 'PLD',\n",
    " 'MDT',\n",
    " 'BA',\n",
    " 'AMT',\n",
    " 'CI',\n",
    " 'GE',\n",
    " 'TJX',\n",
    " 'ISRG',\n",
    " 'C',\n",
    " 'AMAT',\n",
    " 'PYPL',\n",
    " 'MDLZ',\n",
    " 'CB',\n",
    " 'SYK',\n",
    " 'ADI',\n",
    " 'MMC',\n",
    " 'EOG',\n",
    " 'NOW',\n",
    " 'VRTX',\n",
    " 'MO',\n",
    " 'NOC',\n",
    " 'EL',\n",
    " 'REGN',\n",
    " 'PGR',\n",
    " 'BKNG',\n",
    " 'DUK',\n",
    " 'TGT',\n",
    " 'SLB',\n",
    " 'SO',\n",
    " 'MMM',\n",
    " 'ITW',\n",
    " 'ZTS',\n",
    " 'GD',\n",
    " 'APD',\n",
    " 'HUM',\n",
    " 'MRNA',\n",
    " 'BDX',\n",
    " 'CSX',\n",
    " 'WM',\n",
    " 'PNC',\n",
    " 'HCA',\n",
    " 'ETN',\n",
    " 'USB',\n",
    " 'FISV',\n",
    " 'SHW',\n",
    " 'OXY',\n",
    " 'CL',\n",
    " 'MU',\n",
    " 'CME',\n",
    " 'AON',\n",
    " 'LRCX',\n",
    " 'BSX',\n",
    " 'EQIX',\n",
    " 'TFC',\n",
    " 'PXD',\n",
    " 'CHTR',\n",
    " 'CCI',\n",
    " 'MET',\n",
    " 'ATVI',\n",
    " 'ICE',\n",
    " 'MPC',\n",
    " 'NSC',\n",
    " 'DG',\n",
    " 'GM',\n",
    " 'EMR',\n",
    " 'F',\n",
    " 'KLAC',\n",
    " 'MCO',\n",
    " 'FCX',\n",
    " 'KDP',\n",
    " 'MNST',\n",
    " 'MCK',\n",
    " 'VLO',\n",
    " 'ORLY',\n",
    " 'ADM',\n",
    " 'PSX',\n",
    " 'PSA',\n",
    " 'SRE',\n",
    " 'SNPS',\n",
    " 'MAR',\n",
    " 'D',\n",
    " 'GIS',\n",
    " 'AEP',\n",
    " 'AZO',\n",
    " 'KHC',\n",
    " 'APH',\n",
    " 'HSY',\n",
    " 'CNC',\n",
    " 'CTVA',\n",
    " 'EW',\n",
    " 'CTAS',\n",
    " 'A',\n",
    " 'ROP',\n",
    " 'JCI',\n",
    " 'CDNS',\n",
    " 'FDX',\n",
    " 'NXPI',\n",
    " 'AIG',\n",
    " 'KMB',\n",
    " 'AFL',\n",
    " 'HES',\n",
    " 'MSI',\n",
    " 'PAYX',\n",
    " 'DVN',\n",
    " 'TRV',\n",
    " 'BIIB',\n",
    " 'DXCM',\n",
    " 'SYY',\n",
    " 'LHX',\n",
    " 'RSG',\n",
    " 'ENPH',\n",
    " 'ECL',\n",
    " 'ADSK',\n",
    " 'MCHP',\n",
    " 'ANET',\n",
    " 'KMI',\n",
    " 'CMG',\n",
    " 'FTNT',\n",
    " 'AJG',\n",
    " 'STZ',\n",
    " 'TT',\n",
    " 'WMB',\n",
    " 'MSCI',\n",
    " 'O',\n",
    " 'IQV',\n",
    " 'TEL',\n",
    " 'ROST',\n",
    " 'PRU',\n",
    " 'EXC',\n",
    " 'PH',\n",
    " 'FIS',\n",
    " 'SPG',\n",
    " 'COF',\n",
    " 'NUE',\n",
    " 'XEL',\n",
    " 'HLT',\n",
    " 'CARR',\n",
    " 'PCAR',\n",
    " 'BK',\n",
    " 'NEM',\n",
    " 'DOW',\n",
    " 'EA',\n",
    " 'WBA',\n",
    " 'DD',\n",
    " 'ALL',\n",
    " 'YUM',\n",
    " 'AMP',\n",
    " 'CMI',\n",
    " 'ILMN',\n",
    " 'BF.B',\n",
    " 'TDG',\n",
    " 'IDXX',\n",
    " 'ED',\n",
    " 'KR',\n",
    " 'ABC',\n",
    " 'DLTR',\n",
    " 'RMD',\n",
    " 'ALB',\n",
    " 'HAL',\n",
    " 'NDAQ',\n",
    " 'LVS',\n",
    " 'ODFL',\n",
    " 'WELL',\n",
    " 'AME',\n",
    " 'CSGP',\n",
    " 'OTIS',\n",
    " 'MTD',\n",
    " 'SBAC',\n",
    " 'ON',\n",
    " 'VICI',\n",
    " 'DLR',\n",
    " 'CEG',\n",
    " 'KEYS',\n",
    " 'PPG',\n",
    " 'WEC',\n",
    " 'CTSH',\n",
    " 'ROK',\n",
    " 'GWW',\n",
    " 'PCG',\n",
    " 'HPQ',\n",
    " 'FAST',\n",
    " 'DFS',\n",
    " 'MTB',\n",
    " 'PEG',\n",
    " 'OKE',\n",
    " 'DHI',\n",
    " 'APTV',\n",
    " 'BKR',\n",
    " 'GLW',\n",
    " 'LYB',\n",
    " 'ES',\n",
    " 'BAX',\n",
    " 'STT',\n",
    " 'VRSK',\n",
    " 'TROW',\n",
    " 'WBD',\n",
    " 'AWK',\n",
    " 'IT',\n",
    " 'GPN',\n",
    " 'HRL',\n",
    " 'FANG',\n",
    " 'WTW',\n",
    " 'RJF',\n",
    " 'GPC',\n",
    " 'IFF',\n",
    " 'CDW',\n",
    " 'TSCO',\n",
    " 'FITB',\n",
    " 'ARE',\n",
    " 'URI',\n",
    " 'ZBH',\n",
    " 'K',\n",
    " 'LEN',\n",
    " 'EBAY',\n",
    " 'EIX',\n",
    " 'CBRE',\n",
    " 'EFX',\n",
    " 'VMC',\n",
    " 'TSN',\n",
    " 'HIG',\n",
    " 'FTV',\n",
    " 'WY',\n",
    " 'EQR',\n",
    " 'AVB',\n",
    " 'MKC',\n",
    " 'ETR',\n",
    " 'LUV',\n",
    " 'ULTA',\n",
    " 'AEE',\n",
    " 'MLM',\n",
    " 'FE',\n",
    " 'PFG',\n",
    " 'FRC',\n",
    " 'DTE',\n",
    " 'DAL',\n",
    " 'HBAN',\n",
    " 'IR',\n",
    " 'CTRA',\n",
    " 'ANSS',\n",
    " 'ACGL',\n",
    " 'PPL',\n",
    " 'RF',\n",
    " 'VRSN',\n",
    " 'LH',\n",
    " 'EXR',\n",
    " 'PWR',\n",
    " 'CF',\n",
    " 'CAH',\n",
    " 'CFG',\n",
    " 'XYL',\n",
    " 'HPE',\n",
    " 'EPAM',\n",
    " 'DOV',\n",
    " 'WAT',\n",
    " 'WRB',\n",
    " 'TDY',\n",
    " 'PAYC',\n",
    " 'ROL',\n",
    " 'NTRS',\n",
    " 'MRO',\n",
    " 'CNP',\n",
    " 'INVH',\n",
    " 'CHD',\n",
    " 'AES',\n",
    " 'MOH',\n",
    " 'JBHT',\n",
    " 'MAA',\n",
    " 'BBY',\n",
    " 'CLX',\n",
    " 'HOLX',\n",
    " 'WAB',\n",
    " 'DRI',\n",
    " 'EXPD',\n",
    " 'STE',\n",
    " 'AMCR',\n",
    " 'VTR',\n",
    " 'IEX',\n",
    " 'CAG',\n",
    " 'CMS',\n",
    " 'KEY',\n",
    " 'MPWR',\n",
    " 'BALL',\n",
    " 'J',\n",
    " 'BR',\n",
    " 'GRMN',\n",
    " 'PKI',\n",
    " 'TTWO',\n",
    " 'INCY',\n",
    " 'FDS',\n",
    " 'MOS',\n",
    " 'SEDG',\n",
    " 'CINF',\n",
    " 'ABMD',\n",
    " 'DGX',\n",
    " 'WST',\n",
    " 'ATO',\n",
    " 'TRGP',\n",
    " 'BRO',\n",
    " 'SYF',\n",
    " 'FOX',\n",
    " 'FOXA',\n",
    " 'NTAP',\n",
    " 'FMC',\n",
    " 'EQT',\n",
    " 'OMC',\n",
    " 'SJM',\n",
    " 'LYV',\n",
    " 'CPB',\n",
    " 'HWM',\n",
    " 'CPRT',\n",
    " 'AVY',\n",
    " 'IRM',\n",
    " 'COO',\n",
    " 'ALGN',\n",
    " 'SWKS',\n",
    " 'EXPE',\n",
    " 'RCL',\n",
    " 'ETSY',\n",
    " 'APA',\n",
    " 'GEN',\n",
    " 'TXT',\n",
    " 'LDOS',\n",
    " 'LKQ',\n",
    " 'TER',\n",
    " 'PTC',\n",
    " 'TRMB',\n",
    " 'AKAM',\n",
    " 'NVR',\n",
    " 'UAL',\n",
    " 'LNT',\n",
    " 'FLT',\n",
    " 'KIM',\n",
    " 'ZBRA',\n",
    " 'TYL',\n",
    " 'DPZ',\n",
    " 'JKHY',\n",
    " 'MGM',\n",
    " 'ESS',\n",
    " 'L',\n",
    " 'PEAK',\n",
    " 'MTCH',\n",
    " 'NDSN',\n",
    " 'EVRG',\n",
    " 'VTRS',\n",
    " 'IPG',\n",
    " 'BEN',\n",
    " 'CBOE',\n",
    " 'TECH',\n",
    " 'SIVB',\n",
    " 'VFC',\n",
    " 'IP',\n",
    " 'HST',\n",
    " 'UDR',\n",
    " 'POOL',\n",
    " 'RE',\n",
    " 'PARA',\n",
    " 'SNA',\n",
    " 'CPT',\n",
    " 'LW',\n",
    " 'PKG',\n",
    " 'CRL',\n",
    " 'SWK',\n",
    " 'BIO',\n",
    " 'WDC',\n",
    " 'CHRW',\n",
    " 'STX',\n",
    " 'MAS',\n",
    " 'GL',\n",
    " 'CE',\n",
    " 'REG',\n",
    " 'NI',\n",
    " 'BXP',\n",
    " 'HSIC',\n",
    " 'CCL',\n",
    " 'TFX',\n",
    " 'CZR',\n",
    " 'NWS',\n",
    " 'NWSA',\n",
    " 'KMX',\n",
    " 'EMN',\n",
    " 'JNPR',\n",
    " 'PHM',\n",
    " 'CDAY',\n",
    " 'ALLE',\n",
    " 'QRVO',\n",
    " 'BWA',\n",
    " 'NRG',\n",
    " 'MKTX',\n",
    " 'WRK',\n",
    " 'UHS',\n",
    " 'FFIV',\n",
    " 'AOS',\n",
    " 'CMA',\n",
    " 'AAL',\n",
    " 'BBWI',\n",
    " 'HII',\n",
    " 'AAP',\n",
    " 'TPR',\n",
    " 'FRT',\n",
    " 'IVZ',\n",
    " 'PNW',\n",
    " 'HAS',\n",
    " 'WYNN',\n",
    " 'FBHS',\n",
    " 'SBNY',\n",
    " 'DISH',\n",
    " 'RHI',\n",
    " 'WHR',\n",
    " 'ZION',\n",
    " 'CTLT',\n",
    " 'PNR',\n",
    " 'SEE',\n",
    " 'RL',\n",
    " 'NCLH',\n",
    " 'DXC',\n",
    " 'GNRC',\n",
    " 'AIZ',\n",
    " 'XRAY',\n",
    " 'LNC',\n",
    " 'DVA',\n",
    " 'MHK',\n",
    " 'OGN',\n",
    " 'LUMN',\n",
    " 'ALK',\n",
    " 'NWL',\n",
    " 'VNO',\n",
    " 'TAP']"
   ]
  },
  {
   "cell_type": "markdown",
   "id": "7c92a8be",
   "metadata": {
    "heading_collapsed": true,
    "hidden": true
   },
   "source": [
    "## Boucle download"
   ]
  },
  {
   "cell_type": "markdown",
   "id": "b8e212a2",
   "metadata": {
    "heading_collapsed": true,
    "hidden": true
   },
   "source": [
    "### CSV"
   ]
  },
  {
   "cell_type": "code",
   "execution_count": null,
   "id": "eb690ee2",
   "metadata": {
    "hidden": true
   },
   "outputs": [],
   "source": [
    "#Import en CSV, lance la requète toutes les 21 secondes, le CSV se crée là où se situe le notebook\n",
    "\n",
    "#import requests\n",
    "\n",
    "#for i in list_comp :\n",
    "#    url = f'https://www.alphavantage.co/query?function=OVERVIEW&symbol={i}&apikey=1BKEZCMKUSE99CKJ&datatype=csv'\n",
    "#    response = requests.get(url)\n",
    "#    open(f'data_{i}.csv',\"wb\").write(response.content)\n",
    "#     time.sleep(21)\n"
   ]
  },
  {
   "cell_type": "markdown",
   "id": "8f8e593e",
   "metadata": {
    "heading_collapsed": true,
    "hidden": true
   },
   "source": [
    "### JSON"
   ]
  },
  {
   "cell_type": "code",
   "execution_count": 61,
   "id": "cce5d206",
   "metadata": {
    "hidden": true
   },
   "outputs": [
    {
     "data": {
      "text/html": [
       "<div>\n",
       "<style scoped>\n",
       "    .dataframe tbody tr th:only-of-type {\n",
       "        vertical-align: middle;\n",
       "    }\n",
       "\n",
       "    .dataframe tbody tr th {\n",
       "        vertical-align: top;\n",
       "    }\n",
       "\n",
       "    .dataframe thead th {\n",
       "        text-align: right;\n",
       "    }\n",
       "</style>\n",
       "<table border=\"1\" class=\"dataframe\">\n",
       "  <thead>\n",
       "    <tr style=\"text-align: right;\">\n",
       "      <th></th>\n",
       "      <th>fiscalDateEnding</th>\n",
       "      <th>reportedDate</th>\n",
       "      <th>reportedEPS</th>\n",
       "      <th>estimatedEPS</th>\n",
       "      <th>surprise</th>\n",
       "      <th>surprisePercentage</th>\n",
       "    </tr>\n",
       "  </thead>\n",
       "  <tbody>\n",
       "    <tr>\n",
       "      <th>0</th>\n",
       "      <td>2022-09-30</td>\n",
       "      <td>2022-11-01</td>\n",
       "      <td>1.32</td>\n",
       "      <td>1.36</td>\n",
       "      <td>-0.04</td>\n",
       "      <td>-2.9412</td>\n",
       "    </tr>\n",
       "    <tr>\n",
       "      <th>1</th>\n",
       "      <td>2022-06-30</td>\n",
       "      <td>2022-08-02</td>\n",
       "      <td>1.19</td>\n",
       "      <td>1.19</td>\n",
       "      <td>0</td>\n",
       "      <td>0</td>\n",
       "    </tr>\n",
       "    <tr>\n",
       "      <th>2</th>\n",
       "      <td>2022-03-31</td>\n",
       "      <td>2022-05-03</td>\n",
       "      <td>0.29</td>\n",
       "      <td>0.19</td>\n",
       "      <td>0.1</td>\n",
       "      <td>52.6316</td>\n",
       "    </tr>\n",
       "    <tr>\n",
       "      <th>3</th>\n",
       "      <td>2021-12-31</td>\n",
       "      <td>2022-02-23</td>\n",
       "      <td>0.81</td>\n",
       "      <td>0.86</td>\n",
       "      <td>-0.05</td>\n",
       "      <td>-5.814</td>\n",
       "    </tr>\n",
       "    <tr>\n",
       "      <th>4</th>\n",
       "      <td>2021-09-30</td>\n",
       "      <td>2021-10-28</td>\n",
       "      <td>1.75</td>\n",
       "      <td>1.53</td>\n",
       "      <td>0.22</td>\n",
       "      <td>14.3791</td>\n",
       "    </tr>\n",
       "    <tr>\n",
       "      <th>...</th>\n",
       "      <td>...</td>\n",
       "      <td>...</td>\n",
       "      <td>...</td>\n",
       "      <td>...</td>\n",
       "      <td>...</td>\n",
       "      <td>...</td>\n",
       "    </tr>\n",
       "    <tr>\n",
       "      <th>102</th>\n",
       "      <td>1997-03-31</td>\n",
       "      <td>1997-04-24</td>\n",
       "      <td>0.11</td>\n",
       "      <td>0.01</td>\n",
       "      <td>0.1</td>\n",
       "      <td>1000</td>\n",
       "    </tr>\n",
       "    <tr>\n",
       "      <th>103</th>\n",
       "      <td>1996-12-31</td>\n",
       "      <td>1997-02-18</td>\n",
       "      <td>0.05</td>\n",
       "      <td>-0.01</td>\n",
       "      <td>0.06</td>\n",
       "      <td>600</td>\n",
       "    </tr>\n",
       "    <tr>\n",
       "      <th>104</th>\n",
       "      <td>1996-09-30</td>\n",
       "      <td>1996-10-31</td>\n",
       "      <td>0.19</td>\n",
       "      <td>0.28</td>\n",
       "      <td>-0.09</td>\n",
       "      <td>-32.1429</td>\n",
       "    </tr>\n",
       "    <tr>\n",
       "      <th>105</th>\n",
       "      <td>1996-06-30</td>\n",
       "      <td>1996-07-29</td>\n",
       "      <td>0.36</td>\n",
       "      <td>0.25</td>\n",
       "      <td>0.11</td>\n",
       "      <td>44</td>\n",
       "    </tr>\n",
       "    <tr>\n",
       "      <th>106</th>\n",
       "      <td>1996-03-31</td>\n",
       "      <td>1996-04-19</td>\n",
       "      <td>-0.04</td>\n",
       "      <td>-0.01</td>\n",
       "      <td>-0.03</td>\n",
       "      <td>-300</td>\n",
       "    </tr>\n",
       "  </tbody>\n",
       "</table>\n",
       "<p>107 rows × 6 columns</p>\n",
       "</div>"
      ],
      "text/plain": [
       "    fiscalDateEnding reportedDate reportedEPS estimatedEPS surprise  \\\n",
       "0         2022-09-30   2022-11-01        1.32         1.36    -0.04   \n",
       "1         2022-06-30   2022-08-02        1.19         1.19        0   \n",
       "2         2022-03-31   2022-05-03        0.29         0.19      0.1   \n",
       "3         2021-12-31   2022-02-23        0.81         0.86    -0.05   \n",
       "4         2021-09-30   2021-10-28        1.75         1.53     0.22   \n",
       "..               ...          ...         ...          ...      ...   \n",
       "102       1997-03-31   1997-04-24        0.11         0.01      0.1   \n",
       "103       1996-12-31   1997-02-18        0.05        -0.01     0.06   \n",
       "104       1996-09-30   1996-10-31        0.19         0.28    -0.09   \n",
       "105       1996-06-30   1996-07-29        0.36         0.25     0.11   \n",
       "106       1996-03-31   1996-04-19       -0.04        -0.01    -0.03   \n",
       "\n",
       "    surprisePercentage  \n",
       "0              -2.9412  \n",
       "1                    0  \n",
       "2              52.6316  \n",
       "3               -5.814  \n",
       "4              14.3791  \n",
       "..                 ...  \n",
       "102               1000  \n",
       "103                600  \n",
       "104           -32.1429  \n",
       "105                 44  \n",
       "106               -300  \n",
       "\n",
       "[107 rows x 6 columns]"
      ]
     },
     "execution_count": 61,
     "metadata": {},
     "output_type": "execute_result"
    }
   ],
   "source": [
    "#Import en Json, transforme en CSV\n",
    "import requests\n",
    "import time\n",
    "\n",
    "for i in list_ent :\n",
    "    url = f'https://www.alphavantage.co/query?function=EARNINGS&symbol={i}&apikey=1BKEZCMKUSE99CKJ'\n",
    "    r = requests.get(url)\n",
    "    data = r.json()[\"quarterlyEarnings\"]\n",
    "    data = pd.DataFrame(data)\n",
    "    data.to_csv(f'data_{i}.csv')\n",
    "    time.sleep(13)\n",
    "#    open(f'data_{i}.csv',\"wb\").write(data)\n",
    "data"
   ]
  },
  {
   "cell_type": "markdown",
   "id": "e6eaf1b2",
   "metadata": {
    "heading_collapsed": true
   },
   "source": [
    "# Split the DataSet"
   ]
  },
  {
   "cell_type": "code",
   "execution_count": null,
   "id": "234d47f2",
   "metadata": {
    "hidden": true
   },
   "outputs": [],
   "source": []
  },
  {
   "cell_type": "code",
   "execution_count": null,
   "id": "852de03f",
   "metadata": {
    "hidden": true
   },
   "outputs": [],
   "source": [
    "#Définir les variables"
   ]
  },
  {
   "cell_type": "code",
   "execution_count": null,
   "id": "9d4d054e",
   "metadata": {
    "hidden": true
   },
   "outputs": [],
   "source": [
    "from sklearn.model_selection import train_test_split\n",
    "\n",
    "X_train, X_test, y_train, y_test = train_test_split(X, y, test_size=0.20)"
   ]
  },
  {
   "cell_type": "markdown",
   "id": "7c8d43c8",
   "metadata": {
    "heading_collapsed": true,
    "hidden": true
   },
   "source": [
    "## Creating FOLDS for cross-validation"
   ]
  },
  {
   "cell_type": "code",
   "execution_count": null,
   "id": "70e9d0cc",
   "metadata": {
    "hidden": true
   },
   "outputs": [],
   "source": [
    "fold_length = 252 #1 an\n",
    "fold_stride = 1 #1 jour"
   ]
  },
  {
   "cell_type": "code",
   "execution_count": null,
   "id": "337bbb82",
   "metadata": {
    "hidden": true
   },
   "outputs": [],
   "source": [
    "def get_folds(\n",
    "    df: pd.DataFrame,\n",
    "    fold_length: int,\n",
    "    fold_stride: int) -> List[pd.DataFrame]:\n",
    "    '''\n",
    "    This function slides through the Time Series dataframe of shape (n_timesteps, n_features) to create folds\n",
    "    - of equal `fold_length`\n",
    "    - using `fold_stride` between each fold\n",
    "    \n",
    "    Returns a list of folds, each as a DataFrame\n",
    "    '''\n",
    "    # $CHALLENGIFY_BEGIN\n",
    "    \n",
    "    folds = []\n",
    "    for idx in range(0, len(df), fold_stride):\n",
    "        # Exits the loop as soon as the last fold index would exceed the last index\n",
    "        if (idx + fold_length) > len(df):\n",
    "            break\n",
    "        fold = df.iloc[idx:idx + fold_length, :]\n",
    "        folds.append(fold)\n",
    "    return folds\n",
    "\n",
    "    # $CHALLENGIFY_END"
   ]
  },
  {
   "cell_type": "markdown",
   "id": "5be0da1c",
   "metadata": {
    "heading_collapsed": true,
    "hidden": true
   },
   "source": [
    "## Temporal Train/Test Split"
   ]
  },
  {
   "cell_type": "code",
   "execution_count": null,
   "id": "4c0815c6",
   "metadata": {
    "hidden": true
   },
   "outputs": [],
   "source": [
    "train_test_ratio:\n",
    "input_length:"
   ]
  },
  {
   "cell_type": "code",
   "execution_count": null,
   "id": "f077b3b8",
   "metadata": {
    "hidden": true
   },
   "outputs": [],
   "source": [
    "def train_test_split(fold: pd.DataFrame, \n",
    "                     train_test_ratio: float,\n",
    "                     input_length: int, \n",
    "                     horizon: int) -> Tuple[pd.DataFrame]:\n",
    "    '''\n",
    "    Returns a train dataframe and a test dataframe (fold_train, fold_test)\n",
    "    from which one can sample (X,y) sequences.\n",
    "    df_train should contain all the timesteps until round(train_test_ratio * len(fold))   \n",
    "    '''\n",
    "    # $CHALLENGIFY_BEGIN\n",
    "\n",
    "    # TRAIN SET\n",
    "    # ======================\n",
    "    last_train_idx = round(train_test_ratio * len(fold))\n",
    "    fold_train = fold.iloc[0:last_train_idx, :]\n",
    "\n",
    "    # TEST SET\n",
    "    # ======================\n",
    "    first_test_idx = last_train_idx - input_length\n",
    "    fold_test = fold.iloc[first_test_idx:, :]\n",
    "\n",
    "    return (fold_train, fold_test)\n",
    "\n",
    "    # $CHALLENGIFY_END"
   ]
  },
  {
   "cell_type": "markdown",
   "id": "c0dda813",
   "metadata": {
    "heading_collapsed": true,
    "hidden": true
   },
   "source": [
    "## Create (X, y) sequences"
   ]
  },
  {
   "cell_type": "code",
   "execution_count": null,
   "id": "892d6b58",
   "metadata": {
    "hidden": true
   },
   "outputs": [],
   "source": []
  },
  {
   "cell_type": "code",
   "execution_count": null,
   "id": "3ab44e78",
   "metadata": {
    "hidden": true
   },
   "outputs": [],
   "source": [
    "input_length:\n",
    "output_length:\n",
    "sequence_stride:"
   ]
  },
  {
   "cell_type": "code",
   "execution_count": null,
   "id": "6adbb10e",
   "metadata": {
    "hidden": true
   },
   "outputs": [],
   "source": [
    "def get_X_y_strides(fold: pd.DataFrame, input_length: int, output_length: int, sequence_stride: int):\n",
    "    '''\n",
    "    - slides through a `fold` Time Series (2D array) to create sequences of equal\n",
    "        * `input_length` for X,\n",
    "        * `output_length` for y,\n",
    "    using a temporal gap `sequence_stride` between each sequence\n",
    "    - returns a list of sequences, each as a 2D-array time series\n",
    "    '''\n",
    "\n",
    "    X, y = [], []\n",
    "\n",
    "    for i in range(0, len(fold), sequence_stride):\n",
    "        # Exits the loop as soon as the last fold index would exceed the last index\n",
    "        if (i + input_length + output_length) > len(fold):\n",
    "            break\n",
    "        X_i = fold.iloc[i:i + input_length, :]\n",
    "        y_i = fold.iloc[i + input_length:i + input_length + output_length, :][[TARGET]]\n",
    "        X.append(X_i)\n",
    "        y.append(y_i)\n",
    "\n",
    "    return np.array(X), np.array(y)"
   ]
  },
  {
   "cell_type": "code",
   "execution_count": null,
   "id": "ff430bc0",
   "metadata": {
    "hidden": true
   },
   "outputs": [],
   "source": [
    "X_train, y_train = get_X_y_strides(fold_train, INPUT_LENGTH, OUTPUT_LENGTH, SEQUENCE_STRIDE)\n",
    "X_test, y_test = get_X_y_strides(fold_test, INPUT_LENGTH, OUTPUT_LENGTH, SEQUENCE_STRIDE)\n",
    "\n",
    "#print(X_train.shape)\n",
    "#print(y_train.shape)"
   ]
  },
  {
   "cell_type": "markdown",
   "id": "aa0e4bea",
   "metadata": {
    "heading_collapsed": true
   },
   "source": [
    "# Baseline"
   ]
  },
  {
   "cell_type": "code",
   "execution_count": null,
   "id": "71d58847",
   "metadata": {
    "hidden": true
   },
   "outputs": [],
   "source": []
  },
  {
   "cell_type": "markdown",
   "id": "921da3a1",
   "metadata": {
    "hidden": true
   },
   "source": [
    "The Mean Absolute Error seems to be a reasonable metrics to evaluate a model's capability to predict the temperature:\n",
    "\n",
    "$$ MAE = \\frac{1}{n_{samples}} \\times \\sum_{i = 1}^{n_{samples}} |y_{true}^{(i)} - y_{pred}^{(i)}|$$"
   ]
  },
  {
   "cell_type": "code",
   "execution_count": null,
   "id": "1f10cad8",
   "metadata": {
    "hidden": true
   },
   "outputs": [],
   "source": [
    "TARGET_COLUMN_IDX = 1 # the second column of each fold corresponds to the temperature\n",
    "\n",
    "def last_seen_value_baseline(X, y):\n",
    "\n",
    "    # How many values do you want to predict in the future ?\n",
    "    output_length = y.shape[-1]\n",
    "    \n",
    "    # For each sequence, let's consider the last seen value\n",
    "    # and only the temperature column\n",
    "    last_seen_values = X[:,-1, TARGET_COLUMN_IDX].reshape(-1,1)\n",
    "\n",
    "    # We need to duplicate these values as many times as output_length\n",
    "    # The author of this notebook did not know how to do it, so they searched on Stackoverflow\n",
    "    # and found this nice np.repeat in Numpy, which is self-explanatory\n",
    "    repeated = np.repeat(last_seen_values, axis = 1, repeats = output_length)\n",
    "\n",
    "    return np.mean(np.abs(y_test - repeated))"
   ]
  },
  {
   "cell_type": "markdown",
   "id": "7d0cece1",
   "metadata": {
    "heading_collapsed": true
   },
   "source": [
    "# Cross-validate"
   ]
  },
  {
   "cell_type": "code",
   "execution_count": null,
   "id": "b1bed87f",
   "metadata": {
    "hidden": true
   },
   "outputs": [],
   "source": [
    "from sklearn.model_selection import cross_validate\n",
    "\n",
    "def cross_validate():\n",
    "    '''\n",
    "    This function cross-validates \n",
    "    '''\n",
    "    list_of_score_model = []\n",
    "    \n",
    "    # 0 - Creating folds\n",
    "    # =========================================    \n",
    "    folds = get_folds(df, FOLD_LENGTH, FOLD_STRIDE)\n",
    "    \n",
    "    for fold_id, fold in enumerate(folds):\n",
    "        \n",
    "        # 1 - Train/Test split the current fold\n",
    "        # =========================================\n",
    "        (fold_train, fold_test) = train_test_split(fold, TRAIN_TEST_RATIO, INPUT_LENGTH)                   \n",
    "\n",
    "        X_train, y_train = get_X_y_strides(fold_train, INPUT_LENGTH, OUTPUT_LENGTH, SEQUENCE_STRIDE)\n",
    "        X_test, y_test = get_X_y_strides(fold_test, INPUT_LENGTH, OUTPUT_LENGTH, SEQUENCE_STRIDE)\n",
    "        \n",
    "        # 2 - Modelling\n",
    "        # =========================================\n",
    "        model = LinearRegression()\n",
    "        cv_results = cross_validate(model, X, y, cv=5)\n",
    "        cvr = cv_results['test_score'].mean()\n",
    "        list_of_score_model.append(cvr)\n",
    "\n",
    "    return list_of_score_model"
   ]
  },
  {
   "cell_type": "code",
   "execution_count": null,
   "id": "799022cf",
   "metadata": {
    "hidden": true
   },
   "outputs": [],
   "source": [
    "cv = cross_validate()"
   ]
  }
 ],
 "metadata": {
  "kernelspec": {
   "display_name": "Python 3 (ipykernel)",
   "language": "python",
   "name": "python3"
  },
  "language_info": {
   "codemirror_mode": {
    "name": "ipython",
    "version": 3
   },
   "file_extension": ".py",
   "mimetype": "text/x-python",
   "name": "python",
   "nbconvert_exporter": "python",
   "pygments_lexer": "ipython3",
   "version": "3.10.6"
  },
  "toc": {
   "base_numbering": 1,
   "nav_menu": {},
   "number_sections": true,
   "sideBar": true,
   "skip_h1_title": false,
   "title_cell": "Table of Contents",
   "title_sidebar": "Contents",
   "toc_cell": false,
   "toc_position": {},
   "toc_section_display": true,
   "toc_window_display": false
  }
 },
 "nbformat": 4,
 "nbformat_minor": 5
}
